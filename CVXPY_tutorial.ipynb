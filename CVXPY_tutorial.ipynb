{
 "cells": [
  {
   "cell_type": "markdown",
   "metadata": {},
   "source": [
    "<font size=\"8\">What is CVXPY?</font>"
   ]
  },
  {
   "cell_type": "markdown",
   "metadata": {},
   "source": [
    "This workbook is based on https://www.cvxpy.org/index.html"
   ]
  },
  {
   "cell_type": "markdown",
   "metadata": {},
   "source": [
    "CVXPY is an open source Python-embedded modeling language for convex optimization problems.It automatically transforms the problem into standard form, calls a solver, and unpacks the results."
   ]
  },
  {
   "cell_type": "markdown",
   "metadata": {},
   "source": [
    "<font size=\"8\">Example</font>"
   ]
  },
  {
   "cell_type": "markdown",
   "metadata": {},
   "source": [
    "\\begin{align*}\n",
    "\\text{minimize: } & (x-y)^2, \\\\\n",
    "\\text{subject to: } & x+y=1, \\\\\n",
    " & x-y \\geq 1, \\\\\n",
    "\\end{align*}\n",
    "where $x,y \\in \\mathbb{R}$"
   ]
  },
  {
   "cell_type": "code",
   "execution_count": 18,
   "metadata": {},
   "outputs": [
    {
     "name": "stdout",
     "output_type": "stream",
     "text": [
      "status: optimal\n",
      "optimal value 1.0\n",
      "optimal var x is 1.0 y is 1.570086213240983e-22\n"
     ]
    }
   ],
   "source": [
    "import cvxpy as cp\n",
    "import numpy as np\n",
    "from cvxpy import Constraint\n",
    "\n",
    "# Create two scalar optimization variables.\n",
    "x = cp.Variable()\n",
    "y = cp.Variable()\n",
    "\n",
    "# Create two constraints.\n",
    "constraints:list[Constraint] = [x + y == 1,\n",
    "                                x - y >= 1]\n",
    "\n",
    "# Form objective.\n",
    "obj = cp.Minimize((x - y)**2)\n",
    "\n",
    "# Form and solve problem.\n",
    "prob = cp.Problem(obj, constraints)\n",
    "\n",
    "prob.solve()  # Returns the optimal value.\n",
    "\n",
    "print(\"status:\", prob.status)\n",
    "print(\"optimal value\", prob.value)\n",
    "print(\"optimal var\",'x is', x.value,'y is', y.value)"
   ]
  },
  {
   "cell_type": "markdown",
   "metadata": {},
   "source": [
    "<font size=\"8\">Status</font>"
   ]
  },
  {
   "cell_type": "markdown",
   "metadata": {},
   "source": [
    "- OPTIMAL\n",
    "\n",
    "- INFEASIBLE\n",
    "\n",
    "- UNBOUNDED\n",
    "\n",
    "- OPTIMAL_INACCURATE\n",
    "\n",
    "- INFEASIBLE_INACCURATE\n",
    "\n",
    "- UNBOUNDED_INACCURATE\n",
    "\n",
    "- INFEASIBLE_OR_UNBOUNDED"
   ]
  },
  {
   "cell_type": "markdown",
   "metadata": {},
   "source": [
    "<font size=\"8\">Variable</font>"
   ]
  },
  {
   "cell_type": "markdown",
   "metadata": {},
   "source": [
    "Variables can be scalars, vectors, or matrices, meaning they are 0, 1, or 2 dimensional."
   ]
  },
  {
   "cell_type": "code",
   "execution_count": 19,
   "metadata": {},
   "outputs": [],
   "source": [
    "# A scalar variable.\n",
    "a = cp.Variable()\n",
    "\n",
    "# Vector variable with shape (5,).\n",
    "x = cp.Variable(5)\n",
    "\n",
    "# Matrix variable with shape (5, 1).\n",
    "x = cp.Variable((5, 1))\n",
    "\n",
    "# Matrix variable with shape (4, 7).\n",
    "A = cp.Variable((4, 7))"
   ]
  },
  {
   "cell_type": "markdown",
   "metadata": {},
   "source": [
    "<font size=\"6\">Currently the following types may be used as constants:</font>\n",
    "\n",
    "- NumPy ndarrays\n",
    "\n",
    "- NumPy matrices\n",
    "\n",
    "- SciPy sparse matrices"
   ]
  },
  {
   "cell_type": "markdown",
   "metadata": {},
   "source": [
    "<font size=\"8\">Example</font>"
   ]
  },
  {
   "cell_type": "markdown",
   "metadata": {},
   "source": [
    "\\begin{align*}\n",
    "\\text{minimize: } & \\sum_{ij}(Ax-b)^2, \\\\\n",
    "\\text{subject to: } & x \\geq 0 \\\\\n",
    " & x \\leq 1, \\\\\n",
    "\\end{align*}"
   ]
  },
  {
   "cell_type": "code",
   "execution_count": 20,
   "metadata": {},
   "outputs": [
    {
     "name": "stdout",
     "output_type": "stream",
     "text": [
      "status: optimal\n",
      "Optimal value 4.141338603672535\n",
      "Optimal var\n",
      "x is  [-4.95922264e-21  6.07571976e-21  1.34643668e-01  1.24976681e-01\n",
      " -4.57130806e-21]\n"
     ]
    }
   ],
   "source": [
    "# Solves a bounded least-squares problem.\n",
    "\n",
    "import cvxpy as cp\n",
    "import numpy\n",
    "\n",
    "# Problem data.\n",
    "m = 10\n",
    "n = 5\n",
    "numpy.random.seed(1)\n",
    "A = numpy.random.randn(m, n)\n",
    "b = numpy.random.randn(m)\n",
    "\n",
    "# Construct the problem.\n",
    "x = cp.Variable(n)\n",
    "objective = cp.Minimize(cp.sum_squares(A @ x - b))\n",
    "constraints = [0 <= x, x <= 1]\n",
    "prob = cp.Problem(objective, constraints)\n",
    "prob.solve()\n",
    "\n",
    "print(\"status:\", prob.status)\n",
    "print(\"Optimal value\", prob.value)\n",
    "print(\"Optimal var\")\n",
    "print('x is ',x.value) # A numpy ndarray."
   ]
  },
  {
   "cell_type": "markdown",
   "metadata": {},
   "source": [
    "<font size=\"8\">Constraints</font>"
   ]
  },
  {
   "cell_type": "markdown",
   "metadata": {},
   "source": [
    "As shown in the example code, you can use ==, <=, and >= to construct constraints in CVXPY. Equality and inequality constraints are elementwise, whether they involve scalars, vectors, or matrices. For example, together the constraints 0 <= x and x <= 1 mean that every entry of x is between 0 and 1."
   ]
  },
  {
   "cell_type": "markdown",
   "metadata": {},
   "source": [
    "You cannot construct inequalities with < and >. Strict inequalities don’t make sense in a real world setting. Also, you cannot chain constraints together, e.g., 0 <= x <= 1 or x == y == 2. The Python interpreter treats chained constraints in such a way that CVXPY cannot capture them. CVXPY will raise an exception if you write a chained constraint."
   ]
  },
  {
   "cell_type": "markdown",
   "metadata": {},
   "source": [
    "<font size=\"8\">Operators</font>"
   ]
  },
  {
   "cell_type": "markdown",
   "metadata": {},
   "source": [
    "The infix operators +, -, *, /, @ are treated as functions. \n",
    "- @ should be used for matrix-matrix and matrix-vector multiplication,\n",
    "\n",
    "- $\\text{*}$ should be matrix-scalar and vector-scalar multiplication"
   ]
  },
  {
   "cell_type": "markdown",
   "metadata": {},
   "source": [
    "<font size=\"8\">Indexing and slicing</font>"
   ]
  },
  {
   "cell_type": "markdown",
   "metadata": {},
   "source": [
    "Indexing in CVXPY follows exactly the same semantics as NumPy ndarrays. For example, if expr has shape (5,) then expr[1] gives the second entry. More generally, expr[i:j:k] selects every kth element of expr, starting at i and ending at j-1. If expr is a matrix, then expr[i:j:k] selects rows, while expr[i:j:k, r:s:t] selects both rows and columns. Indexing drops dimensions while slicing preserves dimensions. For example,"
   ]
  },
  {
   "cell_type": "code",
   "execution_count": 21,
   "metadata": {},
   "outputs": [
    {
     "name": "stdout",
     "output_type": "stream",
     "text": [
      "0 dimensional ()\n",
      "1 dimensional (1,)\n"
     ]
    }
   ],
   "source": [
    "x = cp.Variable(5)\n",
    "print(\"0 dimensional\", x[0].shape)\n",
    "print(\"1 dimensional\", x[0:1].shape)"
   ]
  },
  {
   "cell_type": "markdown",
   "metadata": {},
   "source": [
    "<font size=\"8\">Transpose</font>"
   ]
  },
  {
   "cell_type": "markdown",
   "metadata": {},
   "source": [
    "The transpose of any expression can be obtained using the syntax <mark>expr.T</mark>. Transpose is an affine function."
   ]
  },
  {
   "cell_type": "markdown",
   "metadata": {},
   "source": [
    "<font size=\"8\">Power</font>"
   ]
  },
  {
   "cell_type": "markdown",
   "metadata": {},
   "source": [
    "For any CVXPY expression <mark>expr</mark>, the power operator <mark>expr**p</mark> is equivalent to the function <mark>power(expr, p)</mark>."
   ]
  },
  {
   "cell_type": "markdown",
   "metadata": {},
   "source": [
    "<font size=\"8\">Linear Programming</font>"
   ]
  },
  {
   "cell_type": "markdown",
   "metadata": {},
   "source": [
    "\\begin{align*}\n",
    "\\text{minimize:} & \\quad c^T x, \\\\\n",
    "\\text{subject to:} & \\quad A_{ub} x \\leq b_{ub}, \\\\\n",
    " & \\quad A_{eq} x = b_{eq}, \\\\\n",
    "\\end{align*}\n",
    "\\\n",
    "where\n",
    "\n",
    "$A_{ub} \\in  \\mathbb{R}^{m \\times n},b_{ub} \\in \\mathbb{R}^m,A_{eq} \\in  \\mathbb{R}^{s \\times n},b_{eq} \\in \\mathbb{R}^s \\text{ and } c \\in \\mathbb{R}^n \\text{ are problem data and } x \\in  \\mathbb{R}^n \\text{ is the optimization variable.}$"
   ]
  },
  {
   "cell_type": "markdown",
   "metadata": {},
   "source": [
    "<font size=\"8\">Example 1</font>"
   ]
  },
  {
   "cell_type": "markdown",
   "metadata": {},
   "source": [
    "You have $12,000 to invest, and three different funds from which to choose. The municipal bond fund has a 7% return, the local bank's CDs have an 8% return, and the high-risk account has an expected (hoped for) 12% return. To minimize the risk, you decide not to invest any more than $2,000 in the high-risk account. For tax reasons, you need to invest at least three times as much in the municipal bonds as in the bank CDs. Assuming the year-end yields are expected what are the optimal investment amounts?"
   ]
  },
  {
   "cell_type": "markdown",
   "metadata": {},
   "source": [
    "# Investment Optimization Problem\n",
    "\n",
    "You have $12,000 to invest in three different funds: municipal bonds, local bank's CDs, and a high-risk account. The objective is to maximize the total return on investment while considering certain constraints to minimize risk and meet tax requirements.\n",
    "\n",
    "## Objective Function\n",
    "The objective is to maximize the total return:\n",
    "$ \\text{Maximize} \\quad 0.07x_1 + 0.08x_2 + 0.12x_3 $\n",
    "\n",
    "where:\n",
    "- $x_1$: amount invested in municipal bonds\n",
    "- $x_2$: amount invested in local bank's CDs\n",
    "- $x_3$: amount invested in the high-risk account\n",
    "\n",
    "## Constraints\n",
    "1. **Total investment is limited to $12,000:**\n",
    "   $x_1 + x_2 + x_3 \\leq 12,000$\n",
    "\n",
    "2. **The amount invested in the high-risk account is limited to $2,000:**\n",
    "   $x_3 \\leq 2,000$\n",
    "\n",
    "3. **For tax reasons, invest at least three times as much in municipal bonds as in bank CDs:**\n",
    "   $x_1 \\geq 3x_2$"
   ]
  },
  {
   "cell_type": "code",
   "execution_count": 22,
   "metadata": {},
   "outputs": [
    {
     "name": "stdout",
     "output_type": "stream",
     "text": [
      "Optimal Investment Amounts:\n",
      "Investment in Municipal Bonds : 7500.000000326279\n",
      "Investment in Bank CDs : 2499.999999695155\n",
      "Investment in High-Risk Account : 1999.999999955671\n"
     ]
    }
   ],
   "source": [
    "# Define variables\n",
    "x1 = cp.Variable()  # Investment in municipal bonds\n",
    "x2 = cp.Variable()  # Investment in bank CDs\n",
    "x3 = cp.Variable()  # Investment in high-risk account\n",
    "\n",
    "# Define parameters\n",
    "total_budget = 12000\n",
    "high_risk_limit = 2000\n",
    "\n",
    "# Objective function\n",
    "objective = cp.Maximize(0.07 * x1 + 0.08 * x2 + 0.12 * x3)\n",
    "\n",
    "# Constraints\n",
    "constraints = [\n",
    "    x1 + x2 + x3 <= total_budget,\n",
    "    x3 <= high_risk_limit,\n",
    "    x1 >= 3 * x2\n",
    "]\n",
    "\n",
    "# Formulate the problem\n",
    "problem = cp.Problem(objective, constraints)\n",
    "\n",
    "# Solve the problem\n",
    "problem.solve()\n",
    "\n",
    "# Display the results\n",
    "print(\"Optimal Investment Amounts:\")\n",
    "print(\"Investment in Municipal Bonds :\", x1.value)\n",
    "print(\"Investment in Bank CDs :\", x2.value)\n",
    "print(\"Investment in High-Risk Account :\", x3.value)\n"
   ]
  },
  {
   "cell_type": "markdown",
   "metadata": {},
   "source": [
    "<font size=\"8\">Example 2</font>"
   ]
  },
  {
   "cell_type": "markdown",
   "metadata": {},
   "source": [
    "A financial institution has a lending capacity of $1,000,000 and considers three borrower types: A, B, and C with expected returns of 8%, 10%, and 12%, respectively. The institution must allocate loans to all types, with minimums of 30% to A, and 20% to C, and a maximum of 40% to B. The goal is to maximize the total expected return. "
   ]
  },
  {
   "cell_type": "markdown",
   "metadata": {},
   "source": [
    "# Loan Allocation Optimization Problem\n",
    "\n",
    "A financial institution has a lending capacity of $1,000,000 and considers three borrower types: A, B, and C with expected returns of 8%, 10%, and 12%, respectively. The institution must allocate loans to all types, with minimums of 30% to A, and 20% to C, and a maximum of 40% to B. The goal is to maximize the total expected return.\n",
    "\n",
    "## Objective Function\n",
    "The objective is to maximize the total expected return:\n",
    "$ \\text{Maximize} \\quad 0.08x_A + 0.10x_B + 0.12x_C $\n",
    "\n",
    "where:\n",
    "- $x_A$: amount allocated to borrower type A\n",
    "- $x_B$: amount allocated to borrower type B\n",
    "- $x_C$: amount allocated to borrower type C\n",
    "\n",
    "## Constraints\n",
    "1. **Total loan allocation is limited to $1,000,000:**\n",
    "   $x_A + x_B + x_C = 1,000,000$\n",
    "\n",
    "2. **Minimum allocation constraints:**\n",
    "   - $x_A \\geq 0.30 \\times 1,000,000$ (30% to A)\n",
    "   - $x_C \\geq 0.20 \\times 1,000,000$ (20% to C)\n",
    "\n",
    "3. **Maximum allocation constraint:**\n",
    "   - $x_B \\leq 0.40 \\times 1,000,000$ (40% to B)\n",
    "\n",
    "## Python Code Using cvxpy"
   ]
  },
  {
   "cell_type": "code",
   "execution_count": 23,
   "metadata": {},
   "outputs": [
    {
     "name": "stdout",
     "output_type": "stream",
     "text": [
      "Optimal Loan Allocations:\n",
      "Loan to Borrower A : 300000.0000006506\n",
      "Loan to Borrower B : 5.192941456057914e-05\n",
      "Loan to Borrower C : 699999.9999474199\n",
      "Total Expected Return: 107999.99999893537\n"
     ]
    }
   ],
   "source": [
    "import cvxpy as cp\n",
    "\n",
    "# Define variables\n",
    "xA = cp.Variable()  # Loan allocation to borrower type A\n",
    "xB = cp.Variable()  # Loan allocation to borrower type B\n",
    "xC = cp.Variable()  # Loan allocation to borrower type C\n",
    "\n",
    "# Define parameters\n",
    "total_capacity = 1000000\n",
    "\n",
    "# Objective function\n",
    "objective = cp.Maximize(0.08 * xA + 0.10 * xB + 0.12 * xC)\n",
    "\n",
    "# Constraints\n",
    "constraints = [\n",
    "    xA + xB + xC == total_capacity,\n",
    "    xA >= 0.30 * total_capacity,\n",
    "    xC >= 0.20 * total_capacity,\n",
    "    xB <= 0.40 * total_capacity,\n",
    "    xA >= 0,\n",
    "    xB >= 0,\n",
    "    xC >= 0\n",
    "]\n",
    "\n",
    "# Formulate the problem\n",
    "problem = cp.Problem(objective, constraints)\n",
    "\n",
    "# Solve the problem\n",
    "problem.solve()\n",
    "\n",
    "# Display the results\n",
    "print(\"Optimal Loan Allocations:\")\n",
    "print(\"Loan to Borrower A :\", xA.value)\n",
    "print(\"Loan to Borrower B :\", xB.value)\n",
    "print(\"Loan to Borrower C :\", xC.value)\n",
    "print(\"Total Expected Return:\", problem.value)\n"
   ]
  },
  {
   "cell_type": "markdown",
   "metadata": {},
   "source": [
    "<font size=\"8\">Example 3</font>"
   ]
  },
  {
   "cell_type": "markdown",
   "metadata": {},
   "source": [
    "A company has a currency exposure of 100,000 units in USD and EUR. It can hedge using Forward Contracts ($0.02 per unit) and Options ($0.03 per unit). The goal is to minimize the total hedging cost while meeting the following constraints:\n",
    "\n",
    "- Total exposure must be fully hedged.\n",
    "- Forward Contracts usage cannot exceed 70,000 units.\n",
    "- At least 30,000 units must be hedged using Options."
   ]
  },
  {
   "cell_type": "markdown",
   "metadata": {},
   "source": [
    "# Currency Exposure Hedging Optimization Problem\n",
    "\n",
    "A company has a currency exposure of 100,000 units in USD and EUR. It can hedge using Forward Contracts ($0.02 per unit) and Options ($0.03 per unit). The goal is to minimize the total hedging cost while meeting the following constraints:\n",
    "\n",
    "## Objective Function\n",
    "The objective is to minimize the total hedging cost:\n",
    "$ \\text{Minimize} \\quad 0.02x_{\\text{Forward}} + 0.03x_{\\text{Options}} $\n",
    "\n",
    "where:\n",
    "- $x_{\\text{Forward}}$: units hedged using Forward Contracts\n",
    "- $x_{\\text{Options}}$: units hedged using Options\n",
    "\n",
    "## Constraints\n",
    "1. **Total exposure must be fully hedged:**\n",
    "   $x_{\\text{Forward}} + x_{\\text{Options}} = 100,000$\n",
    "\n",
    "2. **Forward Contracts usage cannot exceed 70,000 units:**\n",
    "   $x_{\\text{Forward}} \\leq 70,000$\n",
    "\n",
    "3. **At least 30,000 units must be hedged using Options:**\n",
    "   $x_{\\text{Options}} \\geq 30,000$\n"
   ]
  },
  {
   "cell_type": "code",
   "execution_count": 24,
   "metadata": {},
   "outputs": [
    {
     "name": "stdout",
     "output_type": "stream",
     "text": [
      "Optimal Hedging Strategy:\n",
      "Units Hedged using Forward: 69999.99999996346\n",
      "Units Hedged using Options: 30000.00000003655\n",
      "Total Hedging Cost: 2300.0000000003656\n"
     ]
    }
   ],
   "source": [
    "# Define variables\n",
    "x_forward = cp.Variable()  # Units hedged using Forward Contracts\n",
    "x_options = cp.Variable()  # Units hedged using Options\n",
    "\n",
    "# Define parameters\n",
    "forward_cost_per_unit = 0.02\n",
    "options_cost_per_unit = 0.03\n",
    "total_exposure = 100000\n",
    "forward_contract_limit = 70000\n",
    "options_minimum = 30000\n",
    "\n",
    "# Objective function\n",
    "objective = cp.Minimize(forward_cost_per_unit * x_forward + options_cost_per_unit * x_options)\n",
    "\n",
    "# Constraints\n",
    "constraints = [\n",
    "    x_forward + x_options == total_exposure,\n",
    "    x_forward <= forward_contract_limit,\n",
    "    x_options >= options_minimum\n",
    "]\n",
    "\n",
    "# Formulate the problem\n",
    "problem = cp.Problem(objective, constraints)\n",
    "\n",
    "# Solve the problem\n",
    "problem.solve()\n",
    "\n",
    "# Display the results\n",
    "print(\"Optimal Hedging Strategy:\")\n",
    "print(\"Units Hedged using Forward:\", x_forward.value)\n",
    "print(\"Units Hedged using Options:\", x_options.value)\n",
    "print(\"Total Hedging Cost:\", problem.value)"
   ]
  },
  {
   "cell_type": "markdown",
   "metadata": {},
   "source": [
    "<font size=\"8\">Quadratic programming</font>"
   ]
  },
  {
   "cell_type": "markdown",
   "metadata": {},
   "source": [
    "\\begin{align*}\n",
    "\\text{minimize:} & (1/2)x^TPx+q^Tx, \\\\\n",
    "\\text{subject to:} & Gx \\leq h, \\\\\n",
    " & Ax = b \\\\\n",
    "\\end{align*}\n",
    "\\\n",
    "where\n",
    "\n",
    "$P \\in  \\mathbb{R}^{n \\times n}, q \\in \\mathbb{R}^n, G \\in \\mathbb{R}^{m \\times n}, h \\in \\mathbb{R}^m, A \\in \\mathbb{R}^{p \\times n} \\text{ and } b \\in \\mathbb{R}^n \\text{ are problem data and } x \\in \\mathbb{R}^n \\text{ is the optimization variable}$ "
   ]
  },
  {
   "cell_type": "markdown",
   "metadata": {},
   "source": [
    "<font size=\"8\">Example 4</font>"
   ]
  },
  {
   "cell_type": "markdown",
   "metadata": {},
   "source": [
    "## Problem Statement\n",
    "\n",
    "A company has a total advertising budget of $1,000,000 and wants to allocate this budget across three marketing channels: online advertising, television advertising, and print advertising. The goal is to maximize the overall brand exposure and engagement, which is measured by a quadratic utility function representing the impact of advertising spending on each channel.\n",
    "\n",
    "The quadratic utility functions for each channel are as follows:\n",
    "\n",
    "1. **Online Advertising:** $ U_{\\text{online}}(x_{\\text{online}}) = -0.001x_{\\text{online}}^2 + 500x_{\\text{online}} $\n",
    "2. **Television Advertising:** $ U_{\\text{TV}}(x_{\\text{TV}}) = -0.0005x_{\\text{TV}}^2 + 300x_{\\text{TV}} $\n",
    "3. **Print Advertising:** $ U_{\\text{print}}(x_{\\text{print}}) = -0.0007x_{\\text{print}}^2 + 400x_{\\text{print}} $\n",
    "\n",
    "where $x_{\\text{online}}$, $x_{\\text{TV}}$, and $x_{\\text{print}}$ are the amounts spent on online, TV, and print advertising, respectively.\n",
    "\n",
    "The total budget constraint is:\n",
    "\n",
    "$ x_{\\text{online}} + x_{\\text{TV}} + x_{\\text{print}} = 1,000,000 $\n",
    "\n",
    "## Objective Function\n",
    "\n",
    "The objective is to maximize the overall quadratic utility:\n",
    "\n",
    "$ \\text{Maximize} \\quad U(x) = U_{\\text{online}}(x_{\\text{online}}) + U_{\\text{TV}}(x_{\\text{TV}}) + U_{\\text{print}}(x_{\\text{print}}) $\n",
    "\n",
    "## Constraints\n",
    "\n",
    "Subject to the total budget constraint:\n",
    "\n",
    "$ x_{\\text{online}} + x_{\\text{TV}} + x_{\\text{print}} = 1,000,000 $\n",
    "\n"
   ]
  },
  {
   "cell_type": "code",
   "execution_count": 9,
   "metadata": {},
   "outputs": [
    {
     "name": "stdout",
     "output_type": "stream",
     "text": [
      "Optimal solution:\n",
      "Online Advertising Budget: 287096.7741928672\n",
      "Television Advertising Budget: 374193.548386395\n",
      "Print Advertising Budget: 338709.6774186611\n"
     ]
    }
   ],
   "source": [
    "# Define variables\n",
    "x_online = cp.Variable()\n",
    "x_tv = cp.Variable()\n",
    "x_print = cp.Variable()\n",
    "\n",
    "# Define parameters\n",
    "budget = 1000000\n",
    "\n",
    "# Define quadratic utility functions\n",
    "U_online = -0.001 * x_online**2 + 500 * x_online\n",
    "U_tv = -0.0005 * x_tv**2 + 300 * x_tv\n",
    "U_print = -0.0007 * x_print**2 + 400 * x_print\n",
    "\n",
    "# Objective function to maximize overall utility\n",
    "objective = cp.Maximize(U_online + U_tv + U_print)\n",
    "\n",
    "# Total budget constraint\n",
    "budget_constraint = [x_online + x_tv + x_print == budget]\n",
    "\n",
    "# Formulate the problem\n",
    "problem = cp.Problem(objective, budget_constraint)\n",
    "\n",
    "# Solve the problem\n",
    "problem.solve()\n",
    "\n",
    "# Display the results\n",
    "print(\"Optimal solution:\")\n",
    "print(\"Online Advertising Budget:\", x_online.value)\n",
    "print(\"Television Advertising Budget:\", x_tv.value)\n",
    "print(\"Print Advertising Budget:\", x_print.value)\n"
   ]
  },
  {
   "cell_type": "markdown",
   "metadata": {},
   "source": [
    "<font size=\"8\">Example 5</font>"
   ]
  },
  {
   "cell_type": "markdown",
   "metadata": {},
   "source": [
    "## Objective Function (to minimize):\n",
    "$ f(x, y) = 2x^2 + 5y^2 - 4xy + 6x + 8y $\n",
    "\n",
    "## Subject to the constraint:\n",
    "$ 3x + 2y \\leq 18 $\n",
    "\n",
    "In matrix form, the objective function can be written as:\n",
    "$ f(\\mathbf{x}) = \\frac{1}{2} \\mathbf{x}^T Q \\mathbf{x} + \\mathbf{c}^T \\mathbf{x} $\n",
    "\n",
    "Where:\n",
    "$ \\mathbf{x} = \\begin{bmatrix} x \\\\ y \\end{bmatrix} $\n",
    "\n",
    "$ Q = \\begin{bmatrix} 4 & -2 \\\\ -2 & 10 \\end{bmatrix} $\n",
    "\n",
    "$ \\mathbf{c} = \\begin{bmatrix} 6 \\\\ 8 \\end{bmatrix} $\n",
    "\n",
    "And the constraint is:\n",
    "$ 3x + 2y \\leq 18 $\n",
    "\n"
   ]
  },
  {
   "cell_type": "code",
   "execution_count": 10,
   "metadata": {},
   "outputs": [
    {
     "name": "stdout",
     "output_type": "stream",
     "text": [
      "Optimal x: -2.1111111111111103\n",
      "Optimal y: -1.2222222222222225\n",
      "Minimum value of the objective function: -11.222222222222225\n"
     ]
    }
   ],
   "source": [
    "# Define the variables\n",
    "x = cp.Variable()\n",
    "y = cp.Variable()\n",
    "\n",
    "# Define the objective function to minimize\n",
    "Q = np.array([[4, -2], [-2, 10]])\n",
    "c = np.array([6, 8])\n",
    "objective = cp.Minimize(0.5 * cp.quad_form(cp.vstack([x, y]), Q) + c.T @ cp.vstack([x, y]))\n",
    "\n",
    "# Define the constraint\n",
    "constraint = [3 * x + 2 * y <= 18]\n",
    "\n",
    "# Create the optimization problem\n",
    "problem = cp.Problem(objective, constraint)\n",
    "\n",
    "# Solve the problem\n",
    "problem.solve()\n",
    "\n",
    "# Display the results\n",
    "print(\"Optimal x:\", x.value)\n",
    "print(\"Optimal y:\", y.value)\n",
    "print(\"Minimum value of the objective function:\", problem.value)\n"
   ]
  },
  {
   "cell_type": "markdown",
   "metadata": {},
   "source": [
    "<font size=\"8\">Example 6</font>"
   ]
  },
  {
   "cell_type": "markdown",
   "metadata": {},
   "source": [
    "Minimize the objective function:\n",
    "\n",
    "$ f(\\mathbf{x}) = \\frac{1}{2} \\mathbf{x}^T Q \\mathbf{x} + \\mathbf{c}^T \\mathbf{x} $\n",
    "\n",
    "Where:\n",
    "$ \\mathbf{x} = \\begin{bmatrix} x_1 \\\\ x_2 \\\\ x_3 \\end{bmatrix} $\n",
    "\n",
    "$ Q = \\begin{bmatrix} 2 & -1 & 0 \\\\ -1 & 2 & -1 \\\\ 0 & -1 & 2 \\end{bmatrix} $\n",
    "\n",
    "$ \\mathbf{c} = \\begin{bmatrix} -1 \\\\ -2 \\\\ -3 \\end{bmatrix} $\n",
    "\n",
    "Subject to the constraints:\n",
    "\n",
    "$ \\begin{bmatrix} 1 & 0 & 1 \\\\ 0 & 1 & -1 \\end{bmatrix} \\mathbf{x} \\leq \\begin{bmatrix} 1 \\\\ 2 \\end{bmatrix} $\n",
    "\n",
    "$ \\begin{bmatrix} 1 & 1 & 0 \\end{bmatrix} \\mathbf{x} = \\begin{bmatrix} 1 \\end{bmatrix} $\n",
    "\n",
    "\n"
   ]
  },
  {
   "cell_type": "code",
   "execution_count": 17,
   "metadata": {},
   "outputs": [
    {
     "name": "stdout",
     "output_type": "stream",
     "text": [
      "Optimal value: -4.083333333333334\n",
      "Optimal x: [-0.16666667  1.16666667  1.16666667]\n"
     ]
    }
   ],
   "source": [
    "import cvxpy as cp\n",
    "import numpy as np\n",
    "\n",
    "# Define the variables\n",
    "x = cp.Variable(3)\n",
    "\n",
    "# Define the objective function\n",
    "Q = np.array([[2, -1, 0],\n",
    "              [-1, 2, -1],\n",
    "              [0, -1, 2]])\n",
    "\n",
    "c = np.array([-1, -2, -3])\n",
    "objective = cp.Minimize(0.5 * cp.quad_form(x, Q) + c.T @ x)\n",
    "\n",
    "# Define the linear constraints\n",
    "A = np.array([[1, 0, 1],\n",
    "              [0, 1, -1]])\n",
    "\n",
    "b = np.array([1, 2])\n",
    "\n",
    "# Define equality constraints\n",
    "A_eq = np.array([[1, 1, 0]])\n",
    "b_eq = np.array([1])\n",
    "\n",
    "# Define the problem\n",
    "constraints = [A @ x <= b, A_eq @ x == b_eq]\n",
    "problem = cp.Problem(objective, constraints)\n",
    "\n",
    "# Solve the problem\n",
    "problem.solve()\n",
    "\n",
    "# Print the results\n",
    "print(\"Optimal value:\", problem.value)\n",
    "print(\"Optimal x:\", x.value)\n"
   ]
  }
 ],
 "metadata": {
  "kernelspec": {
   "display_name": "base",
   "language": "python",
   "name": "python3"
  },
  "language_info": {
   "codemirror_mode": {
    "name": "ipython",
    "version": 3
   },
   "file_extension": ".py",
   "mimetype": "text/x-python",
   "name": "python",
   "nbconvert_exporter": "python",
   "pygments_lexer": "ipython3",
   "version": "3.11.9"
  }
 },
 "nbformat": 4,
 "nbformat_minor": 2
}
