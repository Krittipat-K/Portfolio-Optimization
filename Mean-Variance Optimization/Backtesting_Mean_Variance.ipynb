{
 "cells": [
  {
   "cell_type": "code",
   "execution_count": 48,
   "metadata": {},
   "outputs": [],
   "source": [
    "import yfinance as yf\n",
    "import pandas as pd\n",
    "import numpy as np\n",
    "from datetime import datetime, timedelta\n",
    "import plotly.graph_objects as go\n",
    "import cvxpy as cp\n",
    "import numpy.typing as npt"
   ]
  },
  {
   "cell_type": "code",
   "execution_count": 49,
   "metadata": {},
   "outputs": [
    {
     "data": {
      "text/plain": [
       "array([1. , 2.5, 2. ])"
      ]
     },
     "execution_count": 49,
     "metadata": {},
     "output_type": "execute_result"
    }
   ],
   "source": [
    "np.array([2,5,6])/np.array([2,2,3])"
   ]
  },
  {
   "cell_type": "markdown",
   "metadata": {},
   "source": [
    "# Necessary function"
   ]
  },
  {
   "cell_type": "code",
   "execution_count": 50,
   "metadata": {},
   "outputs": [],
   "source": [
    "def pull_data(Ticker_names, startDate, endDate, interval):\n",
    "    \"\"\"The pulling data function from Yahoo finance.\n",
    "\n",
    "    Args:\n",
    "        Ticker_names (list): List of ticker names in Yahoo finance that you want to pull.\n",
    "        startDate (datetime): Starting date of data you want to pull in datetime form.\n",
    "        endDate (datetime): Ending date of data you want to pull in datetime form.\n",
    "        interval (str): Data interval. Valid intervals are:\n",
    "                       “1m”, “2m”, “5m”, “15m”, “30m”, “60m”, “90m”, “1h”, “1d”, “5d”, “1wk”, “1mo”, “3mo”\n",
    "\n",
    "    Returns:\n",
    "        DataFrame: Close_price_dataframe\n",
    "    \"\"\"    \n",
    "    # Create dictionaries to store ticker objects and historical data\n",
    "    Ticker = dict()\n",
    "    Ticker_historical_data = dict()\n",
    "    \n",
    "    # Loop through ticker names to get ticker objects\n",
    "    for ticker_name in Ticker_names:\n",
    "        Ticker[ticker_name] = yf.Ticker(ticker_name)  # Get ticker object\n",
    "        \n",
    "    # Loop through ticker names to get historical data\n",
    "    for ticker_name in Ticker_names:\n",
    "        # Get historical data for each ticker\n",
    "        Ticker_historical_data[ticker_name] = Ticker[ticker_name].history(\n",
    "            start=startDate, end=endDate, interval=interval\n",
    "        )[['Close']]\n",
    "        # Rename the 'Close' column to the ticker name\n",
    "        Ticker_historical_data[ticker_name].rename(columns={'Close': '%s' % ticker_name}, inplace=True)\n",
    "        # Set the index to the date\n",
    "        Ticker_historical_data[ticker_name].index = Ticker_historical_data[ticker_name].index.date\n",
    "    \n",
    "    # Concatenate the historical data for all tickers and drop rows with missing values\n",
    "    return pd.concat(Ticker_historical_data.values(), axis=1).dropna()\n"
   ]
  },
  {
   "cell_type": "code",
   "execution_count": 51,
   "metadata": {},
   "outputs": [],
   "source": [
    "def Log_return(Price_dataframe):\n",
    "    \"\"\"Compute the log return from an asset price dataframe.\n",
    "\n",
    "    Args:\n",
    "        Price_dataframe (DataFrame): Column: ticker name, Index: date\n",
    "\n",
    "    Returns:\n",
    "        DataFrame: Log_return_dataframe\n",
    "    \"\"\"        \n",
    "    # Create a shifted DataFrame by shifting Price_dataframe by one period\n",
    "    dummy = Price_dataframe.shift(periods=1).T\n",
    "    \n",
    "    # Set the first column of the shifted DataFrame to the first row of Price_dataframe\n",
    "    dummy[Price_dataframe.index[0]] = Price_dataframe.iloc[0].tolist()\n",
    "    \n",
    "    # Create a DataFrame for log returns by taking the natural logarithm of the ratio\n",
    "    # of Price_dataframe to the shifted DataFrame (to calculate daily log returns)\n",
    "    return pd.DataFrame(\n",
    "        np.log(Price_dataframe.values.T / dummy.values),\n",
    "        columns=Price_dataframe.index.tolist(),\n",
    "        index=Price_dataframe.columns.tolist()\n",
    "    ).T\n"
   ]
  },
  {
   "cell_type": "code",
   "execution_count": 52,
   "metadata": {},
   "outputs": [],
   "source": [
    "from typing import List\n",
    "def Mean_Cov(Log_return_dataframe: pd.DataFrame, shifting_day) -> tuple[npt.NDArray,List[List[float]]]:\n",
    "    \"\"\"Compute the Mean and Covariance of each asset.\n",
    "\n",
    "    Args:\n",
    "        Log_return_dataframe (DataFrame): Column: ticker name, Index: date\n",
    "        shifting_day (int): The number of days to shift.\n",
    "\n",
    "    Returns:\n",
    "        (Mean, Cov): Mean list, Covariance matrix\n",
    "    \"\"\"    \n",
    "    # Compute the mean of log returns for each asset and multiply by the shifting days\n",
    "    Mean = np.asarray(np.mean(Log_return_dataframe.values.T, axis=1)) * shifting_day\n",
    "    \n",
    "    # Compute the covariance matrix of log returns and multiply by the shifting days\n",
    "    Cov = np.asmatrix(np.cov(Log_return_dataframe.values.T)) * shifting_day\n",
    "    \n",
    "    return Mean, Cov\n"
   ]
  },
  {
   "cell_type": "code",
   "execution_count": 53,
   "metadata": {},
   "outputs": [],
   "source": [
    "def Mean_Variance_optimization(return_array, covariance_matrix, require_return, short_sell=None):\n",
    "    \"\"\"\n",
    "    Optimize the portfolio for mean-variance using convex optimization.\n",
    "\n",
    "    Args:\n",
    "        return_array (array): Array of expected returns for each asset.\n",
    "        covariance_matrix (array): Covariance matrix of asset returns.\n",
    "        require_return (float): Required return for the portfolio.\n",
    "        short_sell (str, optional): If short selling is allowed, input 'yes'. Defaults to None.\n",
    "\n",
    "    Returns:\n",
    "        tuple: Portfolio weights, objective value, and portfolio return.\n",
    "    \"\"\"    \n",
    "    # Define the decision variable for portfolio weights\n",
    "    X = cp.Variable(len(return_array))\n",
    "    \n",
    "    # Formulate the objective function as the quadratic form of portfolio weights and covariance matrix\n",
    "    objective_formulation = cp.quad_form(X, covariance_matrix)\n",
    "    \n",
    "    # Define the objective function to minimize the variance\n",
    "    objective_function = cp.Minimize(objective_formulation)\n",
    "    \n",
    "    # Calculate the expected return of the portfolio\n",
    "    Return = return_array.T @ X\n",
    "    \n",
    "    # Define constraints based on the specified conditions (short selling or not)\n",
    "    if short_sell == None:\n",
    "        \n",
    "        constraints = [sum(X) == 1, Return >= require_return, X >= 0]\n",
    "    else:\n",
    "        \n",
    "        constraints = [sum(X) == 1, Return >= require_return]\n",
    "    \n",
    "    # Formulate the convex optimization problem\n",
    "    problem = cp.Problem(objective_function, constraints)\n",
    "    \n",
    "    # Solve the optimization problem\n",
    "    problem.solve()\n",
    "    \n",
    "    if problem.status != 'optimal':\n",
    "        \n",
    "        optimal_portfolio = np.array([0 for i in range(len(return_array))])\n",
    "    \n",
    "    else:\n",
    "        \n",
    "        optimal_portfolio = X.value\n",
    "        \n",
    "    # Return the optimized portfolio weights, objective value (variance), and the expected return of the portfolio\n",
    "    return optimal_portfolio, problem.value, Return.value\n"
   ]
  },
  {
   "cell_type": "code",
   "execution_count": 54,
   "metadata": {},
   "outputs": [],
   "source": [
    "def checking_day_trade(Date, Close_price_dataframe):\n",
    "    \"\"\"\n",
    "    Check if the given date is a trading day. If not, find the next trading day.\n",
    "\n",
    "    Args:\n",
    "        Date (datetime): The input date to check.\n",
    "        Close_price_dataframe (DataFrame): DataFrame with trading day indices.\n",
    "\n",
    "    Returns:\n",
    "        datetime: The next trading day date.\n",
    "    \"\"\"\n",
    "    # Continue searching for the next trading day until a trading day is found\n",
    "    while not (Date.date() in Close_price_dataframe.index):\n",
    "        # Increment the date by one day\n",
    "        Date = Date + timedelta(days=1)\n",
    "\n",
    "    # Return the next trading day date\n",
    "    return Date\n"
   ]
  },
  {
   "cell_type": "markdown",
   "metadata": {},
   "source": [
    "# Pull data"
   ]
  },
  {
   "cell_type": "code",
   "execution_count": 55,
   "metadata": {},
   "outputs": [
    {
     "data": {
      "text/html": [
       "<div>\n",
       "<style scoped>\n",
       "    .dataframe tbody tr th:only-of-type {\n",
       "        vertical-align: middle;\n",
       "    }\n",
       "\n",
       "    .dataframe tbody tr th {\n",
       "        vertical-align: top;\n",
       "    }\n",
       "\n",
       "    .dataframe thead th {\n",
       "        text-align: right;\n",
       "    }\n",
       "</style>\n",
       "<table border=\"1\" class=\"dataframe\">\n",
       "  <thead>\n",
       "    <tr style=\"text-align: right;\">\n",
       "      <th></th>\n",
       "      <th>AAPL</th>\n",
       "      <th>AMD</th>\n",
       "      <th>MSFT</th>\n",
       "    </tr>\n",
       "  </thead>\n",
       "  <tbody>\n",
       "    <tr>\n",
       "      <th>1986-03-13</th>\n",
       "      <td>0.085501</td>\n",
       "      <td>15.875000</td>\n",
       "      <td>0.060274</td>\n",
       "    </tr>\n",
       "    <tr>\n",
       "      <th>1986-03-14</th>\n",
       "      <td>0.090250</td>\n",
       "      <td>14.625000</td>\n",
       "      <td>0.062427</td>\n",
       "    </tr>\n",
       "    <tr>\n",
       "      <th>1986-03-17</th>\n",
       "      <td>0.089818</td>\n",
       "      <td>15.812500</td>\n",
       "      <td>0.063504</td>\n",
       "    </tr>\n",
       "    <tr>\n",
       "      <th>1986-03-18</th>\n",
       "      <td>0.092842</td>\n",
       "      <td>15.687500</td>\n",
       "      <td>0.061889</td>\n",
       "    </tr>\n",
       "    <tr>\n",
       "      <th>1986-03-19</th>\n",
       "      <td>0.091546</td>\n",
       "      <td>15.312500</td>\n",
       "      <td>0.060812</td>\n",
       "    </tr>\n",
       "    <tr>\n",
       "      <th>...</th>\n",
       "      <td>...</td>\n",
       "      <td>...</td>\n",
       "      <td>...</td>\n",
       "    </tr>\n",
       "    <tr>\n",
       "      <th>2021-12-23</th>\n",
       "      <td>174.288620</td>\n",
       "      <td>146.139999</td>\n",
       "      <td>328.668701</td>\n",
       "    </tr>\n",
       "    <tr>\n",
       "      <th>2021-12-27</th>\n",
       "      <td>178.292877</td>\n",
       "      <td>154.360001</td>\n",
       "      <td>336.289124</td>\n",
       "    </tr>\n",
       "    <tr>\n",
       "      <th>2021-12-28</th>\n",
       "      <td>177.264603</td>\n",
       "      <td>153.149994</td>\n",
       "      <td>335.110718</td>\n",
       "    </tr>\n",
       "    <tr>\n",
       "      <th>2021-12-29</th>\n",
       "      <td>177.353653</td>\n",
       "      <td>148.259995</td>\n",
       "      <td>335.798157</td>\n",
       "    </tr>\n",
       "    <tr>\n",
       "      <th>2021-12-30</th>\n",
       "      <td>176.186920</td>\n",
       "      <td>145.149994</td>\n",
       "      <td>333.215424</td>\n",
       "    </tr>\n",
       "  </tbody>\n",
       "</table>\n",
       "<p>9025 rows × 3 columns</p>\n",
       "</div>"
      ],
      "text/plain": [
       "                  AAPL         AMD        MSFT\n",
       "1986-03-13    0.085501   15.875000    0.060274\n",
       "1986-03-14    0.090250   14.625000    0.062427\n",
       "1986-03-17    0.089818   15.812500    0.063504\n",
       "1986-03-18    0.092842   15.687500    0.061889\n",
       "1986-03-19    0.091546   15.312500    0.060812\n",
       "...                ...         ...         ...\n",
       "2021-12-23  174.288620  146.139999  328.668701\n",
       "2021-12-27  178.292877  154.360001  336.289124\n",
       "2021-12-28  177.264603  153.149994  335.110718\n",
       "2021-12-29  177.353653  148.259995  335.798157\n",
       "2021-12-30  176.186920  145.149994  333.215424\n",
       "\n",
       "[9025 rows x 3 columns]"
      ]
     },
     "execution_count": 55,
     "metadata": {},
     "output_type": "execute_result"
    }
   ],
   "source": [
    "Ticker_names = ['AAPL', 'AMD', 'MSFT']\n",
    "startDate = datetime(1950, 1, 2)\n",
    "endDate = datetime(2021, 12, 31)\n",
    "interval = '1d'\n",
    "\n",
    "# Call the pull_data function to retrieve historical close prices for the specified tickers and date range\n",
    "Close_price_dataframe = pull_data(Ticker_names, startDate, endDate, interval)\n",
    "\n",
    "# Display the resulting dataframe containing historical close prices\n",
    "Close_price_dataframe"
   ]
  },
  {
   "cell_type": "code",
   "execution_count": 56,
   "metadata": {},
   "outputs": [],
   "source": [
    "def Backtesting_Mean_Variance(len_of_trianing_data: int, trading_day, period, number_of_trading, require_return, Close_price_dataframe, short_sell = None) >:\n",
    "    \"\"\"\n",
    "    Backtest a Mean-Variance portfolio strategy over multiple trading periods.\n",
    "\n",
    "    Args:\n",
    "        len_of_trianing_data (int): Length of the training data period (in months).\n",
    "        trading_day (datetime): Initial trading day to start the backtesting.\n",
    "        period (int): Number of months for each trading period.\n",
    "        number_of_trading (int): Number of trading periods to backtest.\n",
    "        require_return (float): Required return for the portfolio in each trading period.\n",
    "        Close_price_dataframe (DataFrame): DataFrame with close prices for each trading day.\n",
    "\n",
    "    Returns:\n",
    "        dict, dict: Returns and portfolio proportions for each trading period.\n",
    "    \"\"\"\n",
    "    trading_day = checking_day_trade(trading_day, Close_price_dataframe)\n",
    "    start_dict = dict()\n",
    "    end_dict = dict()\n",
    "    trianing_data = dict()\n",
    "    day_trading = dict()\n",
    "    Mean_dict = dict()\n",
    "    Cov_dict = dict()\n",
    "    portfolio_proportions_dict = dict()\n",
    "\n",
    "    # Loop through each trading period for backtesting\n",
    "    for i in range(number_of_trading + 1):\n",
    "        start_dict[i] = (trading_day - len_of_trianing_data * timedelta(days=30)).date()\n",
    "        end_dict[i] = (trading_day - timedelta(days=1)).date()\n",
    "        trianing_data[i] = Close_price_dataframe.loc[start_dict[i]:end_dict[i]]\n",
    "        day_trading[i] = trading_day\n",
    "        Mean_dict[i], Cov_dict[i] = Mean_Cov(Log_return(trianing_data[i]), period * 30)\n",
    "        portfolio_proportions_dict[i], __, __ = Mean_Variance_optimization(Mean_dict[i], Cov_dict[i], require_return, short_sell=short_sell)\n",
    "\n",
    "        trading_day = checking_day_trade(trading_day + timedelta(days=30 * period), Close_price_dataframe)\n",
    "\n",
    "    R = dict()\n",
    "    # Calculate returns for each trading period\n",
    "    for i in range(number_of_trading):\n",
    "        R[i + 1] = sum(portfolio_proportions_dict[i] * np.log(np.array(Close_price_dataframe.loc[day_trading[i + 1].date()].tolist()) /\n",
    "                                                       np.array(Close_price_dataframe.loc[day_trading[i].date()].tolist())))\n",
    "\n",
    "    return R, portfolio_proportions_dict, day_trading\n"
   ]
  },
  {
   "cell_type": "code",
   "execution_count": 67,
   "metadata": {},
   "outputs": [
    {
     "data": {
      "text/html": [
       "<div>\n",
       "<style scoped>\n",
       "    .dataframe tbody tr th:only-of-type {\n",
       "        vertical-align: middle;\n",
       "    }\n",
       "\n",
       "    .dataframe tbody tr th {\n",
       "        vertical-align: top;\n",
       "    }\n",
       "\n",
       "    .dataframe thead th {\n",
       "        text-align: right;\n",
       "    }\n",
       "</style>\n",
       "<table border=\"1\" class=\"dataframe\">\n",
       "  <thead>\n",
       "    <tr style=\"text-align: right;\">\n",
       "      <th></th>\n",
       "      <th>AAPL</th>\n",
       "      <th>AMD</th>\n",
       "      <th>MSFT</th>\n",
       "    </tr>\n",
       "  </thead>\n",
       "  <tbody>\n",
       "    <tr>\n",
       "      <th>1986-03-13</th>\n",
       "      <td>0.085501</td>\n",
       "      <td>15.875000</td>\n",
       "      <td>0.060274</td>\n",
       "    </tr>\n",
       "    <tr>\n",
       "      <th>1986-03-14</th>\n",
       "      <td>0.090250</td>\n",
       "      <td>14.625000</td>\n",
       "      <td>0.062427</td>\n",
       "    </tr>\n",
       "    <tr>\n",
       "      <th>1986-03-17</th>\n",
       "      <td>0.089818</td>\n",
       "      <td>15.812500</td>\n",
       "      <td>0.063504</td>\n",
       "    </tr>\n",
       "    <tr>\n",
       "      <th>1986-03-18</th>\n",
       "      <td>0.092842</td>\n",
       "      <td>15.687500</td>\n",
       "      <td>0.061889</td>\n",
       "    </tr>\n",
       "    <tr>\n",
       "      <th>1986-03-19</th>\n",
       "      <td>0.091546</td>\n",
       "      <td>15.312500</td>\n",
       "      <td>0.060812</td>\n",
       "    </tr>\n",
       "    <tr>\n",
       "      <th>...</th>\n",
       "      <td>...</td>\n",
       "      <td>...</td>\n",
       "      <td>...</td>\n",
       "    </tr>\n",
       "    <tr>\n",
       "      <th>2021-12-23</th>\n",
       "      <td>174.288620</td>\n",
       "      <td>146.139999</td>\n",
       "      <td>328.668701</td>\n",
       "    </tr>\n",
       "    <tr>\n",
       "      <th>2021-12-27</th>\n",
       "      <td>178.292877</td>\n",
       "      <td>154.360001</td>\n",
       "      <td>336.289124</td>\n",
       "    </tr>\n",
       "    <tr>\n",
       "      <th>2021-12-28</th>\n",
       "      <td>177.264603</td>\n",
       "      <td>153.149994</td>\n",
       "      <td>335.110718</td>\n",
       "    </tr>\n",
       "    <tr>\n",
       "      <th>2021-12-29</th>\n",
       "      <td>177.353653</td>\n",
       "      <td>148.259995</td>\n",
       "      <td>335.798157</td>\n",
       "    </tr>\n",
       "    <tr>\n",
       "      <th>2021-12-30</th>\n",
       "      <td>176.186920</td>\n",
       "      <td>145.149994</td>\n",
       "      <td>333.215424</td>\n",
       "    </tr>\n",
       "  </tbody>\n",
       "</table>\n",
       "<p>9025 rows × 3 columns</p>\n",
       "</div>"
      ],
      "text/plain": [
       "                  AAPL         AMD        MSFT\n",
       "1986-03-13    0.085501   15.875000    0.060274\n",
       "1986-03-14    0.090250   14.625000    0.062427\n",
       "1986-03-17    0.089818   15.812500    0.063504\n",
       "1986-03-18    0.092842   15.687500    0.061889\n",
       "1986-03-19    0.091546   15.312500    0.060812\n",
       "...                ...         ...         ...\n",
       "2021-12-23  174.288620  146.139999  328.668701\n",
       "2021-12-27  178.292877  154.360001  336.289124\n",
       "2021-12-28  177.264603  153.149994  335.110718\n",
       "2021-12-29  177.353653  148.259995  335.798157\n",
       "2021-12-30  176.186920  145.149994  333.215424\n",
       "\n",
       "[9025 rows x 3 columns]"
      ]
     },
     "execution_count": 67,
     "metadata": {},
     "output_type": "execute_result"
    }
   ],
   "source": [
    "# input variable\n",
    "len_of_trianing_data = 36 # unit: mouth\n",
    "trading_day = datetime(1990, 1, 20) # datetime format\n",
    "period = 1 # unit: mouth\n",
    "number_of_trading = 300 # nunit : mouth\n",
    "require_return = [0.05/12,0.1/12,0.2/12] # 1%\n",
    "Close_price_dataframe"
   ]
  },
  {
   "cell_type": "code",
   "execution_count": 59,
   "metadata": {},
   "outputs": [],
   "source": [
    "Return, portfolio_proportions, day_trading = dict(), dict(), dict()\n",
    "\n",
    "for i in require_return:\n",
    "    \n",
    "    Return[i], portfolio_proportions[i], day_trading[i] = Backtesting_Mean_Variance(len_of_trianing_data, trading_day, period, number_of_trading, i, Close_price_dataframe, short_sell = None)"
   ]
  },
  {
   "cell_type": "markdown",
   "metadata": {},
   "source": [
    "# Histogram"
   ]
  },
  {
   "cell_type": "code",
   "execution_count": 60,
   "metadata": {},
   "outputs": [
    {
     "data": {
      "application/vnd.plotly.v1+json": {
       "config": {
        "plotlyServerURL": "https://plot.ly"
       },
       "data": [
        {
         "name": "Require Return is 0.00",
         "opacity": 0.5,
         "type": "histogram",
         "x": [
          0.02816502787517632,
          0.20194282115049306,
          -0.047078914498909843,
          0.1751882846623225,
          -0.0572074478235415,
          -0.07209583307204143,
          -0.22411701342699702,
          0.011867367984551874,
          0.027889350049120073,
          0.10004565447967145,
          0.1754735831187988,
          0.12378274637013692,
          0.20105221976043253,
          0.040969445610062175,
          0.04310132885861458,
          -0.07833606014139091,
          -0.06938870083059333,
          0.008726396986254797,
          0.16252931187859987,
          -0.026364199946860588,
          0.057388715874747795,
          0.0333114498671757,
          0.07933571485563493,
          0.19319809102677338,
          -0.040298040153411,
          0.052318004933256064,
          -0.1013486037843077,
          -0.005098771657302156,
          -0.2037161245923287,
          -0.04238263162739713,
          0.0044559564116061125,
          0.12995707202821777,
          0.08356161858646868,
          0.09872259374857859,
          0.002695190474943633,
          0.011739929327880556,
          -0.09105448277737313,
          0.03666431137945943,
          0.001168242900581925,
          0.09643080882407679,
          -0.17723411282230078,
          -0.20962235808447016,
          0.05131573346728588,
          -0.04946044916149854,
          0.05068240645944421,
          0.02202346536208721,
          -0.04011894098906498,
          0.049139776234564184,
          0.01334077053492197,
          0.07875582094949145,
          -0.08461915833144071,
          0.11384541828298825,
          0.0255429000854921,
          -0.018200087268196663,
          0.12752063139265338,
          0.02475118740202291,
          -0.026825310173408886,
          0.1191421435780146,
          -0.039532069822410885,
          0.08150274266158342,
          -0.04962671950959577,
          0.07572849929976992,
          0.08401772337990714,
          0.10435063327024582,
          0.006772415531334638,
          0.1690350818106868,
          -0.07646635411729094,
          -0.08035378766221005,
          -0.08968286743811593,
          0.02961941582791092,
          -0.09874066282953078,
          -0.05641506349992701,
          0.09726882091713208,
          -0.016423361056024807,
          0.00018318177268707766,
          0.10923967924214073,
          -0.030544821830517422,
          -0.19408374461866812,
          0.15576649995156944,
          0.005438438249140559,
          0.12426679967148492,
          0.08168725129659829,
          0.09560675859596879,
          -0.017042132491459475,
          0.10830581122120679,
          0.05598527853280007,
          -0.0138470981357634,
          0.11301193984307566,
          0.008041941812675237,
          0.033229241554771034,
          0.09222045792569816,
          -0.01851640545575574,
          -0.027903964816454907,
          -0.16403341830281293,
          -0.02032837035157406,
          0.011611079696600315,
          0.1571326759528308,
          0.10886450505501737,
          0.062443777043969466,
          0.015129041633951503,
          -0.0681143773526955,
          0.25139440130049423,
          -0.03392512270790964,
          -0.024044945891946758,
          -0.039562531260677734,
          0.09654668951035243,
          0.1521635049679351,
          0.12806166636474814,
          -0.011174628845562917,
          -0.025269223372102925,
          0.12297972097829937,
          -0.05496243238702217,
          -0.03496150749773066,
          0.17044346725668028,
          -0.06397584537973461,
          0.14493326413724522,
          -0.04152173535224895,
          0.005716052112376427,
          0.09575754471887571,
          0.14547226647263775,
          -0.021981654772363135,
          0.011356459225416657,
          -0.08684528687088958,
          -0.2205901886995878,
          0.036012804882379346,
          0.12487554715287386,
          -0.11499227118627084,
          -0.010594452530801539,
          -0.3748628912048025,
          0.17901426584668984,
          -0.25676551659644303,
          -0.06542149345192078,
          0.2860636728032062,
          -0.09885690369472394,
          -0.018158699300819474,
          0.22220587088465618,
          0.02613967591565968,
          -0.12199793918797766,
          -0.062062044310047464,
          -0.17403952480683949,
          0,
          0,
          0,
          0.05189938772172721,
          -0.15150364967506816,
          0.06667694790616754,
          -0.10042525210518599,
          -0.0836649489922324,
          -0.15471252189985754,
          -0.11422909653097675,
          -0.0595682402618315,
          0,
          0,
          0,
          0,
          0,
          0,
          0,
          0,
          0,
          0,
          0,
          0,
          0,
          0,
          0,
          -0.08037437130193514,
          0.07529933574848213,
          0,
          0.10380107972006555,
          0.0035118374229412656,
          -0.056457659993127254,
          0.07664276932915641,
          0.07391676200737708,
          -0.0045240176284477044,
          0.03329288502522739,
          0.04775055342845772,
          0.1079859135013407,
          0.06774292905941383,
          0.0018863852773853412,
          0.016909243508260258,
          -0.02339362286075399,
          0.014079999905007575,
          -0.03286463075951317,
          0.011387228187572759,
          -0.0025029579372979217,
          0.08401604958854925,
          0.01650694675332365,
          -0.0665370627842941,
          0.10219420775019715,
          0.0509872265054931,
          -0.021993124313164983,
          0.0014870785040711635,
          0.00048680153282933906,
          0.0017828808843847205,
          -0.12337276520463548,
          -0.08804506669837034,
          0.03567587240300875,
          0.04404145220248872,
          0.06481988126138057,
          0.07635947713621838,
          0.029466107589466856,
          0.018031400385618367,
          0.01042309385904638,
          -0.012548104439884354,
          -0.058137427888486075,
          0.03243961394954478,
          0.0764495776672661,
          -0.0019052669070341276,
          0.0011616692354418185,
          0.0018386732100053975,
          -0.04735032960185992,
          0.06694226752262554,
          0.15551375387647054,
          -0.042056433068206424,
          -0.03785451785223439,
          -0.18024552806816407,
          -0.01931802650279179,
          0.05509118300988905,
          0.026614387730385845,
          -0.034903840744270914,
          -0.0833104070140227,
          0.009890129807877537,
          -0.026475072733621936,
          -0.11923655496495755,
          -0.09893006080593125,
          -0.09713581893771603,
          0.012037622560024845,
          -0.023131404669174523,
          -0.12352685785473985,
          0.2921461806603082,
          0.08137746919591198,
          0.10904552621869112,
          0.012681487127387859,
          0.06794088301144707,
          0.04146849952300696,
          0.032292694893925555,
          0.0909803287201592,
          0.06561377128313249,
          0.057420382142060675,
          -0.07929167708966636,
          0.033028175925748485,
          0.043838983980915694,
          0.03410609083992293,
          -0.09715143071128024,
          -0.0640993192286906,
          0.05789163230657943,
          -0.039492008076106255,
          0.055096385903755526,
          0.09247235335045643,
          0.016551546947705564,
          0.04757847878197037,
          0.009452095150589656,
          -0.047571799653827775,
          -0.016164003403749135,
          0.00947776916394421,
          -0.059604587455739856,
          0.10203943413768096,
          -0.06406543511851838,
          0.07342703226501218,
          -0.010606297115961508,
          0.0482166769491696,
          -0.032891799216200945,
          0.08810103677856179,
          0.08223362180059302,
          0.0928830471189035,
          0.0655060848144513,
          -0.04800112959230233,
          -0.01238039746892803,
          0.027273445242469548,
          0.010537504725885773,
          0.04991611751979619,
          -0.04701193246036312,
          -0.056667223561118175,
          -0.07323237836998481,
          0.0005736565006752656,
          -0.024884920105812856,
          0.008399924677449145,
          0.011392110710812307,
          0.1268873377470805,
          0.046235480324128934,
          -0.045541021129635095,
          -0.0138745440537099,
          0.011134890705950569,
          0.035327788249657446,
          0.11379339437764414,
          0.03405993887028765,
          -0.04871119090869412,
          -0.027004592179278288,
          0.0552634386861548,
          0.025959777960267414,
          0.0406440178766654,
          0.0703042511798217,
          0.022417216847764966,
          0.007320899043378147,
          0.06619098138530406,
          0.004870760831172874,
          0.05652809797521867,
          0.03324216390276988,
          -0.05669372326291279
         ],
         "xbins": {
          "end": 0.3,
          "size": 0.01,
          "start": -0.38
         }
        },
        {
         "name": "Require Return is 0.01",
         "opacity": 0.5,
         "type": "histogram",
         "x": [
          0.02999301643803517,
          0.19464055340649256,
          -0.03976849010007262,
          0.1737317310401382,
          -0.05480015379574828,
          -0.07209583307204143,
          -0.22874460295763727,
          0.021721150602465877,
          0.03728255816057523,
          0.09868391769825964,
          0.1754735831187988,
          0.12378274637013692,
          0.20105221976043253,
          0.040969445610062175,
          0.04310132885861458,
          -0.07833606014139091,
          -0.06938870083059333,
          0.008726396986254797,
          0.16252931187859987,
          -0.026364199946860588,
          0.057388715874747795,
          0.0333114498671757,
          0.07933571485563493,
          0.19319809102677338,
          -0.040298040153411,
          0.052318004933256064,
          -0.1013486037843077,
          -0.005098771657302156,
          -0.2037161245923287,
          -0.04238263162739713,
          0.0044559564116061125,
          0.12995707202821777,
          0.08356161858646868,
          0.09872259374857859,
          0.002695190474943633,
          0.011739929327880556,
          -0.09105448277737313,
          0.03666431137945943,
          0.001168242900581925,
          0.09643080882407679,
          -0.17723411282230078,
          -0.20962235808447016,
          0.05131573346728588,
          -0.04946044916149854,
          0.05068240645944421,
          0.02202346536208721,
          -0.04011894098906498,
          0.049139776234564184,
          0.01334077053492197,
          0.07875582094949145,
          -0.08461915833144071,
          0.11384541828298825,
          0.0255429000854921,
          -0.018200087268196663,
          0.12752063139265338,
          0.02475118740202291,
          -0.026825310173408886,
          0.1191421435780146,
          -0.039532069822410885,
          0.08150274266158342,
          -0.04962671950959577,
          0.07572849929976992,
          0.08401772337990714,
          0.10435063327024582,
          0.006772415531334638,
          0.1690350818106868,
          -0.07646635411729094,
          -0.08035378766221005,
          -0.08968286743811593,
          0.02961941582791092,
          -0.09874066282953078,
          -0.05641506349992701,
          0.09726882091713208,
          -0.016423361056024807,
          0.00018318177268707766,
          0.10923967924214073,
          -0.030544821830517422,
          -0.19408374461866812,
          0.15576649995156944,
          0.005438438249140559,
          0.12426679967148492,
          0.08168725129659829,
          0.09560675859596879,
          -0.017042132491459475,
          0.10830581122120679,
          0.05598527853280007,
          -0.0138470981357634,
          0.11301193984307566,
          0.008041941812675237,
          0.033229241554771034,
          0.09222045792569816,
          -0.01851640545575574,
          -0.027903964816454907,
          -0.16403341830281293,
          -0.02032837035157406,
          0.011611079696600315,
          0.1571326759528308,
          0.10886450505501737,
          0.062443777043969466,
          0.015129041633951503,
          -0.0681143773526955,
          0.25139440130049423,
          -0.03392512270790964,
          -0.024044945891946758,
          -0.039562531260677734,
          0.09654668951035243,
          0.1521635049679351,
          0.12806166636474814,
          -0.011174628845562917,
          -0.025269223372102925,
          0.12297972097829937,
          -0.05496243238702217,
          -0.03496150749773066,
          0.17044346725668028,
          -0.06397584537973461,
          0.14493326413724522,
          -0.04152173535224895,
          0.005716052112376427,
          0.09575754471887571,
          0.14547226647263775,
          -0.021981654772363135,
          0.011356459225416657,
          -0.08684528687088958,
          -0.2205901886995878,
          0.036012804882379346,
          0.12487554715287386,
          -0.11499227118627084,
          -0.010594452530801539,
          -0.3748628912048025,
          0.17901426584668984,
          -0.25676551659644303,
          -0.06542149345192078,
          0.2860636728032062,
          -0.09885690369472394,
          -0.018158699300819474,
          0.22220587088465618,
          0.02613967591565968,
          -0.12199793918797766,
          -0.062062044310047464,
          -0.17403952480683949,
          0,
          0,
          0,
          0,
          -0.1735965895688712,
          0.0717131829401582,
          -0.09986500352684294,
          -0.09319642906965206,
          0,
          0,
          0,
          0,
          0,
          0,
          0,
          0,
          0,
          0,
          0,
          0,
          0,
          0,
          0,
          0,
          0,
          0,
          0,
          0.07529933574848213,
          0,
          0,
          0.04958998623407309,
          0,
          0,
          0.0731644563640771,
          0.0007690497739503682,
          0.05409298331280064,
          0.04775055342845772,
          0.1209488860893617,
          0.07282379107449685,
          0.004306284304988275,
          0.01696795396094255,
          -0.02339362286075399,
          0.014079999905007575,
          -0.03286463075951317,
          0.011387228187572759,
          -0.0025029579372979217,
          0.08401604958854925,
          0.01650694675332365,
          -0.0665370627842941,
          0.10219420775019715,
          0.0509872265054931,
          -0.021993124313164983,
          0.0014870785040711635,
          0.00048680153282933906,
          0.0017828808843847205,
          -0.12337276520463548,
          -0.08804506669837034,
          0.03567587240300875,
          0.04404145220248872,
          0.06481988126138057,
          0.07635947713621838,
          0.029466107589466856,
          0.018031400385618367,
          0.01042309385904638,
          -0.012548104439884354,
          -0.058137427888486075,
          0.03243961394954478,
          0.0764495776672661,
          -0.0019052669070341276,
          0.0011616692354418185,
          0.0018386732100053975,
          -0.04735032960185992,
          0.06694226752262554,
          0.15551375387647054,
          -0.042056433068206424,
          -0.03785451785223439,
          -0.18024552806816407,
          -0.01812041182954981,
          0.06572037985112592,
          0.02695841380594803,
          -0.034903840744270914,
          -0.0833104070140227,
          0.01011455328011249,
          -0.034165707133956454,
          -0.12871304591184776,
          -0.07580534541998438,
          -0.09646832383029191,
          0.00673611421847406,
          0,
          -0.106886726497871,
          0.30642762746622515,
          0.08820179272898963,
          0.10734492537186341,
          0.014428590508833099,
          0.06794443045049123,
          0.039836038903546034,
          0.029982717993042484,
          0.0935023491857092,
          0.0584204756497682,
          0.057420382142060675,
          -0.07929167708966636,
          0.033028175925748485,
          0.043838983980915694,
          0.03410609083992293,
          -0.09715143071128024,
          -0.06367651987781933,
          0.056320981492816266,
          -0.039492008076106255,
          0.06770142139182182,
          0.09380451710743769,
          0.015001805920631309,
          0.047132228041336106,
          0.009452095150589656,
          -0.047571799653827775,
          -0.016164003403749135,
          0.00947776916394421,
          -0.059604587455739856,
          0.10203943413768096,
          -0.06406543511851838,
          0.07342703226501218,
          -0.010606297115961508,
          0.0482166769491696,
          -0.032891799216200945,
          0.08810103677856179,
          0.08223362180059302,
          0.0928830471189035,
          0.0655060848144513,
          -0.04800112959230233,
          -0.01238039746892803,
          0.027273445242469548,
          0.010537504725885773,
          0.04991611751979619,
          -0.04701193246036312,
          -0.056667223561118175,
          -0.07323237836998481,
          0.0005736565006752656,
          -0.024884920105812856,
          0.008399924677449145,
          0.011009515920081522,
          0.11708905590721716,
          0.046235480324128934,
          -0.045541021129635095,
          -0.0138745440537099,
          0.011134890705950569,
          0.035327788249657446,
          0.11379339437764414,
          0.03405993887028765,
          -0.04871119090869412,
          -0.027004592179278288,
          0.0552634386861548,
          0.025959777960267414,
          0.0406440178766654,
          0.0703042511798217,
          0.022417216847764966,
          0.007320899043378147,
          0.06619098138530406,
          0.004870760831172874,
          0.05652809797521867,
          0.03324216390276988,
          -0.05669372326291279
         ],
         "xbins": {
          "end": 0.31,
          "size": 0.01,
          "start": -0.38
         }
        },
        {
         "name": "Require Return is 0.02",
         "opacity": 0.5,
         "type": "histogram",
         "x": [
          0.03564865317476254,
          0.18003601791849155,
          -0.008522533109586457,
          0.17180520198541144,
          -0.032180772747945036,
          -0.06441109462665681,
          -0.2379997820189177,
          0.058774737623211004,
          0.05109863383609282,
          0.09568866687286745,
          0.16847319400909483,
          0.1351461226671269,
          0.20105221976043253,
          0.040969445610062175,
          0.04310132885861458,
          -0.07833606014139091,
          -0.06938870083059333,
          0.008418000945422154,
          0.16252931187859987,
          -0.026364199946860588,
          0.057388715874747795,
          0.0333114498671757,
          0.07933571485563493,
          0.19319809102677338,
          -0.040298040153411,
          0.052318004933256064,
          -0.1013486037843077,
          -0.005098771657302156,
          -0.2037161245923287,
          -0.04238263162739713,
          0.0044559564116061125,
          0.12995707202821777,
          0.08356161858646868,
          0.09872259374857859,
          0.002695190474943633,
          0.011739929327880556,
          -0.09105448277737313,
          0.03666431137945943,
          0.001168242900581925,
          0.09643080882407679,
          -0.17723411282230078,
          -0.20962235808447016,
          0.05131573346728588,
          -0.04946044916149854,
          0.05068240645944421,
          0.02202346536208721,
          -0.04011894098906498,
          0.049139776234564184,
          0.006716071929672704,
          0.09476237421623143,
          -0.07468469146280676,
          0.11978254445599568,
          0.04013358540331627,
          -0.018200087268196663,
          0.12752063139265338,
          0.02475118740202291,
          -0.026825310173408886,
          0.1191421435780146,
          -0.039532069822410885,
          0.06259226410304759,
          -0.051019198043676744,
          0.13085961244128141,
          0.08320582330118892,
          0.10435063327024582,
          0.006772415531334638,
          0.1690350818106868,
          -0.07646635411729094,
          -0.08035378766221005,
          -0.08968286743811593,
          0.02961941582791092,
          -0.09807745581005078,
          -0.05791865955400975,
          0.13289975104062776,
          -0.016423361056024807,
          0.0024951099192252702,
          0.11335677923151337,
          -0.020007863454720873,
          -0.19408374461866812,
          0.15576649995156944,
          0.005438438249140559,
          0.12426679967148492,
          0.08168725129659829,
          0.09560675859596879,
          -0.017042132491459475,
          0.10830581122120679,
          0.05598527853280007,
          -0.0138470981357634,
          0.11301193984307566,
          0.008041941812675237,
          0.033229241554771034,
          0.09222045792569816,
          -0.01851640545575574,
          -0.027903964816454907,
          -0.16403341830281293,
          -0.02032837035157406,
          0.011611079696600315,
          0.1571326759528308,
          0.10886450505501737,
          0.062443777043969466,
          0.015129041633951503,
          -0.0681143773526955,
          0.25139440130049423,
          -0.03392512270790964,
          -0.024044945891946758,
          -0.039562531260677734,
          0.09654668951035243,
          0.1521635049679351,
          0.12806166636474814,
          -0.011174628845562917,
          -0.025269223372102925,
          0.12297972097829937,
          -0.05496243238702217,
          -0.03496150749773066,
          0.17044346725668028,
          -0.06397584537973461,
          0.14493326413724522,
          -0.04152173535224895,
          0.005716052112376427,
          0.09575754471887571,
          0.14547226647263775,
          -0.021981654772363135,
          0.011356459225416657,
          -0.08684528687088958,
          -0.2205901886995878,
          0.036012804882379346,
          0.12487554715287386,
          -0.11499227118627084,
          -0.010594452530801539,
          -0.3748628912048025,
          0.17901426584668984,
          -0.25676551659644303,
          -0.06542149345192078,
          0.28883684305864327,
          -0.09885690369472394,
          -0.026391306615252443,
          0,
          0.02613967591565968,
          -0.12199793918797766,
          -0.10755301764616193,
          -0.25255914485938114,
          0,
          0,
          0,
          0,
          -0.21778246935647733,
          0,
          -0.09874450637015685,
          -0.13864592577440055,
          0,
          0,
          0,
          0,
          0,
          0,
          0,
          0,
          0,
          0,
          0,
          0,
          0,
          0,
          0,
          0,
          0,
          0,
          0,
          0,
          0,
          0,
          0,
          0,
          0,
          0,
          0.011355184578746513,
          0.09671923742171765,
          0.06638994365997752,
          0.18836511355052293,
          0.09497139195677613,
          0.024624333502960123,
          0.04564140294403665,
          -0.02073344233425898,
          0.027252400979011226,
          -0.04230706239230992,
          0.009663721235251967,
          -0.000250801563752236,
          0.08401604958854925,
          0.01650694675332365,
          -0.0665370627842941,
          0.10547731188413881,
          0.062067806221671705,
          -0.021993124313164983,
          0.0014870785040711635,
          0.00048680153282933906,
          0.0019986465380813826,
          -0.12006578484938614,
          -0.09340027273244253,
          0.019608872409349866,
          0.05361379389398073,
          0.06320078343163198,
          0.07332262440568067,
          0.03297850159090461,
          0.01920914466340877,
          0.009760327988076464,
          -0.01133892731195281,
          -0.058137427888486075,
          0.032773738457540974,
          0.08024560063436159,
          -0.0019052669070341276,
          0.002683799494798523,
          0.0027512323278473354,
          -0.04712713588824593,
          0.0728511573264654,
          0.15574268334125577,
          -0.042056433068206424,
          -0.03190161887162464,
          -0.19663512352896642,
          -0.01382583734338039,
          0.0999667541602979,
          0.038134517045726735,
          -0.03487340259212638,
          -0.06920282357080161,
          0.009193461314484487,
          -0.04051123246988712,
          -0.1769291668715301,
          0.0035554714426796405,
          -0.09513333361544367,
          0,
          0,
          0,
          0,
          0.10185043979514492,
          0.09978543551346121,
          0.005892195410970826,
          0.09811485021351948,
          0.035196911707241756,
          0.049569495479461614,
          0.07293869599167355,
          0.03907988975222809,
          0.06410650404626952,
          -0.07514702781283394,
          0.04679439182260542,
          0.05280576063508222,
          0.04015434708935985,
          -0.07371813370009288,
          -0.05093297593485924,
          0.05317967986528995,
          -0.03006738747950555,
          0.095595879461385,
          0.09646884462140018,
          0.011131519294456951,
          0.04623972656006757,
          0.015706618381140614,
          -0.047571799653827775,
          -0.020364558907535094,
          0.01966254456711946,
          -0.05286425529673716,
          0.09163902852362812,
          -0.05749785734658919,
          0.07566847599295021,
          -0.010606297115961508,
          0.0482166769491696,
          -0.032891799216200945,
          0.08810103677856179,
          0.08223362180059302,
          0.0928830471189035,
          0.0655060848144513,
          -0.04800112959230233,
          -0.01238039746892803,
          0.027273445242469548,
          0.010537504725885773,
          0.04991611751979619,
          -0.04701193246036312,
          -0.056667223561118175,
          -0.07167622194906698,
          -0.0032023521563771667,
          -0.046140044218547456,
          -0.008143257620847829,
          -0.0002516531906976297,
          0.09132182890315875,
          0.04493697101981106,
          -0.045541021129635095,
          0.007415798989226716,
          0.011134890705950569,
          0.034164951784183356,
          0.11379339437764414,
          0.03405993887028765,
          -0.04871119090869412,
          -0.02952925617882099,
          0.053468370836683224,
          0.025959777960267414,
          0.0406440178766654,
          0.0703042511798217,
          0.022417216847764966,
          0.007320899043378147,
          0.06619098138530406,
          0.004870760831172874,
          0.05652809797521867,
          0.03324216390276988,
          -0.05669372326291279
         ],
         "xbins": {
          "end": 0.29000000000000004,
          "size": 0.01,
          "start": -0.38
         }
        }
       ],
       "layout": {
        "bargroupgap": 0.1,
        "barmode": "overlay",
        "template": {
         "data": {
          "bar": [
           {
            "error_x": {
             "color": "#2a3f5f"
            },
            "error_y": {
             "color": "#2a3f5f"
            },
            "marker": {
             "line": {
              "color": "#E5ECF6",
              "width": 0.5
             },
             "pattern": {
              "fillmode": "overlay",
              "size": 10,
              "solidity": 0.2
             }
            },
            "type": "bar"
           }
          ],
          "barpolar": [
           {
            "marker": {
             "line": {
              "color": "#E5ECF6",
              "width": 0.5
             },
             "pattern": {
              "fillmode": "overlay",
              "size": 10,
              "solidity": 0.2
             }
            },
            "type": "barpolar"
           }
          ],
          "carpet": [
           {
            "aaxis": {
             "endlinecolor": "#2a3f5f",
             "gridcolor": "white",
             "linecolor": "white",
             "minorgridcolor": "white",
             "startlinecolor": "#2a3f5f"
            },
            "baxis": {
             "endlinecolor": "#2a3f5f",
             "gridcolor": "white",
             "linecolor": "white",
             "minorgridcolor": "white",
             "startlinecolor": "#2a3f5f"
            },
            "type": "carpet"
           }
          ],
          "choropleth": [
           {
            "colorbar": {
             "outlinewidth": 0,
             "ticks": ""
            },
            "type": "choropleth"
           }
          ],
          "contour": [
           {
            "colorbar": {
             "outlinewidth": 0,
             "ticks": ""
            },
            "colorscale": [
             [
              0,
              "#0d0887"
             ],
             [
              0.1111111111111111,
              "#46039f"
             ],
             [
              0.2222222222222222,
              "#7201a8"
             ],
             [
              0.3333333333333333,
              "#9c179e"
             ],
             [
              0.4444444444444444,
              "#bd3786"
             ],
             [
              0.5555555555555556,
              "#d8576b"
             ],
             [
              0.6666666666666666,
              "#ed7953"
             ],
             [
              0.7777777777777778,
              "#fb9f3a"
             ],
             [
              0.8888888888888888,
              "#fdca26"
             ],
             [
              1,
              "#f0f921"
             ]
            ],
            "type": "contour"
           }
          ],
          "contourcarpet": [
           {
            "colorbar": {
             "outlinewidth": 0,
             "ticks": ""
            },
            "type": "contourcarpet"
           }
          ],
          "heatmap": [
           {
            "colorbar": {
             "outlinewidth": 0,
             "ticks": ""
            },
            "colorscale": [
             [
              0,
              "#0d0887"
             ],
             [
              0.1111111111111111,
              "#46039f"
             ],
             [
              0.2222222222222222,
              "#7201a8"
             ],
             [
              0.3333333333333333,
              "#9c179e"
             ],
             [
              0.4444444444444444,
              "#bd3786"
             ],
             [
              0.5555555555555556,
              "#d8576b"
             ],
             [
              0.6666666666666666,
              "#ed7953"
             ],
             [
              0.7777777777777778,
              "#fb9f3a"
             ],
             [
              0.8888888888888888,
              "#fdca26"
             ],
             [
              1,
              "#f0f921"
             ]
            ],
            "type": "heatmap"
           }
          ],
          "heatmapgl": [
           {
            "colorbar": {
             "outlinewidth": 0,
             "ticks": ""
            },
            "colorscale": [
             [
              0,
              "#0d0887"
             ],
             [
              0.1111111111111111,
              "#46039f"
             ],
             [
              0.2222222222222222,
              "#7201a8"
             ],
             [
              0.3333333333333333,
              "#9c179e"
             ],
             [
              0.4444444444444444,
              "#bd3786"
             ],
             [
              0.5555555555555556,
              "#d8576b"
             ],
             [
              0.6666666666666666,
              "#ed7953"
             ],
             [
              0.7777777777777778,
              "#fb9f3a"
             ],
             [
              0.8888888888888888,
              "#fdca26"
             ],
             [
              1,
              "#f0f921"
             ]
            ],
            "type": "heatmapgl"
           }
          ],
          "histogram": [
           {
            "marker": {
             "pattern": {
              "fillmode": "overlay",
              "size": 10,
              "solidity": 0.2
             }
            },
            "type": "histogram"
           }
          ],
          "histogram2d": [
           {
            "colorbar": {
             "outlinewidth": 0,
             "ticks": ""
            },
            "colorscale": [
             [
              0,
              "#0d0887"
             ],
             [
              0.1111111111111111,
              "#46039f"
             ],
             [
              0.2222222222222222,
              "#7201a8"
             ],
             [
              0.3333333333333333,
              "#9c179e"
             ],
             [
              0.4444444444444444,
              "#bd3786"
             ],
             [
              0.5555555555555556,
              "#d8576b"
             ],
             [
              0.6666666666666666,
              "#ed7953"
             ],
             [
              0.7777777777777778,
              "#fb9f3a"
             ],
             [
              0.8888888888888888,
              "#fdca26"
             ],
             [
              1,
              "#f0f921"
             ]
            ],
            "type": "histogram2d"
           }
          ],
          "histogram2dcontour": [
           {
            "colorbar": {
             "outlinewidth": 0,
             "ticks": ""
            },
            "colorscale": [
             [
              0,
              "#0d0887"
             ],
             [
              0.1111111111111111,
              "#46039f"
             ],
             [
              0.2222222222222222,
              "#7201a8"
             ],
             [
              0.3333333333333333,
              "#9c179e"
             ],
             [
              0.4444444444444444,
              "#bd3786"
             ],
             [
              0.5555555555555556,
              "#d8576b"
             ],
             [
              0.6666666666666666,
              "#ed7953"
             ],
             [
              0.7777777777777778,
              "#fb9f3a"
             ],
             [
              0.8888888888888888,
              "#fdca26"
             ],
             [
              1,
              "#f0f921"
             ]
            ],
            "type": "histogram2dcontour"
           }
          ],
          "mesh3d": [
           {
            "colorbar": {
             "outlinewidth": 0,
             "ticks": ""
            },
            "type": "mesh3d"
           }
          ],
          "parcoords": [
           {
            "line": {
             "colorbar": {
              "outlinewidth": 0,
              "ticks": ""
             }
            },
            "type": "parcoords"
           }
          ],
          "pie": [
           {
            "automargin": true,
            "type": "pie"
           }
          ],
          "scatter": [
           {
            "fillpattern": {
             "fillmode": "overlay",
             "size": 10,
             "solidity": 0.2
            },
            "type": "scatter"
           }
          ],
          "scatter3d": [
           {
            "line": {
             "colorbar": {
              "outlinewidth": 0,
              "ticks": ""
             }
            },
            "marker": {
             "colorbar": {
              "outlinewidth": 0,
              "ticks": ""
             }
            },
            "type": "scatter3d"
           }
          ],
          "scattercarpet": [
           {
            "marker": {
             "colorbar": {
              "outlinewidth": 0,
              "ticks": ""
             }
            },
            "type": "scattercarpet"
           }
          ],
          "scattergeo": [
           {
            "marker": {
             "colorbar": {
              "outlinewidth": 0,
              "ticks": ""
             }
            },
            "type": "scattergeo"
           }
          ],
          "scattergl": [
           {
            "marker": {
             "colorbar": {
              "outlinewidth": 0,
              "ticks": ""
             }
            },
            "type": "scattergl"
           }
          ],
          "scattermapbox": [
           {
            "marker": {
             "colorbar": {
              "outlinewidth": 0,
              "ticks": ""
             }
            },
            "type": "scattermapbox"
           }
          ],
          "scatterpolar": [
           {
            "marker": {
             "colorbar": {
              "outlinewidth": 0,
              "ticks": ""
             }
            },
            "type": "scatterpolar"
           }
          ],
          "scatterpolargl": [
           {
            "marker": {
             "colorbar": {
              "outlinewidth": 0,
              "ticks": ""
             }
            },
            "type": "scatterpolargl"
           }
          ],
          "scatterternary": [
           {
            "marker": {
             "colorbar": {
              "outlinewidth": 0,
              "ticks": ""
             }
            },
            "type": "scatterternary"
           }
          ],
          "surface": [
           {
            "colorbar": {
             "outlinewidth": 0,
             "ticks": ""
            },
            "colorscale": [
             [
              0,
              "#0d0887"
             ],
             [
              0.1111111111111111,
              "#46039f"
             ],
             [
              0.2222222222222222,
              "#7201a8"
             ],
             [
              0.3333333333333333,
              "#9c179e"
             ],
             [
              0.4444444444444444,
              "#bd3786"
             ],
             [
              0.5555555555555556,
              "#d8576b"
             ],
             [
              0.6666666666666666,
              "#ed7953"
             ],
             [
              0.7777777777777778,
              "#fb9f3a"
             ],
             [
              0.8888888888888888,
              "#fdca26"
             ],
             [
              1,
              "#f0f921"
             ]
            ],
            "type": "surface"
           }
          ],
          "table": [
           {
            "cells": {
             "fill": {
              "color": "#EBF0F8"
             },
             "line": {
              "color": "white"
             }
            },
            "header": {
             "fill": {
              "color": "#C8D4E3"
             },
             "line": {
              "color": "white"
             }
            },
            "type": "table"
           }
          ]
         },
         "layout": {
          "annotationdefaults": {
           "arrowcolor": "#2a3f5f",
           "arrowhead": 0,
           "arrowwidth": 1
          },
          "autotypenumbers": "strict",
          "coloraxis": {
           "colorbar": {
            "outlinewidth": 0,
            "ticks": ""
           }
          },
          "colorscale": {
           "diverging": [
            [
             0,
             "#8e0152"
            ],
            [
             0.1,
             "#c51b7d"
            ],
            [
             0.2,
             "#de77ae"
            ],
            [
             0.3,
             "#f1b6da"
            ],
            [
             0.4,
             "#fde0ef"
            ],
            [
             0.5,
             "#f7f7f7"
            ],
            [
             0.6,
             "#e6f5d0"
            ],
            [
             0.7,
             "#b8e186"
            ],
            [
             0.8,
             "#7fbc41"
            ],
            [
             0.9,
             "#4d9221"
            ],
            [
             1,
             "#276419"
            ]
           ],
           "sequential": [
            [
             0,
             "#0d0887"
            ],
            [
             0.1111111111111111,
             "#46039f"
            ],
            [
             0.2222222222222222,
             "#7201a8"
            ],
            [
             0.3333333333333333,
             "#9c179e"
            ],
            [
             0.4444444444444444,
             "#bd3786"
            ],
            [
             0.5555555555555556,
             "#d8576b"
            ],
            [
             0.6666666666666666,
             "#ed7953"
            ],
            [
             0.7777777777777778,
             "#fb9f3a"
            ],
            [
             0.8888888888888888,
             "#fdca26"
            ],
            [
             1,
             "#f0f921"
            ]
           ],
           "sequentialminus": [
            [
             0,
             "#0d0887"
            ],
            [
             0.1111111111111111,
             "#46039f"
            ],
            [
             0.2222222222222222,
             "#7201a8"
            ],
            [
             0.3333333333333333,
             "#9c179e"
            ],
            [
             0.4444444444444444,
             "#bd3786"
            ],
            [
             0.5555555555555556,
             "#d8576b"
            ],
            [
             0.6666666666666666,
             "#ed7953"
            ],
            [
             0.7777777777777778,
             "#fb9f3a"
            ],
            [
             0.8888888888888888,
             "#fdca26"
            ],
            [
             1,
             "#f0f921"
            ]
           ]
          },
          "colorway": [
           "#636efa",
           "#EF553B",
           "#00cc96",
           "#ab63fa",
           "#FFA15A",
           "#19d3f3",
           "#FF6692",
           "#B6E880",
           "#FF97FF",
           "#FECB52"
          ],
          "font": {
           "color": "#2a3f5f"
          },
          "geo": {
           "bgcolor": "white",
           "lakecolor": "white",
           "landcolor": "#E5ECF6",
           "showlakes": true,
           "showland": true,
           "subunitcolor": "white"
          },
          "hoverlabel": {
           "align": "left"
          },
          "hovermode": "closest",
          "mapbox": {
           "style": "light"
          },
          "paper_bgcolor": "white",
          "plot_bgcolor": "#E5ECF6",
          "polar": {
           "angularaxis": {
            "gridcolor": "white",
            "linecolor": "white",
            "ticks": ""
           },
           "bgcolor": "#E5ECF6",
           "radialaxis": {
            "gridcolor": "white",
            "linecolor": "white",
            "ticks": ""
           }
          },
          "scene": {
           "xaxis": {
            "backgroundcolor": "#E5ECF6",
            "gridcolor": "white",
            "gridwidth": 2,
            "linecolor": "white",
            "showbackground": true,
            "ticks": "",
            "zerolinecolor": "white"
           },
           "yaxis": {
            "backgroundcolor": "#E5ECF6",
            "gridcolor": "white",
            "gridwidth": 2,
            "linecolor": "white",
            "showbackground": true,
            "ticks": "",
            "zerolinecolor": "white"
           },
           "zaxis": {
            "backgroundcolor": "#E5ECF6",
            "gridcolor": "white",
            "gridwidth": 2,
            "linecolor": "white",
            "showbackground": true,
            "ticks": "",
            "zerolinecolor": "white"
           }
          },
          "shapedefaults": {
           "line": {
            "color": "#2a3f5f"
           }
          },
          "ternary": {
           "aaxis": {
            "gridcolor": "white",
            "linecolor": "white",
            "ticks": ""
           },
           "baxis": {
            "gridcolor": "white",
            "linecolor": "white",
            "ticks": ""
           },
           "bgcolor": "#E5ECF6",
           "caxis": {
            "gridcolor": "white",
            "linecolor": "white",
            "ticks": ""
           }
          },
          "title": {
           "x": 0.05
          },
          "xaxis": {
           "automargin": true,
           "gridcolor": "white",
           "linecolor": "white",
           "ticks": "",
           "title": {
            "standoff": 15
           },
           "zerolinecolor": "white",
           "zerolinewidth": 2
          },
          "yaxis": {
           "automargin": true,
           "gridcolor": "white",
           "linecolor": "white",
           "ticks": "",
           "title": {
            "standoff": 15
           },
           "zerolinecolor": "white",
           "zerolinewidth": 2
          }
         }
        },
        "xaxis": {
         "title": {
          "text": "Return"
         }
        },
        "yaxis": {
         "title": {
          "text": "Count"
         }
        }
       }
      }
     },
     "metadata": {},
     "output_type": "display_data"
    }
   ],
   "source": [
    "size = 0.01\n",
    "rr_0_01 = np.array(list(Return[require_return[0]].values()))\n",
    "rr_0_05 = np.array(list(Return[require_return[1]].values()))\n",
    "rr_0_1 = np.array(list(Return[require_return[2]].values()))\n",
    "\n",
    "# Create a histogram using Plotly (go.Histogram) for the optimal portfolio payoffs\n",
    "hist = go.Figure(data=[go.Histogram(x=rr_0_01, xbins=dict(\n",
    "    start=min(rr_0_01) // size * size,  # type: ignore\n",
    "    end=max(rr_0_01) // size * size + size,  # type: ignore\n",
    "    size=size\n",
    "), name='Require Return is %.2f' % require_return[0])])\n",
    "\n",
    "# Update layout settings for the histogram\n",
    "hist.update_layout(\n",
    "    # title_text='Portfolios payoffs with mean of return are %f' % np.mean(rr_0_01),  # title of plot\n",
    "    xaxis_title_text='Return',  # x-axis label\n",
    "    yaxis_title_text='Count',  # y-axis label\n",
    "    bargroupgap=0.1  # gap between bars of the same location coordinates\n",
    ")\n",
    "\n",
    "# Add a histogram for the random portfolio payoffs\n",
    "hist.add_trace(go.Histogram(x=rr_0_05, xbins=dict(\n",
    "    start=min(rr_0_05) // size * size,  # type: ignore\n",
    "    end=max(rr_0_05) // size * size + size,  # type: ignore\n",
    "    size=size\n",
    "), name='Require Return is %.2f' % require_return[1]))\n",
    "\n",
    "# Add a histogram for the random portfolio payoffs\n",
    "hist.add_trace(go.Histogram(x=rr_0_1, xbins=dict(\n",
    "    start=min(rr_0_1) // size * size,  # type: ignore\n",
    "    end=max(rr_0_1) // size * size + size,  # type: ignore\n",
    "    size=size\n",
    "), name='Require Return is %.2f' % require_return[2]))\n",
    "\n",
    "\n",
    "# The two histograms are drawn on top of one another\n",
    "hist.update_layout(barmode='overlay')\n",
    "hist.update_traces(opacity=0.5)\n",
    "\n",
    "# Show the overlaid histogram\n",
    "hist.show()"
   ]
  },
  {
   "cell_type": "markdown",
   "metadata": {},
   "source": [
    "# Line chart "
   ]
  },
  {
   "cell_type": "code",
   "execution_count": 61,
   "metadata": {},
   "outputs": [
    {
     "data": {
      "application/vnd.plotly.v1+json": {
       "config": {
        "plotlyServerURL": "https://plot.ly"
       },
       "data": [
        {
         "name": "Require Return is 0.00",
         "type": "scatter",
         "x": [
          "1990-01-22T00:00:00",
          "1990-02-21T00:00:00",
          "1990-03-23T00:00:00",
          "1990-04-23T00:00:00",
          "1990-05-23T00:00:00",
          "1990-06-22T00:00:00",
          "1990-07-23T00:00:00",
          "1990-08-22T00:00:00",
          "1990-09-21T00:00:00",
          "1990-10-22T00:00:00",
          "1990-11-21T00:00:00",
          "1990-12-21T00:00:00",
          "1991-01-21T00:00:00",
          "1991-02-20T00:00:00",
          "1991-03-22T00:00:00",
          "1991-04-22T00:00:00",
          "1991-05-22T00:00:00",
          "1991-06-21T00:00:00",
          "1991-07-22T00:00:00",
          "1991-08-21T00:00:00",
          "1991-09-20T00:00:00",
          "1991-10-21T00:00:00",
          "1991-11-20T00:00:00",
          "1991-12-20T00:00:00",
          "1992-01-20T00:00:00",
          "1992-02-19T00:00:00",
          "1992-03-20T00:00:00",
          "1992-04-20T00:00:00",
          "1992-05-20T00:00:00",
          "1992-06-19T00:00:00",
          "1992-07-20T00:00:00",
          "1992-08-19T00:00:00",
          "1992-09-18T00:00:00",
          "1992-10-19T00:00:00",
          "1992-11-18T00:00:00",
          "1992-12-18T00:00:00",
          "1993-01-18T00:00:00",
          "1993-02-17T00:00:00",
          "1993-03-19T00:00:00",
          "1993-04-19T00:00:00",
          "1993-05-19T00:00:00",
          "1993-06-18T00:00:00",
          "1993-07-19T00:00:00",
          "1993-08-18T00:00:00",
          "1993-09-17T00:00:00",
          "1993-10-18T00:00:00",
          "1993-11-17T00:00:00",
          "1993-12-17T00:00:00",
          "1994-01-17T00:00:00",
          "1994-02-16T00:00:00",
          "1994-03-18T00:00:00",
          "1994-04-18T00:00:00",
          "1994-05-18T00:00:00",
          "1994-06-17T00:00:00",
          "1994-07-18T00:00:00",
          "1994-08-17T00:00:00",
          "1994-09-16T00:00:00",
          "1994-10-17T00:00:00",
          "1994-11-16T00:00:00",
          "1994-12-16T00:00:00",
          "1995-01-16T00:00:00",
          "1995-02-15T00:00:00",
          "1995-03-17T00:00:00",
          "1995-04-17T00:00:00",
          "1995-05-17T00:00:00",
          "1995-06-16T00:00:00",
          "1995-07-17T00:00:00",
          "1995-08-16T00:00:00",
          "1995-09-15T00:00:00",
          "1995-10-16T00:00:00",
          "1995-11-15T00:00:00",
          "1995-12-15T00:00:00",
          "1996-01-15T00:00:00",
          "1996-02-14T00:00:00",
          "1996-03-15T00:00:00",
          "1996-04-15T00:00:00",
          "1996-05-15T00:00:00",
          "1996-06-14T00:00:00",
          "1996-07-15T00:00:00",
          "1996-08-14T00:00:00",
          "1996-09-13T00:00:00",
          "1996-10-14T00:00:00",
          "1996-11-13T00:00:00",
          "1996-12-13T00:00:00",
          "1997-01-13T00:00:00",
          "1997-02-12T00:00:00",
          "1997-03-14T00:00:00",
          "1997-04-14T00:00:00",
          "1997-05-14T00:00:00",
          "1997-06-13T00:00:00",
          "1997-07-14T00:00:00",
          "1997-08-13T00:00:00",
          "1997-09-12T00:00:00",
          "1997-10-13T00:00:00",
          "1997-11-12T00:00:00",
          "1997-12-12T00:00:00",
          "1998-01-12T00:00:00",
          "1998-02-11T00:00:00",
          "1998-03-13T00:00:00",
          "1998-04-13T00:00:00",
          "1998-05-13T00:00:00",
          "1998-06-12T00:00:00",
          "1998-07-13T00:00:00",
          "1998-08-12T00:00:00",
          "1998-09-11T00:00:00",
          "1998-10-12T00:00:00",
          "1998-11-11T00:00:00",
          "1998-12-11T00:00:00",
          "1999-01-11T00:00:00",
          "1999-02-10T00:00:00",
          "1999-03-12T00:00:00",
          "1999-04-12T00:00:00",
          "1999-05-12T00:00:00",
          "1999-06-11T00:00:00",
          "1999-07-12T00:00:00",
          "1999-08-11T00:00:00",
          "1999-09-10T00:00:00",
          "1999-10-11T00:00:00",
          "1999-11-10T00:00:00",
          "1999-12-10T00:00:00",
          "2000-01-10T00:00:00",
          "2000-02-09T00:00:00",
          "2000-03-10T00:00:00",
          "2000-04-10T00:00:00",
          "2000-05-10T00:00:00",
          "2000-06-09T00:00:00",
          "2000-07-10T00:00:00",
          "2000-08-09T00:00:00",
          "2000-09-08T00:00:00",
          "2000-10-09T00:00:00",
          "2000-11-08T00:00:00",
          "2000-12-08T00:00:00",
          "2001-01-08T00:00:00",
          "2001-02-07T00:00:00",
          "2001-03-09T00:00:00",
          "2001-04-09T00:00:00",
          "2001-05-09T00:00:00",
          "2001-06-08T00:00:00",
          "2001-07-09T00:00:00",
          "2001-08-08T00:00:00",
          "2001-09-07T00:00:00",
          "2001-10-08T00:00:00",
          "2001-11-07T00:00:00",
          "2001-12-07T00:00:00",
          "2002-01-07T00:00:00",
          "2002-02-06T00:00:00",
          "2002-03-08T00:00:00",
          "2002-04-08T00:00:00",
          "2002-05-08T00:00:00",
          "2002-06-07T00:00:00",
          "2002-07-08T00:00:00",
          "2002-08-07T00:00:00",
          "2002-09-06T00:00:00",
          "2002-10-07T00:00:00",
          "2002-11-06T00:00:00",
          "2002-12-06T00:00:00",
          "2003-01-06T00:00:00",
          "2003-02-05T00:00:00",
          "2003-03-07T00:00:00",
          "2003-04-07T00:00:00",
          "2003-05-07T00:00:00",
          "2003-06-06T00:00:00",
          "2003-07-07T00:00:00",
          "2003-08-06T00:00:00",
          "2003-09-05T00:00:00",
          "2003-10-06T00:00:00",
          "2003-11-05T00:00:00",
          "2003-12-05T00:00:00",
          "2004-01-05T00:00:00",
          "2004-02-04T00:00:00",
          "2004-03-05T00:00:00",
          "2004-04-05T00:00:00",
          "2004-05-05T00:00:00",
          "2004-06-04T00:00:00",
          "2004-07-06T00:00:00",
          "2004-08-05T00:00:00",
          "2004-09-07T00:00:00",
          "2004-10-07T00:00:00",
          "2004-11-08T00:00:00",
          "2004-12-08T00:00:00",
          "2005-01-07T00:00:00",
          "2005-02-07T00:00:00",
          "2005-03-09T00:00:00",
          "2005-04-08T00:00:00",
          "2005-05-09T00:00:00",
          "2005-06-08T00:00:00",
          "2005-07-08T00:00:00",
          "2005-08-08T00:00:00",
          "2005-09-07T00:00:00",
          "2005-10-07T00:00:00",
          "2005-11-07T00:00:00",
          "2005-12-07T00:00:00",
          "2006-01-06T00:00:00",
          "2006-02-06T00:00:00",
          "2006-03-08T00:00:00",
          "2006-04-07T00:00:00",
          "2006-05-08T00:00:00",
          "2006-06-07T00:00:00",
          "2006-07-07T00:00:00",
          "2006-08-07T00:00:00",
          "2006-09-06T00:00:00",
          "2006-10-06T00:00:00",
          "2006-11-06T00:00:00",
          "2006-12-06T00:00:00",
          "2007-01-05T00:00:00",
          "2007-02-05T00:00:00",
          "2007-03-07T00:00:00",
          "2007-04-09T00:00:00",
          "2007-05-09T00:00:00",
          "2007-06-08T00:00:00",
          "2007-07-09T00:00:00",
          "2007-08-08T00:00:00",
          "2007-09-07T00:00:00",
          "2007-10-08T00:00:00",
          "2007-11-07T00:00:00",
          "2007-12-07T00:00:00",
          "2008-01-07T00:00:00",
          "2008-02-06T00:00:00",
          "2008-03-07T00:00:00",
          "2008-04-07T00:00:00",
          "2008-05-07T00:00:00",
          "2008-06-06T00:00:00",
          "2008-07-07T00:00:00",
          "2008-08-06T00:00:00",
          "2008-09-05T00:00:00",
          "2008-10-06T00:00:00",
          "2008-11-05T00:00:00",
          "2008-12-05T00:00:00",
          "2009-01-05T00:00:00",
          "2009-02-04T00:00:00",
          "2009-03-06T00:00:00",
          "2009-04-06T00:00:00",
          "2009-05-06T00:00:00",
          "2009-06-05T00:00:00",
          "2009-07-06T00:00:00",
          "2009-08-05T00:00:00",
          "2009-09-04T00:00:00",
          "2009-10-05T00:00:00",
          "2009-11-04T00:00:00",
          "2009-12-04T00:00:00",
          "2010-01-04T00:00:00",
          "2010-02-03T00:00:00",
          "2010-03-05T00:00:00",
          "2010-04-05T00:00:00",
          "2010-05-05T00:00:00",
          "2010-06-04T00:00:00",
          "2010-07-06T00:00:00",
          "2010-08-05T00:00:00",
          "2010-09-07T00:00:00",
          "2010-10-07T00:00:00",
          "2010-11-08T00:00:00",
          "2010-12-08T00:00:00",
          "2011-01-07T00:00:00",
          "2011-02-07T00:00:00",
          "2011-03-09T00:00:00",
          "2011-04-08T00:00:00",
          "2011-05-09T00:00:00",
          "2011-06-08T00:00:00",
          "2011-07-08T00:00:00",
          "2011-08-08T00:00:00",
          "2011-09-07T00:00:00",
          "2011-10-07T00:00:00",
          "2011-11-07T00:00:00",
          "2011-12-07T00:00:00",
          "2012-01-06T00:00:00",
          "2012-02-06T00:00:00",
          "2012-03-07T00:00:00",
          "2012-04-09T00:00:00",
          "2012-05-09T00:00:00",
          "2012-06-08T00:00:00",
          "2012-07-09T00:00:00",
          "2012-08-08T00:00:00",
          "2012-09-07T00:00:00",
          "2012-10-08T00:00:00",
          "2012-11-07T00:00:00",
          "2012-12-07T00:00:00",
          "2013-01-07T00:00:00",
          "2013-02-06T00:00:00",
          "2013-03-08T00:00:00",
          "2013-04-08T00:00:00",
          "2013-05-08T00:00:00",
          "2013-06-07T00:00:00",
          "2013-07-08T00:00:00",
          "2013-08-07T00:00:00",
          "2013-09-06T00:00:00",
          "2013-10-07T00:00:00",
          "2013-11-06T00:00:00",
          "2013-12-06T00:00:00",
          "2014-01-06T00:00:00",
          "2014-02-05T00:00:00",
          "2014-03-07T00:00:00",
          "2014-04-07T00:00:00",
          "2014-05-07T00:00:00",
          "2014-06-06T00:00:00",
          "2014-07-07T00:00:00",
          "2014-08-06T00:00:00",
          "2014-09-05T00:00:00",
          "2014-10-06T00:00:00",
          "2014-11-05T00:00:00",
          "2014-12-05T00:00:00",
          "2015-01-05T00:00:00"
         ],
         "y": [
          100000,
          102816.50278751765,
          123579.55742125648,
          117761.56600360804,
          138392.01275092902,
          130474.95890228535,
          121068.25804518473,
          93934.80163128894,
          95049.56048880333,
          97700.43095329056,
          107474.93451095847,
          126333.9463650546,
          141971.9092058986,
          170515.6766953711,
          177501.60943740507,
          185152.16467870004,
          170648.07357112065,
          158807.0254467771,
          160192.83859503194,
          186228.8704197621,
          181319.0952441375,
          191724.76528376964,
          198111.39519081597,
          213828.7043493265,
          255140.00183634475,
          244858.35979760234,
          257668.8606734423,
          231554.48140549564,
          230373.83797858402,
          183442.97249812583,
          175668.17657010304,
          176450.94630780575,
          199381.9946465764,
          216042.676836243,
          237370.9702539028,
          238010.73023195926,
          240804.95938415974,
          218878.58835720873,
          226903.62107503394,
          227168.69961947115,
          249074.7610632905,
          204930.21675981168,
          161972.26147985834,
          170283.98687905227,
          161861.66440300364,
          170065.20306847882,
          173810.6281775538,
          166837.5298424262,
          175035.88872641046,
          177371.0023532856,
          191340.0012562528,
          175148.9713948119,
          195088.8793050894,
          200072.01505696992,
          196430.6869230091,
          221479.65214432386,
          226961.53652028288,
          220873.22290569285,
          247188.5321416617,
          237416.6578297383,
          256766.76659640868,
          244024.27429114285,
          262503.86637592653,
          284558.8436072552,
          314252.7391403211,
          316380.98927163944,
          369860.47567651706,
          341578.5935694468,
          314131.4597918111,
          285959.2497251603,
          294429.19565260725,
          265357.06171750324,
          250386.92623055624,
          274741.76731806743,
          270229.58407623245,
          270279.085210476,
          299804.2857847277,
          290646.8172914077,
          234236.99462999342,
          270723.271442682,
          272195.5832370284,
          306020.4572506072,
          331018.42724393745,
          362666.02610826585,
          356485.42364117765,
          395094.86663717096,
          417214.36279273254,
          411437.1545674916,
          457934.4655286792,
          461617.14785447926,
          476956.3355663602,
          520941.46724285296,
          511295.503816668,
          497028.3320673561,
          415499.07576500205,
          407052.6566721144,
          411778.97750944714,
          476482.91014662717,
          528354.986326914,
          561347.4672931813,
          569840.1164969732,
          531025.8117711943,
          664522.7277965227,
          641978.7127138309,
          626542.3693028452,
          601754.7672311623,
          659852.1979044037,
          760257.6210983333,
          857617.4789226851,
          848033.9219042566,
          826604.7633045375,
          928260.3864550629,
          877240.9377269754,
          846571.2721053176,
          990863.8150028466,
          927472.4647818506,
          1061894.0765001003,
          1017802.3916835425,
          1023620.203194507,
          1121639.5605770496,
          1284807.0096195666,
          1256564.8254849971,
          1270834.9526897103,
          1160468.9266578192,
          904480.8671463628,
          937053.76013475,
          1054068.861143235,
          932859.0888136483,
          922975.9574792854,
          576986.5215460797,
          680275.3401040863,
          505604.09097443963,
          472526.71624749096,
          607699.4441948867,
          547624.1587647755,
          537680.0163359017,
          657155.6726230968,
          674333.5089316019,
          592066.2105165487,
          555321.3711249888,
          458673.5035793132,
          458673.5035793132,
          458673.5035793132,
          458673.5035793132,
          482478.37757925905,
          409381.1424866957,
          436677.4275980485,
          392823.98684287036,
          359958.3880207363,
          304268.31803104066,
          269512.02295935503,
          253457.66602225992,
          253457.66602225992,
          253457.66602225992,
          253457.66602225992,
          253457.66602225992,
          253457.66602225992,
          253457.66602225992,
          253457.66602225992,
          253457.66602225992,
          253457.66602225992,
          253457.66602225992,
          253457.66602225992,
          253457.66602225992,
          253457.66602225992,
          253457.66602225992,
          253457.66602225992,
          233086.16546406492,
          250637.39889566982,
          250637.39889566982,
          276653.8315192691,
          277625.3947979986,
          261951.31465303546,
          282027.9888374573,
          302874.58456777484,
          301504.3746079815,
          311542.32508640806,
          326418.64352567255,
          361667.2589306608,
          386167.6583955132,
          386896.11938091286,
          393438.24007592566,
          384234.2942685907,
          389644.3130953931,
          376838.7966179689,
          381129.945984988,
          380175.99376154295,
          412116.87890578876,
          418919.6702820325,
          391045.9858789012,
          431008.6205996903,
          452984.5547640269,
          443022.009139158,
          443680.81764577935,
          443896.8021478964,
          444688.2172710853,
          389825.80225243175,
          355503.5634923707,
          368186.46326233953,
          384401.9297857112,
          409318.8172310666,
          440574.18809684616,
          453556.1945244498,
          461734.4478652976,
          466547.14935335255,
          460692.8669971364,
          433909.36866335047,
          447985.22107188037,
          482233.5020240024,
          481314.7184911329,
          481873.8469921694,
          482759.85552523617,
          459901.0172475699,
          490687.83417808433,
          566996.5412526333,
          543150.6891655374,
          522589.98170606716,
          428395.4744903249,
          420119.71936044475,
          443264.61170579423,
          455061.8279488912,
          439178.4223773663,
          402590.2892573315,
          406571.9594774775,
          395807.9372788601,
          348613.16240994283,
          314124.8410549792,
          283612.0673704239,
          287026.0823908974,
          280386.7659285057,
          245751.46974930496,
          317546.8230282217,
          343387.9798374605,
          380832.9027960097,
          385662.43035050307,
          411864.676412857,
          428944.0865502271,
          442795.8470637472,
          483081.55878552824,
          514778.361694781,
          544337.1319417591,
          501175.7278479181,
          517728.64795699425,
          540425.345861242,
          558857.1417993824,
          504563.3709103556,
          472221.2023272685,
          499558.8585397696,
          479830.2760638266,
          506267.19012214465,
          553082.9086168623,
          562237.2863448078,
          588987.6811435969,
          594554.8487482914,
          566270.8046004258,
          557117.6013874207,
          562397.8334105411,
          528876.3425641038,
          582842.5852881513,
          545502.5214560637,
          585557.1526996635,
          579346.5595597544,
          607280.72546366,
          587306.1697738403,
          639048.4522373617,
          691599.7209709032,
          755837.6104412641,
          805349.5730567818,
          766691.8838333779,
          757199.9335753194,
          777851.3845012874,
          786047.9971415065,
          825284.4613430224,
          786486.243985777,
          741918.2521700908,
          687585.8140075728,
          687980.2520795504,
          670859.9184721737,
          676495.0912564597,
          684201.7982313745,
          771018.3428907187,
          806666.746312985,
          769930.3189745714,
          759247.8868456718,
          767702.0290844223,
          794823.2438067491,
          885268.8786497689,
          915421.0825403479,
          870829.8314268816,
          847313.426971649,
          894138.8805910526,
          917350.5273968383,
          954635.3386315238,
          1021750.2612638086,
          1044655.0584348198,
          1052302.8726527756,
          1121955.8325082373,
          1127420.6110315246,
          1191151.5537911956,
          1230748.0089753615,
          1160972.3219481313
         ]
        },
        {
         "name": "Require Return is 0.01",
         "type": "scatter",
         "x": [
          "1990-01-22T00:00:00",
          "1990-02-21T00:00:00",
          "1990-03-23T00:00:00",
          "1990-04-23T00:00:00",
          "1990-05-23T00:00:00",
          "1990-06-22T00:00:00",
          "1990-07-23T00:00:00",
          "1990-08-22T00:00:00",
          "1990-09-21T00:00:00",
          "1990-10-22T00:00:00",
          "1990-11-21T00:00:00",
          "1990-12-21T00:00:00",
          "1991-01-21T00:00:00",
          "1991-02-20T00:00:00",
          "1991-03-22T00:00:00",
          "1991-04-22T00:00:00",
          "1991-05-22T00:00:00",
          "1991-06-21T00:00:00",
          "1991-07-22T00:00:00",
          "1991-08-21T00:00:00",
          "1991-09-20T00:00:00",
          "1991-10-21T00:00:00",
          "1991-11-20T00:00:00",
          "1991-12-20T00:00:00",
          "1992-01-20T00:00:00",
          "1992-02-19T00:00:00",
          "1992-03-20T00:00:00",
          "1992-04-20T00:00:00",
          "1992-05-20T00:00:00",
          "1992-06-19T00:00:00",
          "1992-07-20T00:00:00",
          "1992-08-19T00:00:00",
          "1992-09-18T00:00:00",
          "1992-10-19T00:00:00",
          "1992-11-18T00:00:00",
          "1992-12-18T00:00:00",
          "1993-01-18T00:00:00",
          "1993-02-17T00:00:00",
          "1993-03-19T00:00:00",
          "1993-04-19T00:00:00",
          "1993-05-19T00:00:00",
          "1993-06-18T00:00:00",
          "1993-07-19T00:00:00",
          "1993-08-18T00:00:00",
          "1993-09-17T00:00:00",
          "1993-10-18T00:00:00",
          "1993-11-17T00:00:00",
          "1993-12-17T00:00:00",
          "1994-01-17T00:00:00",
          "1994-02-16T00:00:00",
          "1994-03-18T00:00:00",
          "1994-04-18T00:00:00",
          "1994-05-18T00:00:00",
          "1994-06-17T00:00:00",
          "1994-07-18T00:00:00",
          "1994-08-17T00:00:00",
          "1994-09-16T00:00:00",
          "1994-10-17T00:00:00",
          "1994-11-16T00:00:00",
          "1994-12-16T00:00:00",
          "1995-01-16T00:00:00",
          "1995-02-15T00:00:00",
          "1995-03-17T00:00:00",
          "1995-04-17T00:00:00",
          "1995-05-17T00:00:00",
          "1995-06-16T00:00:00",
          "1995-07-17T00:00:00",
          "1995-08-16T00:00:00",
          "1995-09-15T00:00:00",
          "1995-10-16T00:00:00",
          "1995-11-15T00:00:00",
          "1995-12-15T00:00:00",
          "1996-01-15T00:00:00",
          "1996-02-14T00:00:00",
          "1996-03-15T00:00:00",
          "1996-04-15T00:00:00",
          "1996-05-15T00:00:00",
          "1996-06-14T00:00:00",
          "1996-07-15T00:00:00",
          "1996-08-14T00:00:00",
          "1996-09-13T00:00:00",
          "1996-10-14T00:00:00",
          "1996-11-13T00:00:00",
          "1996-12-13T00:00:00",
          "1997-01-13T00:00:00",
          "1997-02-12T00:00:00",
          "1997-03-14T00:00:00",
          "1997-04-14T00:00:00",
          "1997-05-14T00:00:00",
          "1997-06-13T00:00:00",
          "1997-07-14T00:00:00",
          "1997-08-13T00:00:00",
          "1997-09-12T00:00:00",
          "1997-10-13T00:00:00",
          "1997-11-12T00:00:00",
          "1997-12-12T00:00:00",
          "1998-01-12T00:00:00",
          "1998-02-11T00:00:00",
          "1998-03-13T00:00:00",
          "1998-04-13T00:00:00",
          "1998-05-13T00:00:00",
          "1998-06-12T00:00:00",
          "1998-07-13T00:00:00",
          "1998-08-12T00:00:00",
          "1998-09-11T00:00:00",
          "1998-10-12T00:00:00",
          "1998-11-11T00:00:00",
          "1998-12-11T00:00:00",
          "1999-01-11T00:00:00",
          "1999-02-10T00:00:00",
          "1999-03-12T00:00:00",
          "1999-04-12T00:00:00",
          "1999-05-12T00:00:00",
          "1999-06-11T00:00:00",
          "1999-07-12T00:00:00",
          "1999-08-11T00:00:00",
          "1999-09-10T00:00:00",
          "1999-10-11T00:00:00",
          "1999-11-10T00:00:00",
          "1999-12-10T00:00:00",
          "2000-01-10T00:00:00",
          "2000-02-09T00:00:00",
          "2000-03-10T00:00:00",
          "2000-04-10T00:00:00",
          "2000-05-10T00:00:00",
          "2000-06-09T00:00:00",
          "2000-07-10T00:00:00",
          "2000-08-09T00:00:00",
          "2000-09-08T00:00:00",
          "2000-10-09T00:00:00",
          "2000-11-08T00:00:00",
          "2000-12-08T00:00:00",
          "2001-01-08T00:00:00",
          "2001-02-07T00:00:00",
          "2001-03-09T00:00:00",
          "2001-04-09T00:00:00",
          "2001-05-09T00:00:00",
          "2001-06-08T00:00:00",
          "2001-07-09T00:00:00",
          "2001-08-08T00:00:00",
          "2001-09-07T00:00:00",
          "2001-10-08T00:00:00",
          "2001-11-07T00:00:00",
          "2001-12-07T00:00:00",
          "2002-01-07T00:00:00",
          "2002-02-06T00:00:00",
          "2002-03-08T00:00:00",
          "2002-04-08T00:00:00",
          "2002-05-08T00:00:00",
          "2002-06-07T00:00:00",
          "2002-07-08T00:00:00",
          "2002-08-07T00:00:00",
          "2002-09-06T00:00:00",
          "2002-10-07T00:00:00",
          "2002-11-06T00:00:00",
          "2002-12-06T00:00:00",
          "2003-01-06T00:00:00",
          "2003-02-05T00:00:00",
          "2003-03-07T00:00:00",
          "2003-04-07T00:00:00",
          "2003-05-07T00:00:00",
          "2003-06-06T00:00:00",
          "2003-07-07T00:00:00",
          "2003-08-06T00:00:00",
          "2003-09-05T00:00:00",
          "2003-10-06T00:00:00",
          "2003-11-05T00:00:00",
          "2003-12-05T00:00:00",
          "2004-01-05T00:00:00",
          "2004-02-04T00:00:00",
          "2004-03-05T00:00:00",
          "2004-04-05T00:00:00",
          "2004-05-05T00:00:00",
          "2004-06-04T00:00:00",
          "2004-07-06T00:00:00",
          "2004-08-05T00:00:00",
          "2004-09-07T00:00:00",
          "2004-10-07T00:00:00",
          "2004-11-08T00:00:00",
          "2004-12-08T00:00:00",
          "2005-01-07T00:00:00",
          "2005-02-07T00:00:00",
          "2005-03-09T00:00:00",
          "2005-04-08T00:00:00",
          "2005-05-09T00:00:00",
          "2005-06-08T00:00:00",
          "2005-07-08T00:00:00",
          "2005-08-08T00:00:00",
          "2005-09-07T00:00:00",
          "2005-10-07T00:00:00",
          "2005-11-07T00:00:00",
          "2005-12-07T00:00:00",
          "2006-01-06T00:00:00",
          "2006-02-06T00:00:00",
          "2006-03-08T00:00:00",
          "2006-04-07T00:00:00",
          "2006-05-08T00:00:00",
          "2006-06-07T00:00:00",
          "2006-07-07T00:00:00",
          "2006-08-07T00:00:00",
          "2006-09-06T00:00:00",
          "2006-10-06T00:00:00",
          "2006-11-06T00:00:00",
          "2006-12-06T00:00:00",
          "2007-01-05T00:00:00",
          "2007-02-05T00:00:00",
          "2007-03-07T00:00:00",
          "2007-04-09T00:00:00",
          "2007-05-09T00:00:00",
          "2007-06-08T00:00:00",
          "2007-07-09T00:00:00",
          "2007-08-08T00:00:00",
          "2007-09-07T00:00:00",
          "2007-10-08T00:00:00",
          "2007-11-07T00:00:00",
          "2007-12-07T00:00:00",
          "2008-01-07T00:00:00",
          "2008-02-06T00:00:00",
          "2008-03-07T00:00:00",
          "2008-04-07T00:00:00",
          "2008-05-07T00:00:00",
          "2008-06-06T00:00:00",
          "2008-07-07T00:00:00",
          "2008-08-06T00:00:00",
          "2008-09-05T00:00:00",
          "2008-10-06T00:00:00",
          "2008-11-05T00:00:00",
          "2008-12-05T00:00:00",
          "2009-01-05T00:00:00",
          "2009-02-04T00:00:00",
          "2009-03-06T00:00:00",
          "2009-04-06T00:00:00",
          "2009-05-06T00:00:00",
          "2009-06-05T00:00:00",
          "2009-07-06T00:00:00",
          "2009-08-05T00:00:00",
          "2009-09-04T00:00:00",
          "2009-10-05T00:00:00",
          "2009-11-04T00:00:00",
          "2009-12-04T00:00:00",
          "2010-01-04T00:00:00",
          "2010-02-03T00:00:00",
          "2010-03-05T00:00:00",
          "2010-04-05T00:00:00",
          "2010-05-05T00:00:00",
          "2010-06-04T00:00:00",
          "2010-07-06T00:00:00",
          "2010-08-05T00:00:00",
          "2010-09-07T00:00:00",
          "2010-10-07T00:00:00",
          "2010-11-08T00:00:00",
          "2010-12-08T00:00:00",
          "2011-01-07T00:00:00",
          "2011-02-07T00:00:00",
          "2011-03-09T00:00:00",
          "2011-04-08T00:00:00",
          "2011-05-09T00:00:00",
          "2011-06-08T00:00:00",
          "2011-07-08T00:00:00",
          "2011-08-08T00:00:00",
          "2011-09-07T00:00:00",
          "2011-10-07T00:00:00",
          "2011-11-07T00:00:00",
          "2011-12-07T00:00:00",
          "2012-01-06T00:00:00",
          "2012-02-06T00:00:00",
          "2012-03-07T00:00:00",
          "2012-04-09T00:00:00",
          "2012-05-09T00:00:00",
          "2012-06-08T00:00:00",
          "2012-07-09T00:00:00",
          "2012-08-08T00:00:00",
          "2012-09-07T00:00:00",
          "2012-10-08T00:00:00",
          "2012-11-07T00:00:00",
          "2012-12-07T00:00:00",
          "2013-01-07T00:00:00",
          "2013-02-06T00:00:00",
          "2013-03-08T00:00:00",
          "2013-04-08T00:00:00",
          "2013-05-08T00:00:00",
          "2013-06-07T00:00:00",
          "2013-07-08T00:00:00",
          "2013-08-07T00:00:00",
          "2013-09-06T00:00:00",
          "2013-10-07T00:00:00",
          "2013-11-06T00:00:00",
          "2013-12-06T00:00:00",
          "2014-01-06T00:00:00",
          "2014-02-05T00:00:00",
          "2014-03-07T00:00:00",
          "2014-04-07T00:00:00",
          "2014-05-07T00:00:00",
          "2014-06-06T00:00:00",
          "2014-07-07T00:00:00",
          "2014-08-06T00:00:00",
          "2014-09-05T00:00:00",
          "2014-10-06T00:00:00",
          "2014-11-05T00:00:00",
          "2014-12-05T00:00:00",
          "2015-01-05T00:00:00"
         ],
         "y": [
          100000,
          102999.30164380351,
          123047.14271623568,
          118153.74363928284,
          138680.79805060817,
          131081.06898891774,
          121630.67012018798,
          93808.31077607423,
          95845.93522220427,
          99419.31687658082,
          109230.40456084652,
          128397.45503465422,
          144290.84464577987,
          173300.83925292167,
          180400.87856087237,
          188176.39615410753,
          173435.39866778915,
          161400.94167619525,
          162809.3903672171,
          189270.68855097523,
          184280.71827393735,
          194856.35205615478,
          201347.29965897408,
          217321.3316116705,
          259307.39801844163,
          248857.81808101793,
          261877.56263505996,
          235336.63729955908,
          234136.70952337128,
          186439.28643447033,
          178537.4988366434,
          179333.05414929666,
          202638.65278441706,
          219571.4665992644,
          241248.13129512314,
          241898.34096068772,
          244738.21038809777,
          222453.69922534958,
          230609.8109212604,
          230879.21919567368,
          253143.0890433838,
          208277.49823968302,
          164617.8779227466,
          173065.36507018044,
          164505.4743795106,
          172843.00769681664,
          176649.60968990647,
          169562.61442301574,
          177894.88335351043,
          180268.1381716663,
          194465.30338441223,
          178009.813087355,
          198275.41471676147,
          203339.9438242812,
          199639.13910156908,
          225097.24817048694,
          230668.67234363433,
          224480.91366072794,
          251226.0509066183,
          241294.5651209693,
          260960.73396766232,
          248010.1088200309,
          266791.5421721445,
          289206.76016246254,
          319385.6687314516,
          321548.6811948542,
          375901.6888267448,
          347157.8571756312,
          319262.4084348727,
          290630.04018123436,
          299238.3321934448,
          269691.3409286607,
          254476.68680478985,
          279229.33408119006,
          274643.44991014135,
          274693.7595841528,
          304701.2177709434,
          295394.1733625883,
          238062.96605784114,
          275145.2010487603,
          276641.5612342114,
          311018.92270491,
          336425.2036019032,
          368589.72682827,
          362308.17186867184,
          401548.25233498076,
          424029.0430863137,
          418157.47131428367,
          465414.2583073861,
          469157.09269148344,
          484746.8270516628,
          529450.4014203964,
          519646.8831189837,
          505146.67477545113,
          422285.73896773456,
          413701.35807181033,
          418504.8775109739,
          484265.66881358495,
          536985.0111641128,
          570516.3834771982,
          579147.7495956762,
          539699.4612367519,
          675376.8841765645,
          652464.640506789,
          636776.1635293947,
          611583.6866537086,
          670630.0669586608,
          772675.4884839716,
          871625.5990984247,
          861885.5065362082,
          840106.3291503666,
          943422.3711013822,
          891569.5828173183,
          860398.9661629021,
          1007048.3491797702,
          942621.5797027282,
          1079238.802095251,
          1034426.9341727739,
          1040339.7724349512,
          1139960.154716716,
          1305792.7421118554,
          1277089.2568504952,
          1291592.4689231357,
          1179423.7504392255,
          919254.4427730612,
          952359.3736579077,
          1071285.7715296072,
          948096.1875718812,
          938051.6275180171,
          586410.8823272428,
          691386.7959115637,
          513862.5080913715,
          480244.8553830843,
          617625.462558814,
          556568.9216872279,
          546462.3539981282,
          667889.4972739615,
          685347.9122801757,
          601736.8793552114,
          564391.8584856786,
          466165.36762998207,
          466165.36762998207,
          466165.36762998207,
          466165.36762998207,
          466165.36762998207,
          385240.64963429817,
          412867.482817508,
          371636.4701898188,
          337001.2782560775,
          337001.2782560775,
          337001.2782560775,
          337001.2782560775,
          337001.2782560775,
          337001.2782560775,
          337001.2782560775,
          337001.2782560775,
          337001.2782560775,
          337001.2782560775,
          337001.2782560775,
          337001.2782560775,
          337001.2782560775,
          337001.2782560775,
          337001.2782560775,
          337001.2782560775,
          337001.2782560775,
          337001.2782560775,
          337001.2782560775,
          337001.2782560775,
          362377.2506551495,
          362377.2506551495,
          362377.2506551495,
          380347.5335266797,
          380347.5335266797,
          380347.5335266797,
          408175.4540465768,
          408489.3612872434,
          430585.76949081075,
          451146.4782824153,
          505712.1422938119,
          542540.0176880527,
          544876.3492510509,
          554121.7860595492,
          541158.8699775446,
          548778.3868154226,
          530742.9877639324,
          536786.6792745544,
          535443.1247950282,
          580428.9409196553,
          590010.0505415039,
          550752.5147652595,
          607036.2316781239,
          637987.3255197374,
          623955.9909593582,
          624883.8625010003,
          625188.0569231061,
          626302.69275894,
          549033.9976981604,
          500694.2627511529,
          518556.96738198167,
          541394.9692752028,
          576488.1268991302,
          620508.4588443857,
          638792.4278528687,
          650310.7498827849,
          657088.99986636,
          648843.7784697377,
          611121.6700880605,
          630946.2211419183,
          679181.7932789754,
          677887.7706843809,
          678675.2520526672,
          679923.1140569102,
          647728.5305023924,
          691088.9470733206,
          798562.7834952303,
          764978.0812404024,
          736020.2048075197,
          603355.85432315,
          592422.7977630447,
          631357.0490644987,
          648377.4336524818,
          625746.5709660965,
          573615.369451282,
          579417.2326678884,
          559621.0331881897,
          487590.50545020256,
          450628.53876104514,
          407157.15895667335,
          409899.81608427496,
          409899.81608427496,
          366086.96655094746,
          478266.1271574616,
          520450.0569743006,
          576317.729499989,
          584633.1820219248,
          624355.7505968628,
          649227.6105672921,
          668693.218928228,
          731217.605782571,
          773935.6861158735,
          818375.368966025,
          753485.0134718345,
          778371.2490541972,
          812494.2537726895,
          840205.2565987763,
          758578.1138290669,
          710274.4994849516,
          750277.8564252629,
          720647.8772599926,
          769436.7628734934,
          841613.4068595514,
          854239.1278494599,
          894501.3212250927,
          902956.2328256406,
          860000.9798214842,
          846099.9210564222,
          854119.0607978264,
          803209.646540888,
          885168.704367847,
          828459.9861692258,
          889291.3443039448,
          879859.2560836044,
          922283.1455949242,
          891947.5935495298,
          970529.1012933864,
          1050339.2243556161,
          1147897.9320222714,
          1223092.2313156556,
          1164382.4226169346,
          1149966.9054191036,
          1181330.4648447034,
          1193778.7402008374,
          1253367.5400893365,
          1194444.309946645,
          1126758.467203593,
          1044243.2648017553,
          1044842.3017388952,
          1018841.4845369492,
          1027399.6762653199,
          1038710.8493574497,
          1160332.522069297,
          1213981.0535628789,
          1158695.116751595,
          1142618.7503094065,
          1155341.6852126715,
          1196157.3516238672,
          1332272.1568749202,
          1377649.265096666,
          1310542.3287393202,
          1275151.6676180332,
          1345620.9336169905,
          1380552.9542723752,
          1436664.1732255048,
          1537667.7721210017,
          1572138.004008458,
          1583647.467618062,
          1688470.6476680532,
          1696694.7843632998,
          1792605.713367831,
          1852195.806304646,
          1747187.9298332827
         ]
        },
        {
         "name": "Require Return is 0.02",
         "type": "scatter",
         "x": [
          "1990-01-22T00:00:00",
          "1990-02-21T00:00:00",
          "1990-03-23T00:00:00",
          "1990-04-23T00:00:00",
          "1990-05-23T00:00:00",
          "1990-06-22T00:00:00",
          "1990-07-23T00:00:00",
          "1990-08-22T00:00:00",
          "1990-09-21T00:00:00",
          "1990-10-22T00:00:00",
          "1990-11-21T00:00:00",
          "1990-12-21T00:00:00",
          "1991-01-21T00:00:00",
          "1991-02-20T00:00:00",
          "1991-03-22T00:00:00",
          "1991-04-22T00:00:00",
          "1991-05-22T00:00:00",
          "1991-06-21T00:00:00",
          "1991-07-22T00:00:00",
          "1991-08-21T00:00:00",
          "1991-09-20T00:00:00",
          "1991-10-21T00:00:00",
          "1991-11-20T00:00:00",
          "1991-12-20T00:00:00",
          "1992-01-20T00:00:00",
          "1992-02-19T00:00:00",
          "1992-03-20T00:00:00",
          "1992-04-20T00:00:00",
          "1992-05-20T00:00:00",
          "1992-06-19T00:00:00",
          "1992-07-20T00:00:00",
          "1992-08-19T00:00:00",
          "1992-09-18T00:00:00",
          "1992-10-19T00:00:00",
          "1992-11-18T00:00:00",
          "1992-12-18T00:00:00",
          "1993-01-18T00:00:00",
          "1993-02-17T00:00:00",
          "1993-03-19T00:00:00",
          "1993-04-19T00:00:00",
          "1993-05-19T00:00:00",
          "1993-06-18T00:00:00",
          "1993-07-19T00:00:00",
          "1993-08-18T00:00:00",
          "1993-09-17T00:00:00",
          "1993-10-18T00:00:00",
          "1993-11-17T00:00:00",
          "1993-12-17T00:00:00",
          "1994-01-17T00:00:00",
          "1994-02-16T00:00:00",
          "1994-03-18T00:00:00",
          "1994-04-18T00:00:00",
          "1994-05-18T00:00:00",
          "1994-06-17T00:00:00",
          "1994-07-18T00:00:00",
          "1994-08-17T00:00:00",
          "1994-09-16T00:00:00",
          "1994-10-17T00:00:00",
          "1994-11-16T00:00:00",
          "1994-12-16T00:00:00",
          "1995-01-16T00:00:00",
          "1995-02-15T00:00:00",
          "1995-03-17T00:00:00",
          "1995-04-17T00:00:00",
          "1995-05-17T00:00:00",
          "1995-06-16T00:00:00",
          "1995-07-17T00:00:00",
          "1995-08-16T00:00:00",
          "1995-09-15T00:00:00",
          "1995-10-16T00:00:00",
          "1995-11-15T00:00:00",
          "1995-12-15T00:00:00",
          "1996-01-15T00:00:00",
          "1996-02-14T00:00:00",
          "1996-03-15T00:00:00",
          "1996-04-15T00:00:00",
          "1996-05-15T00:00:00",
          "1996-06-14T00:00:00",
          "1996-07-15T00:00:00",
          "1996-08-14T00:00:00",
          "1996-09-13T00:00:00",
          "1996-10-14T00:00:00",
          "1996-11-13T00:00:00",
          "1996-12-13T00:00:00",
          "1997-01-13T00:00:00",
          "1997-02-12T00:00:00",
          "1997-03-14T00:00:00",
          "1997-04-14T00:00:00",
          "1997-05-14T00:00:00",
          "1997-06-13T00:00:00",
          "1997-07-14T00:00:00",
          "1997-08-13T00:00:00",
          "1997-09-12T00:00:00",
          "1997-10-13T00:00:00",
          "1997-11-12T00:00:00",
          "1997-12-12T00:00:00",
          "1998-01-12T00:00:00",
          "1998-02-11T00:00:00",
          "1998-03-13T00:00:00",
          "1998-04-13T00:00:00",
          "1998-05-13T00:00:00",
          "1998-06-12T00:00:00",
          "1998-07-13T00:00:00",
          "1998-08-12T00:00:00",
          "1998-09-11T00:00:00",
          "1998-10-12T00:00:00",
          "1998-11-11T00:00:00",
          "1998-12-11T00:00:00",
          "1999-01-11T00:00:00",
          "1999-02-10T00:00:00",
          "1999-03-12T00:00:00",
          "1999-04-12T00:00:00",
          "1999-05-12T00:00:00",
          "1999-06-11T00:00:00",
          "1999-07-12T00:00:00",
          "1999-08-11T00:00:00",
          "1999-09-10T00:00:00",
          "1999-10-11T00:00:00",
          "1999-11-10T00:00:00",
          "1999-12-10T00:00:00",
          "2000-01-10T00:00:00",
          "2000-02-09T00:00:00",
          "2000-03-10T00:00:00",
          "2000-04-10T00:00:00",
          "2000-05-10T00:00:00",
          "2000-06-09T00:00:00",
          "2000-07-10T00:00:00",
          "2000-08-09T00:00:00",
          "2000-09-08T00:00:00",
          "2000-10-09T00:00:00",
          "2000-11-08T00:00:00",
          "2000-12-08T00:00:00",
          "2001-01-08T00:00:00",
          "2001-02-07T00:00:00",
          "2001-03-09T00:00:00",
          "2001-04-09T00:00:00",
          "2001-05-09T00:00:00",
          "2001-06-08T00:00:00",
          "2001-07-09T00:00:00",
          "2001-08-08T00:00:00",
          "2001-09-07T00:00:00",
          "2001-10-08T00:00:00",
          "2001-11-07T00:00:00",
          "2001-12-07T00:00:00",
          "2002-01-07T00:00:00",
          "2002-02-06T00:00:00",
          "2002-03-08T00:00:00",
          "2002-04-08T00:00:00",
          "2002-05-08T00:00:00",
          "2002-06-07T00:00:00",
          "2002-07-08T00:00:00",
          "2002-08-07T00:00:00",
          "2002-09-06T00:00:00",
          "2002-10-07T00:00:00",
          "2002-11-06T00:00:00",
          "2002-12-06T00:00:00",
          "2003-01-06T00:00:00",
          "2003-02-05T00:00:00",
          "2003-03-07T00:00:00",
          "2003-04-07T00:00:00",
          "2003-05-07T00:00:00",
          "2003-06-06T00:00:00",
          "2003-07-07T00:00:00",
          "2003-08-06T00:00:00",
          "2003-09-05T00:00:00",
          "2003-10-06T00:00:00",
          "2003-11-05T00:00:00",
          "2003-12-05T00:00:00",
          "2004-01-05T00:00:00",
          "2004-02-04T00:00:00",
          "2004-03-05T00:00:00",
          "2004-04-05T00:00:00",
          "2004-05-05T00:00:00",
          "2004-06-04T00:00:00",
          "2004-07-06T00:00:00",
          "2004-08-05T00:00:00",
          "2004-09-07T00:00:00",
          "2004-10-07T00:00:00",
          "2004-11-08T00:00:00",
          "2004-12-08T00:00:00",
          "2005-01-07T00:00:00",
          "2005-02-07T00:00:00",
          "2005-03-09T00:00:00",
          "2005-04-08T00:00:00",
          "2005-05-09T00:00:00",
          "2005-06-08T00:00:00",
          "2005-07-08T00:00:00",
          "2005-08-08T00:00:00",
          "2005-09-07T00:00:00",
          "2005-10-07T00:00:00",
          "2005-11-07T00:00:00",
          "2005-12-07T00:00:00",
          "2006-01-06T00:00:00",
          "2006-02-06T00:00:00",
          "2006-03-08T00:00:00",
          "2006-04-07T00:00:00",
          "2006-05-08T00:00:00",
          "2006-06-07T00:00:00",
          "2006-07-07T00:00:00",
          "2006-08-07T00:00:00",
          "2006-09-06T00:00:00",
          "2006-10-06T00:00:00",
          "2006-11-06T00:00:00",
          "2006-12-06T00:00:00",
          "2007-01-05T00:00:00",
          "2007-02-05T00:00:00",
          "2007-03-07T00:00:00",
          "2007-04-09T00:00:00",
          "2007-05-09T00:00:00",
          "2007-06-08T00:00:00",
          "2007-07-09T00:00:00",
          "2007-08-08T00:00:00",
          "2007-09-07T00:00:00",
          "2007-10-08T00:00:00",
          "2007-11-07T00:00:00",
          "2007-12-07T00:00:00",
          "2008-01-07T00:00:00",
          "2008-02-06T00:00:00",
          "2008-03-07T00:00:00",
          "2008-04-07T00:00:00",
          "2008-05-07T00:00:00",
          "2008-06-06T00:00:00",
          "2008-07-07T00:00:00",
          "2008-08-06T00:00:00",
          "2008-09-05T00:00:00",
          "2008-10-06T00:00:00",
          "2008-11-05T00:00:00",
          "2008-12-05T00:00:00",
          "2009-01-05T00:00:00",
          "2009-02-04T00:00:00",
          "2009-03-06T00:00:00",
          "2009-04-06T00:00:00",
          "2009-05-06T00:00:00",
          "2009-06-05T00:00:00",
          "2009-07-06T00:00:00",
          "2009-08-05T00:00:00",
          "2009-09-04T00:00:00",
          "2009-10-05T00:00:00",
          "2009-11-04T00:00:00",
          "2009-12-04T00:00:00",
          "2010-01-04T00:00:00",
          "2010-02-03T00:00:00",
          "2010-03-05T00:00:00",
          "2010-04-05T00:00:00",
          "2010-05-05T00:00:00",
          "2010-06-04T00:00:00",
          "2010-07-06T00:00:00",
          "2010-08-05T00:00:00",
          "2010-09-07T00:00:00",
          "2010-10-07T00:00:00",
          "2010-11-08T00:00:00",
          "2010-12-08T00:00:00",
          "2011-01-07T00:00:00",
          "2011-02-07T00:00:00",
          "2011-03-09T00:00:00",
          "2011-04-08T00:00:00",
          "2011-05-09T00:00:00",
          "2011-06-08T00:00:00",
          "2011-07-08T00:00:00",
          "2011-08-08T00:00:00",
          "2011-09-07T00:00:00",
          "2011-10-07T00:00:00",
          "2011-11-07T00:00:00",
          "2011-12-07T00:00:00",
          "2012-01-06T00:00:00",
          "2012-02-06T00:00:00",
          "2012-03-07T00:00:00",
          "2012-04-09T00:00:00",
          "2012-05-09T00:00:00",
          "2012-06-08T00:00:00",
          "2012-07-09T00:00:00",
          "2012-08-08T00:00:00",
          "2012-09-07T00:00:00",
          "2012-10-08T00:00:00",
          "2012-11-07T00:00:00",
          "2012-12-07T00:00:00",
          "2013-01-07T00:00:00",
          "2013-02-06T00:00:00",
          "2013-03-08T00:00:00",
          "2013-04-08T00:00:00",
          "2013-05-08T00:00:00",
          "2013-06-07T00:00:00",
          "2013-07-08T00:00:00",
          "2013-08-07T00:00:00",
          "2013-09-06T00:00:00",
          "2013-10-07T00:00:00",
          "2013-11-06T00:00:00",
          "2013-12-06T00:00:00",
          "2014-01-06T00:00:00",
          "2014-02-05T00:00:00",
          "2014-03-07T00:00:00",
          "2014-04-07T00:00:00",
          "2014-05-07T00:00:00",
          "2014-06-06T00:00:00",
          "2014-07-07T00:00:00",
          "2014-08-06T00:00:00",
          "2014-09-05T00:00:00",
          "2014-10-06T00:00:00",
          "2014-11-05T00:00:00",
          "2014-12-05T00:00:00",
          "2015-01-05T00:00:00"
         ],
         "y": [
          100000,
          103564.86531747626,
          122210.27126549957,
          121168.7301823078,
          141986.14834559502,
          137416.9243723294,
          128565.74985327915,
          97967.12941310002,
          103725.12174005412,
          109025.3337554533,
          119457.82259788207,
          139583.2635203191,
          158447.40037431405,
          190303.60193483985,
          198100.23500370822,
          206638.61837957188,
          190451.3631426558,
          177236.19048277137,
          178728.16490181838,
          207776.73055663586,
          202298.8632879357,
          213908.53527495152,
          221034.13872392403,
          238570.0401270861,
          284661.3164558199,
          273190.02329516044,
          287482.78028163296,
          258346.80188805857,
          257029.55053683708,
          204668.48659576455,
          195994.0975226394,
          196867.43867813234,
          222451.7545864371,
          241040.1832570797,
          264836.29534585134,
          265550.07960648683,
          268667.61877408007,
          244204.22770757772,
          253157.80755242874,
          253453.55736382876,
          277894.2888997623,
          228641.94114822883,
          180713.47828772644,
          189986.92297348555,
          180590.0844284059,
          189742.82448995174,
          193921.61901281078,
          186141.6890231319,
          195288.64996965244,
          196600.22258989728,
          215230.52645395554,
          199156.10099236437,
          223011.52551316505,
          231961.7776182715,
          227740.05302273293,
          256781.60837758819,
          263137.25808793475,
          256078.5195215456,
          286588.263261627,
          275258.8360280849,
          292487.9097894523,
          277565.4111945231,
          313887.5133305433,
          340004.78230117407,
          375484.49664921366,
          378027.43368609616,
          441927.33186590945,
          408134.76001334126,
          375339.5861696622,
          341678.0558189311,
          351798.36023350415,
          317294.8721036543,
          298917.5784280497,
          338643.65018280485,
          333081.9832465225,
          333913.05940683605,
          371764.36836453597,
          364326.1576449678,
          293616.3727067013,
          339351.96741169965,
          341197.51213119255,
          383597.0350196085,
          414932.0224158853,
          454602.3281167379,
          446854.9350100465,
          495251.9212445092,
          522978.73799928743,
          515737.00009129365,
          574021.4389204592,
          578637.6859314856,
          597865.3773699966,
          653000.7962489781,
          640909.5687427007,
          623025.6506859751,
          520828.6235136204,
          510241.026365135,
          516165.47558673564,
          597271.938000145,
          662293.6519137819,
          703649.7690515225,
          714295.3157032233,
          665641.5350281511,
          832980.0902072951,
          804721.1384337671,
          785371.6622020215,
          754300.3712649036,
          827125.5750069597,
          952983.9015486374,
          1075024.6079997348,
          1063011.607005491,
          1036150.1292609309,
          1163575.5830490692,
          1099622.638738545,
          1061178.173609613,
          1242049.0608967468,
          1162587.922222772,
          1331085.584637056,
          1275816.601260563,
          1283109.2354392032,
          1405976.6254309749,
          1610507.23173997,
          1575105.6177634676,
          1592993.2404873234,
          1454649.2855338138,
          1133767.925146189,
          1174598.0882163788,
          1321276.6671671188,
          1169340.0623441453,
          1156951.5445612757,
          723253.3435831742,
          852726.0099058797,
          633775.3754571727,
          592312.8438817126,
          763394.6158115935,
          687927.787795236,
          669772.4746183796,
          669772.4746183796,
          687280.1100421334,
          603433.3529721065,
          538532.274911615,
          402521.02408076025,
          402521.02408076025,
          402521.02408076025,
          402521.02408076025,
          402521.02408076025,
          314859.00148855423,
          314859.00148855423,
          283768.40481036645,
          244425.07161990835,
          244425.07161990835,
          244425.07161990835,
          244425.07161990835,
          244425.07161990835,
          244425.07161990835,
          244425.07161990835,
          244425.07161990835,
          244425.07161990835,
          244425.07161990835,
          244425.07161990835,
          244425.07161990835,
          244425.07161990835,
          244425.07161990835,
          244425.07161990835,
          244425.07161990835,
          244425.07161990835,
          244425.07161990835,
          244425.07161990835,
          244425.07161990835,
          244425.07161990835,
          244425.07161990835,
          244425.07161990835,
          244425.07161990835,
          244425.07161990835,
          244425.07161990835,
          244425.07161990835,
          247200.56342382572,
          271109.6134083971,
          289108.56536825886,
          343566.5331122797,
          376195.5249917167,
          385459.0890614339,
          403051.9826637281,
          394695.32762346097,
          405451.72295639775,
          388298.25161621184,
          392050.6576759666,
          391952.3307579514,
          424882.61721525894,
          431896.131954044,
          403159.0319059241,
          445683.16285317275,
          473345.73904140526,
          462935.38735956064,
          463623.80862287694,
          463849.50140357076,
          464776.57260374184,
          408972.80863446585,
          370774.6367678537,
          378045.1093128576,
          398313.54188618454,
          423487.26978481957,
          454538.46780783904,
          469528.4653915672,
          478547.7056068621,
          483218.4881715265,
          477739.3088583578,
          449964.77424010984,
          464711.8020661617,
          502002.8797448374,
          501046.43027082377,
          502391.13842725527,
          503773.3331685203,
          480031.9388394128,
          515002.8211375311,
          595210.7424298071,
          570178.3016793304,
          551988.6908102862,
          443448.32640621316,
          437317.28197512665,
          481034.4711923838,
          499378.4884336519,
          481963.4613606577,
          448610.2289765432,
          452734.509761921,
          434393.6767898154,
          357536.7654611327,
          358807.9772204377,
          324673.3782196433,
          324673.3782196433,
          324673.3782196433,
          324673.3782196433,
          324673.3782196433,
          357741.5045810894,
          393438.89641695435,
          395757.11527691974,
          434586.76536324923,
          449882.8773728753,
          472183.3446290972,
          506623.78205533064,
          526422.5836039097,
          560169.6950897614,
          518074.60743294447,
          542317.5936065041,
          570955.0866426831,
          593881.4153641689,
          550101.5857843527,
          522083.2749538704,
          549847.4963789392,
          533315.0186506778,
          584297.7368885541,
          640664.2644810919,
          647795.8311024322,
          677749.7331993603,
          688394.8896166425,
          655646.7058450808,
          642294.7498813673,
          654923.8990261365,
          620301.8348280843,
          677145.692363154,
          638211.2659408001,
          686503.7397960719,
          679222.477160576,
          711972.3279184422,
          688554.2770610575,
          749216.6227484498,
          810827.4191502634,
          886139.5405284963,
          944187.0724277949,
          898865.0264048119,
          887736.7201070017,
          911948.3589325695,
          921558.0190745852,
          967558.6174560229,
          922071.8170807379,
          869820.5672828172,
          807475.1152463906,
          804889.2955698604,
          767751.6678812314,
          761499.668260839,
          761308.0344396059,
          830832.0765032998,
          868167.1534474579,
          828629.9347682521,
          834774.8878009495,
          844070.0149406852,
          872907.6263036086,
          972238.7480788283,
          1005353.1404057182,
          956381.19165276,
          928139.9664398396,
          977766.0983537916,
          1003148.689164133,
          1043920.6824194737,
          1117312.7442881032,
          1142359.7863635812,
          1150722.8870307638,
          1226890.3642258605,
          1232866.2537560752,
          1302557.8381387396,
          1345857.679286985,
          1269555.9964662227
         ]
        }
       ],
       "layout": {
        "template": {
         "data": {
          "bar": [
           {
            "error_x": {
             "color": "#2a3f5f"
            },
            "error_y": {
             "color": "#2a3f5f"
            },
            "marker": {
             "line": {
              "color": "#E5ECF6",
              "width": 0.5
             },
             "pattern": {
              "fillmode": "overlay",
              "size": 10,
              "solidity": 0.2
             }
            },
            "type": "bar"
           }
          ],
          "barpolar": [
           {
            "marker": {
             "line": {
              "color": "#E5ECF6",
              "width": 0.5
             },
             "pattern": {
              "fillmode": "overlay",
              "size": 10,
              "solidity": 0.2
             }
            },
            "type": "barpolar"
           }
          ],
          "carpet": [
           {
            "aaxis": {
             "endlinecolor": "#2a3f5f",
             "gridcolor": "white",
             "linecolor": "white",
             "minorgridcolor": "white",
             "startlinecolor": "#2a3f5f"
            },
            "baxis": {
             "endlinecolor": "#2a3f5f",
             "gridcolor": "white",
             "linecolor": "white",
             "minorgridcolor": "white",
             "startlinecolor": "#2a3f5f"
            },
            "type": "carpet"
           }
          ],
          "choropleth": [
           {
            "colorbar": {
             "outlinewidth": 0,
             "ticks": ""
            },
            "type": "choropleth"
           }
          ],
          "contour": [
           {
            "colorbar": {
             "outlinewidth": 0,
             "ticks": ""
            },
            "colorscale": [
             [
              0,
              "#0d0887"
             ],
             [
              0.1111111111111111,
              "#46039f"
             ],
             [
              0.2222222222222222,
              "#7201a8"
             ],
             [
              0.3333333333333333,
              "#9c179e"
             ],
             [
              0.4444444444444444,
              "#bd3786"
             ],
             [
              0.5555555555555556,
              "#d8576b"
             ],
             [
              0.6666666666666666,
              "#ed7953"
             ],
             [
              0.7777777777777778,
              "#fb9f3a"
             ],
             [
              0.8888888888888888,
              "#fdca26"
             ],
             [
              1,
              "#f0f921"
             ]
            ],
            "type": "contour"
           }
          ],
          "contourcarpet": [
           {
            "colorbar": {
             "outlinewidth": 0,
             "ticks": ""
            },
            "type": "contourcarpet"
           }
          ],
          "heatmap": [
           {
            "colorbar": {
             "outlinewidth": 0,
             "ticks": ""
            },
            "colorscale": [
             [
              0,
              "#0d0887"
             ],
             [
              0.1111111111111111,
              "#46039f"
             ],
             [
              0.2222222222222222,
              "#7201a8"
             ],
             [
              0.3333333333333333,
              "#9c179e"
             ],
             [
              0.4444444444444444,
              "#bd3786"
             ],
             [
              0.5555555555555556,
              "#d8576b"
             ],
             [
              0.6666666666666666,
              "#ed7953"
             ],
             [
              0.7777777777777778,
              "#fb9f3a"
             ],
             [
              0.8888888888888888,
              "#fdca26"
             ],
             [
              1,
              "#f0f921"
             ]
            ],
            "type": "heatmap"
           }
          ],
          "heatmapgl": [
           {
            "colorbar": {
             "outlinewidth": 0,
             "ticks": ""
            },
            "colorscale": [
             [
              0,
              "#0d0887"
             ],
             [
              0.1111111111111111,
              "#46039f"
             ],
             [
              0.2222222222222222,
              "#7201a8"
             ],
             [
              0.3333333333333333,
              "#9c179e"
             ],
             [
              0.4444444444444444,
              "#bd3786"
             ],
             [
              0.5555555555555556,
              "#d8576b"
             ],
             [
              0.6666666666666666,
              "#ed7953"
             ],
             [
              0.7777777777777778,
              "#fb9f3a"
             ],
             [
              0.8888888888888888,
              "#fdca26"
             ],
             [
              1,
              "#f0f921"
             ]
            ],
            "type": "heatmapgl"
           }
          ],
          "histogram": [
           {
            "marker": {
             "pattern": {
              "fillmode": "overlay",
              "size": 10,
              "solidity": 0.2
             }
            },
            "type": "histogram"
           }
          ],
          "histogram2d": [
           {
            "colorbar": {
             "outlinewidth": 0,
             "ticks": ""
            },
            "colorscale": [
             [
              0,
              "#0d0887"
             ],
             [
              0.1111111111111111,
              "#46039f"
             ],
             [
              0.2222222222222222,
              "#7201a8"
             ],
             [
              0.3333333333333333,
              "#9c179e"
             ],
             [
              0.4444444444444444,
              "#bd3786"
             ],
             [
              0.5555555555555556,
              "#d8576b"
             ],
             [
              0.6666666666666666,
              "#ed7953"
             ],
             [
              0.7777777777777778,
              "#fb9f3a"
             ],
             [
              0.8888888888888888,
              "#fdca26"
             ],
             [
              1,
              "#f0f921"
             ]
            ],
            "type": "histogram2d"
           }
          ],
          "histogram2dcontour": [
           {
            "colorbar": {
             "outlinewidth": 0,
             "ticks": ""
            },
            "colorscale": [
             [
              0,
              "#0d0887"
             ],
             [
              0.1111111111111111,
              "#46039f"
             ],
             [
              0.2222222222222222,
              "#7201a8"
             ],
             [
              0.3333333333333333,
              "#9c179e"
             ],
             [
              0.4444444444444444,
              "#bd3786"
             ],
             [
              0.5555555555555556,
              "#d8576b"
             ],
             [
              0.6666666666666666,
              "#ed7953"
             ],
             [
              0.7777777777777778,
              "#fb9f3a"
             ],
             [
              0.8888888888888888,
              "#fdca26"
             ],
             [
              1,
              "#f0f921"
             ]
            ],
            "type": "histogram2dcontour"
           }
          ],
          "mesh3d": [
           {
            "colorbar": {
             "outlinewidth": 0,
             "ticks": ""
            },
            "type": "mesh3d"
           }
          ],
          "parcoords": [
           {
            "line": {
             "colorbar": {
              "outlinewidth": 0,
              "ticks": ""
             }
            },
            "type": "parcoords"
           }
          ],
          "pie": [
           {
            "automargin": true,
            "type": "pie"
           }
          ],
          "scatter": [
           {
            "fillpattern": {
             "fillmode": "overlay",
             "size": 10,
             "solidity": 0.2
            },
            "type": "scatter"
           }
          ],
          "scatter3d": [
           {
            "line": {
             "colorbar": {
              "outlinewidth": 0,
              "ticks": ""
             }
            },
            "marker": {
             "colorbar": {
              "outlinewidth": 0,
              "ticks": ""
             }
            },
            "type": "scatter3d"
           }
          ],
          "scattercarpet": [
           {
            "marker": {
             "colorbar": {
              "outlinewidth": 0,
              "ticks": ""
             }
            },
            "type": "scattercarpet"
           }
          ],
          "scattergeo": [
           {
            "marker": {
             "colorbar": {
              "outlinewidth": 0,
              "ticks": ""
             }
            },
            "type": "scattergeo"
           }
          ],
          "scattergl": [
           {
            "marker": {
             "colorbar": {
              "outlinewidth": 0,
              "ticks": ""
             }
            },
            "type": "scattergl"
           }
          ],
          "scattermapbox": [
           {
            "marker": {
             "colorbar": {
              "outlinewidth": 0,
              "ticks": ""
             }
            },
            "type": "scattermapbox"
           }
          ],
          "scatterpolar": [
           {
            "marker": {
             "colorbar": {
              "outlinewidth": 0,
              "ticks": ""
             }
            },
            "type": "scatterpolar"
           }
          ],
          "scatterpolargl": [
           {
            "marker": {
             "colorbar": {
              "outlinewidth": 0,
              "ticks": ""
             }
            },
            "type": "scatterpolargl"
           }
          ],
          "scatterternary": [
           {
            "marker": {
             "colorbar": {
              "outlinewidth": 0,
              "ticks": ""
             }
            },
            "type": "scatterternary"
           }
          ],
          "surface": [
           {
            "colorbar": {
             "outlinewidth": 0,
             "ticks": ""
            },
            "colorscale": [
             [
              0,
              "#0d0887"
             ],
             [
              0.1111111111111111,
              "#46039f"
             ],
             [
              0.2222222222222222,
              "#7201a8"
             ],
             [
              0.3333333333333333,
              "#9c179e"
             ],
             [
              0.4444444444444444,
              "#bd3786"
             ],
             [
              0.5555555555555556,
              "#d8576b"
             ],
             [
              0.6666666666666666,
              "#ed7953"
             ],
             [
              0.7777777777777778,
              "#fb9f3a"
             ],
             [
              0.8888888888888888,
              "#fdca26"
             ],
             [
              1,
              "#f0f921"
             ]
            ],
            "type": "surface"
           }
          ],
          "table": [
           {
            "cells": {
             "fill": {
              "color": "#EBF0F8"
             },
             "line": {
              "color": "white"
             }
            },
            "header": {
             "fill": {
              "color": "#C8D4E3"
             },
             "line": {
              "color": "white"
             }
            },
            "type": "table"
           }
          ]
         },
         "layout": {
          "annotationdefaults": {
           "arrowcolor": "#2a3f5f",
           "arrowhead": 0,
           "arrowwidth": 1
          },
          "autotypenumbers": "strict",
          "coloraxis": {
           "colorbar": {
            "outlinewidth": 0,
            "ticks": ""
           }
          },
          "colorscale": {
           "diverging": [
            [
             0,
             "#8e0152"
            ],
            [
             0.1,
             "#c51b7d"
            ],
            [
             0.2,
             "#de77ae"
            ],
            [
             0.3,
             "#f1b6da"
            ],
            [
             0.4,
             "#fde0ef"
            ],
            [
             0.5,
             "#f7f7f7"
            ],
            [
             0.6,
             "#e6f5d0"
            ],
            [
             0.7,
             "#b8e186"
            ],
            [
             0.8,
             "#7fbc41"
            ],
            [
             0.9,
             "#4d9221"
            ],
            [
             1,
             "#276419"
            ]
           ],
           "sequential": [
            [
             0,
             "#0d0887"
            ],
            [
             0.1111111111111111,
             "#46039f"
            ],
            [
             0.2222222222222222,
             "#7201a8"
            ],
            [
             0.3333333333333333,
             "#9c179e"
            ],
            [
             0.4444444444444444,
             "#bd3786"
            ],
            [
             0.5555555555555556,
             "#d8576b"
            ],
            [
             0.6666666666666666,
             "#ed7953"
            ],
            [
             0.7777777777777778,
             "#fb9f3a"
            ],
            [
             0.8888888888888888,
             "#fdca26"
            ],
            [
             1,
             "#f0f921"
            ]
           ],
           "sequentialminus": [
            [
             0,
             "#0d0887"
            ],
            [
             0.1111111111111111,
             "#46039f"
            ],
            [
             0.2222222222222222,
             "#7201a8"
            ],
            [
             0.3333333333333333,
             "#9c179e"
            ],
            [
             0.4444444444444444,
             "#bd3786"
            ],
            [
             0.5555555555555556,
             "#d8576b"
            ],
            [
             0.6666666666666666,
             "#ed7953"
            ],
            [
             0.7777777777777778,
             "#fb9f3a"
            ],
            [
             0.8888888888888888,
             "#fdca26"
            ],
            [
             1,
             "#f0f921"
            ]
           ]
          },
          "colorway": [
           "#636efa",
           "#EF553B",
           "#00cc96",
           "#ab63fa",
           "#FFA15A",
           "#19d3f3",
           "#FF6692",
           "#B6E880",
           "#FF97FF",
           "#FECB52"
          ],
          "font": {
           "color": "#2a3f5f"
          },
          "geo": {
           "bgcolor": "white",
           "lakecolor": "white",
           "landcolor": "#E5ECF6",
           "showlakes": true,
           "showland": true,
           "subunitcolor": "white"
          },
          "hoverlabel": {
           "align": "left"
          },
          "hovermode": "closest",
          "mapbox": {
           "style": "light"
          },
          "paper_bgcolor": "white",
          "plot_bgcolor": "#E5ECF6",
          "polar": {
           "angularaxis": {
            "gridcolor": "white",
            "linecolor": "white",
            "ticks": ""
           },
           "bgcolor": "#E5ECF6",
           "radialaxis": {
            "gridcolor": "white",
            "linecolor": "white",
            "ticks": ""
           }
          },
          "scene": {
           "xaxis": {
            "backgroundcolor": "#E5ECF6",
            "gridcolor": "white",
            "gridwidth": 2,
            "linecolor": "white",
            "showbackground": true,
            "ticks": "",
            "zerolinecolor": "white"
           },
           "yaxis": {
            "backgroundcolor": "#E5ECF6",
            "gridcolor": "white",
            "gridwidth": 2,
            "linecolor": "white",
            "showbackground": true,
            "ticks": "",
            "zerolinecolor": "white"
           },
           "zaxis": {
            "backgroundcolor": "#E5ECF6",
            "gridcolor": "white",
            "gridwidth": 2,
            "linecolor": "white",
            "showbackground": true,
            "ticks": "",
            "zerolinecolor": "white"
           }
          },
          "shapedefaults": {
           "line": {
            "color": "#2a3f5f"
           }
          },
          "ternary": {
           "aaxis": {
            "gridcolor": "white",
            "linecolor": "white",
            "ticks": ""
           },
           "baxis": {
            "gridcolor": "white",
            "linecolor": "white",
            "ticks": ""
           },
           "bgcolor": "#E5ECF6",
           "caxis": {
            "gridcolor": "white",
            "linecolor": "white",
            "ticks": ""
           }
          },
          "title": {
           "x": 0.05
          },
          "xaxis": {
           "automargin": true,
           "gridcolor": "white",
           "linecolor": "white",
           "ticks": "",
           "title": {
            "standoff": 15
           },
           "zerolinecolor": "white",
           "zerolinewidth": 2
          },
          "yaxis": {
           "automargin": true,
           "gridcolor": "white",
           "linecolor": "white",
           "ticks": "",
           "title": {
            "standoff": 15
           },
           "zerolinecolor": "white",
           "zerolinewidth": 2
          }
         }
        },
        "title": {
         "text": "Return of each require return"
        },
        "xaxis": {
         "title": {
          "text": "Day trade"
         }
        },
        "yaxis": {
         "title": {
          "text": "Wealth"
         }
        }
       }
      }
     },
     "metadata": {},
     "output_type": "display_data"
    }
   ],
   "source": [
    "W = 100000\n",
    "rr_0_01 = np.exp(rr_0_01)\n",
    "rr_0_05 = np.exp(rr_0_05)\n",
    "rr_0_1 = np.exp(rr_0_1)\n",
    "\n",
    "W_invest_0_01 = [W]+[W*np.prod(rr_0_01[0:i]) for i in range(1,len(rr_0_01)+1)]\n",
    "W_invest_0_05 = [W]+[W*np.prod(rr_0_05[0:i]) for i in range(1,len(rr_0_05)+1)]\n",
    "W_invest_0_1 = [W]+[W*np.prod(rr_0_1[0:i]) for i in range(1,len(rr_0_1)+1)]\n",
    "\n",
    "fig = go.Figure(data=go.Scatter(x=list(day_trading[require_return[0]].values()), y=W_invest_0_01,name='Require Return is %.2f' % require_return[0]))\n",
    "fig.add_trace(go.Scatter(x=list(day_trading[require_return[1]].values()), y=W_invest_0_05, name='Require Return is %.2f' % require_return[1]))\n",
    "fig.add_trace(go.Scatter(x=list(day_trading[require_return[2]].values()), y=W_invest_0_1, name='Require Return is %.2f' % require_return[2]))\n",
    "\n",
    "fig.update_layout(\n",
    "    title_text='Return of each require return', # title of plot\n",
    "    xaxis_title_text='Day trade', # xaxis label\n",
    "    yaxis_title_text='Wealth', # yaxis label\n",
    ")\n",
    "\n",
    "\n",
    "fig.show()"
   ]
  },
  {
   "cell_type": "code",
   "execution_count": 64,
   "metadata": {},
   "outputs": [],
   "source": [
    "Ticker_names = ['^GSPC']\n",
    "interval = '1d'\n",
    "index = [i.date() for i in list(day_trading[require_return[0]].values())]\n",
    "# Call the pull_data function to retrieve historical close prices for the specified tickers and date range\n",
    "SP_500_dataframe = pull_data(Ticker_names, startDate, endDate, interval)\n",
    "\n",
    "# Display the resulting dataframe containing historical close prices\n",
    "SP_500_dataframe = SP_500_dataframe.loc[index]"
   ]
  },
  {
   "cell_type": "code",
   "execution_count": null,
   "metadata": {},
   "outputs": [
    {
     "data": {
      "text/html": [
       "<div>\n",
       "<style scoped>\n",
       "    .dataframe tbody tr th:only-of-type {\n",
       "        vertical-align: middle;\n",
       "    }\n",
       "\n",
       "    .dataframe tbody tr th {\n",
       "        vertical-align: top;\n",
       "    }\n",
       "\n",
       "    .dataframe thead th {\n",
       "        text-align: right;\n",
       "    }\n",
       "</style>\n",
       "<table border=\"1\" class=\"dataframe\">\n",
       "  <thead>\n",
       "    <tr style=\"text-align: right;\">\n",
       "      <th></th>\n",
       "      <th>^GSPC</th>\n",
       "    </tr>\n",
       "  </thead>\n",
       "  <tbody>\n",
       "    <tr>\n",
       "      <th>1990-01-22</th>\n",
       "      <td>330.380005</td>\n",
       "    </tr>\n",
       "    <tr>\n",
       "      <th>1990-02-21</th>\n",
       "      <td>327.670013</td>\n",
       "    </tr>\n",
       "    <tr>\n",
       "      <th>1990-03-23</th>\n",
       "      <td>337.220001</td>\n",
       "    </tr>\n",
       "    <tr>\n",
       "      <th>1990-04-23</th>\n",
       "      <td>331.049988</td>\n",
       "    </tr>\n",
       "    <tr>\n",
       "      <th>1990-05-23</th>\n",
       "      <td>359.290009</td>\n",
       "    </tr>\n",
       "    <tr>\n",
       "      <th>...</th>\n",
       "      <td>...</td>\n",
       "    </tr>\n",
       "    <tr>\n",
       "      <th>2014-09-05</th>\n",
       "      <td>2007.709961</td>\n",
       "    </tr>\n",
       "    <tr>\n",
       "      <th>2014-10-06</th>\n",
       "      <td>1964.819946</td>\n",
       "    </tr>\n",
       "    <tr>\n",
       "      <th>2014-11-05</th>\n",
       "      <td>2023.569946</td>\n",
       "    </tr>\n",
       "    <tr>\n",
       "      <th>2014-12-05</th>\n",
       "      <td>2075.370117</td>\n",
       "    </tr>\n",
       "    <tr>\n",
       "      <th>2015-01-05</th>\n",
       "      <td>2020.579956</td>\n",
       "    </tr>\n",
       "  </tbody>\n",
       "</table>\n",
       "<p>301 rows × 1 columns</p>\n",
       "</div>"
      ],
      "text/plain": [
       "                  ^GSPC\n",
       "1990-01-22   330.380005\n",
       "1990-02-21   327.670013\n",
       "1990-03-23   337.220001\n",
       "1990-04-23   331.049988\n",
       "1990-05-23   359.290009\n",
       "...                 ...\n",
       "2014-09-05  2007.709961\n",
       "2014-10-06  1964.819946\n",
       "2014-11-05  2023.569946\n",
       "2014-12-05  2075.370117\n",
       "2015-01-05  2020.579956\n",
       "\n",
       "[301 rows x 1 columns]"
      ]
     },
     "execution_count": 15,
     "metadata": {},
     "output_type": "execute_result"
    }
   ],
   "source": [
    "SP_500_dataframe"
   ]
  },
  {
   "cell_type": "code",
   "execution_count": 65,
   "metadata": {},
   "outputs": [
    {
     "data": {
      "application/vnd.plotly.v1+json": {
       "config": {
        "plotlyServerURL": "https://plot.ly"
       },
       "data": [
        {
         "name": "S&P 500",
         "type": "scatter",
         "x": [
          "1990-01-22",
          "1990-02-21",
          "1990-03-23",
          "1990-04-23",
          "1990-05-23",
          "1990-06-22",
          "1990-07-23",
          "1990-08-22",
          "1990-09-21",
          "1990-10-22",
          "1990-11-21",
          "1990-12-21",
          "1991-01-21",
          "1991-02-20",
          "1991-03-22",
          "1991-04-22",
          "1991-05-22",
          "1991-06-21",
          "1991-07-22",
          "1991-08-21",
          "1991-09-20",
          "1991-10-21",
          "1991-11-20",
          "1991-12-20",
          "1992-01-20",
          "1992-02-19",
          "1992-03-20",
          "1992-04-20",
          "1992-05-20",
          "1992-06-19",
          "1992-07-20",
          "1992-08-19",
          "1992-09-18",
          "1992-10-19",
          "1992-11-18",
          "1992-12-18",
          "1993-01-18",
          "1993-02-17",
          "1993-03-19",
          "1993-04-19",
          "1993-05-19",
          "1993-06-18",
          "1993-07-19",
          "1993-08-18",
          "1993-09-17",
          "1993-10-18",
          "1993-11-17",
          "1993-12-17",
          "1994-01-17",
          "1994-02-16",
          "1994-03-18",
          "1994-04-18",
          "1994-05-18",
          "1994-06-17",
          "1994-07-18",
          "1994-08-17",
          "1994-09-16",
          "1994-10-17",
          "1994-11-16",
          "1994-12-16",
          "1995-01-16",
          "1995-02-15",
          "1995-03-17",
          "1995-04-17",
          "1995-05-17",
          "1995-06-16",
          "1995-07-17",
          "1995-08-16",
          "1995-09-15",
          "1995-10-16",
          "1995-11-15",
          "1995-12-15",
          "1996-01-15",
          "1996-02-14",
          "1996-03-15",
          "1996-04-15",
          "1996-05-15",
          "1996-06-14",
          "1996-07-15",
          "1996-08-14",
          "1996-09-13",
          "1996-10-14",
          "1996-11-13",
          "1996-12-13",
          "1997-01-13",
          "1997-02-12",
          "1997-03-14",
          "1997-04-14",
          "1997-05-14",
          "1997-06-13",
          "1997-07-14",
          "1997-08-13",
          "1997-09-12",
          "1997-10-13",
          "1997-11-12",
          "1997-12-12",
          "1998-01-12",
          "1998-02-11",
          "1998-03-13",
          "1998-04-13",
          "1998-05-13",
          "1998-06-12",
          "1998-07-13",
          "1998-08-12",
          "1998-09-11",
          "1998-10-12",
          "1998-11-11",
          "1998-12-11",
          "1999-01-11",
          "1999-02-10",
          "1999-03-12",
          "1999-04-12",
          "1999-05-12",
          "1999-06-11",
          "1999-07-12",
          "1999-08-11",
          "1999-09-10",
          "1999-10-11",
          "1999-11-10",
          "1999-12-10",
          "2000-01-10",
          "2000-02-09",
          "2000-03-10",
          "2000-04-10",
          "2000-05-10",
          "2000-06-09",
          "2000-07-10",
          "2000-08-09",
          "2000-09-08",
          "2000-10-09",
          "2000-11-08",
          "2000-12-08",
          "2001-01-08",
          "2001-02-07",
          "2001-03-09",
          "2001-04-09",
          "2001-05-09",
          "2001-06-08",
          "2001-07-09",
          "2001-08-08",
          "2001-09-07",
          "2001-10-08",
          "2001-11-07",
          "2001-12-07",
          "2002-01-07",
          "2002-02-06",
          "2002-03-08",
          "2002-04-08",
          "2002-05-08",
          "2002-06-07",
          "2002-07-08",
          "2002-08-07",
          "2002-09-06",
          "2002-10-07",
          "2002-11-06",
          "2002-12-06",
          "2003-01-06",
          "2003-02-05",
          "2003-03-07",
          "2003-04-07",
          "2003-05-07",
          "2003-06-06",
          "2003-07-07",
          "2003-08-06",
          "2003-09-05",
          "2003-10-06",
          "2003-11-05",
          "2003-12-05",
          "2004-01-05",
          "2004-02-04",
          "2004-03-05",
          "2004-04-05",
          "2004-05-05",
          "2004-06-04",
          "2004-07-06",
          "2004-08-05",
          "2004-09-07",
          "2004-10-07",
          "2004-11-08",
          "2004-12-08",
          "2005-01-07",
          "2005-02-07",
          "2005-03-09",
          "2005-04-08",
          "2005-05-09",
          "2005-06-08",
          "2005-07-08",
          "2005-08-08",
          "2005-09-07",
          "2005-10-07",
          "2005-11-07",
          "2005-12-07",
          "2006-01-06",
          "2006-02-06",
          "2006-03-08",
          "2006-04-07",
          "2006-05-08",
          "2006-06-07",
          "2006-07-07",
          "2006-08-07",
          "2006-09-06",
          "2006-10-06",
          "2006-11-06",
          "2006-12-06",
          "2007-01-05",
          "2007-02-05",
          "2007-03-07",
          "2007-04-09",
          "2007-05-09",
          "2007-06-08",
          "2007-07-09",
          "2007-08-08",
          "2007-09-07",
          "2007-10-08",
          "2007-11-07",
          "2007-12-07",
          "2008-01-07",
          "2008-02-06",
          "2008-03-07",
          "2008-04-07",
          "2008-05-07",
          "2008-06-06",
          "2008-07-07",
          "2008-08-06",
          "2008-09-05",
          "2008-10-06",
          "2008-11-05",
          "2008-12-05",
          "2009-01-05",
          "2009-02-04",
          "2009-03-06",
          "2009-04-06",
          "2009-05-06",
          "2009-06-05",
          "2009-07-06",
          "2009-08-05",
          "2009-09-04",
          "2009-10-05",
          "2009-11-04",
          "2009-12-04",
          "2010-01-04",
          "2010-02-03",
          "2010-03-05",
          "2010-04-05",
          "2010-05-05",
          "2010-06-04",
          "2010-07-06",
          "2010-08-05",
          "2010-09-07",
          "2010-10-07",
          "2010-11-08",
          "2010-12-08",
          "2011-01-07",
          "2011-02-07",
          "2011-03-09",
          "2011-04-08",
          "2011-05-09",
          "2011-06-08",
          "2011-07-08",
          "2011-08-08",
          "2011-09-07",
          "2011-10-07",
          "2011-11-07",
          "2011-12-07",
          "2012-01-06",
          "2012-02-06",
          "2012-03-07",
          "2012-04-09",
          "2012-05-09",
          "2012-06-08",
          "2012-07-09",
          "2012-08-08",
          "2012-09-07",
          "2012-10-08",
          "2012-11-07",
          "2012-12-07",
          "2013-01-07",
          "2013-02-06",
          "2013-03-08",
          "2013-04-08",
          "2013-05-08",
          "2013-06-07",
          "2013-07-08",
          "2013-08-07",
          "2013-09-06",
          "2013-10-07",
          "2013-11-06",
          "2013-12-06",
          "2014-01-06",
          "2014-02-05",
          "2014-03-07",
          "2014-04-07",
          "2014-05-07",
          "2014-06-06",
          "2014-07-07",
          "2014-08-06",
          "2014-09-05",
          "2014-10-06",
          "2014-11-05",
          "2014-12-05",
          "2015-01-05"
         ],
         "y": [
          100000,
          99176.35234403583,
          102025.53964908024,
          100141.52017174849,
          108339.15519616968,
          107168.92091256064,
          107132.73398760176,
          94757.88839060234,
          93179.23876017603,
          94203.19744201087,
          94582.5223705401,
          99173.98658680562,
          98967.50111482703,
          108664.46170623778,
          109358.6150141933,
          113295.44200530439,
          111870.88510683943,
          112333.83588842466,
          113849.11101778918,
          116118.89458021223,
          115322.4072498985,
          115945.01266214934,
          112477.94779682168,
          114978.64101222965,
          123374.63048313333,
          120950.8143186589,
          121848.09946028887,
          121515.84702751802,
          123049.59615195123,
          119527.9010236298,
          122475.9588016078,
          123783.26153378288,
          125178.3957959814,
          122802.97167342322,
          125110.09171961871,
          130447.5473574213,
          129128.38285182431,
          128077.70569874233,
          132972.47519252438,
          132166.61447278567,
          132199.10595364255,
          131045.08693698264,
          131737.35177217037,
          134661.17430838587,
          135482.4994893259,
          138293.7148337233,
          137214.9292966766,
          137677.62465971586,
          139705.4299557382,
          139554.81663714643,
          139043.2276456963,
          130334.19617145447,
          133600.90618098507,
          134995.31357640208,
          134040.83732996674,
          136939.08678281397,
          138699.9119834499,
          138041.92568422644,
          137055.25467524971,
          135032.93837496528,
          138111.46341645584,
          142501.6566403417,
          145694.78946654615,
          148781.4601726487,
          154813.03349098755,
          158516.3045927936,
          165099.13954423653,
          164290.3257746664,
          171010.48171828606,
          170916.66294539932,
          174091.15295112817,
          180530.22566934503,
          175625.36738733586,
          191236.83689792693,
          187063.9881820914,
          187372.86633410165,
          193943.50011386248,
          194068.78542798248,
          183266.5104514876,
          192418.61531023946,
          197718.88324767232,
          204290.6899607063,
          212149.05554370073,
          211425.31196520294,
          220198.13009078027,
          232395.9548576461,
          229600.06455712425,
          214823.11612085058,
          239957.07550073016,
          255845.22763163963,
          262937.8572923472,
          263977.9560616209,
          264518.50339352817,
          276877.0002495946,
          258508.92930256712,
          271700.35304371733,
          267628.9369655693,
          289715.97844063386,
          303201.1806769876,
          314638.5111791883,
          317227.87677866407,
          311500.2481934963,
          329763.2170348413,
          306012.57990459946,
          284028.1448815069,
          280815.2735974251,
          313526.59108801925,
          325998.40674467257,
          352147.6747548182,
          340727.5788252363,
          359957.39392813924,
          377337.1542818828,
          378825.64247158164,
          358762.43114517024,
          386878.3536116357,
          359030.3331771851,
          372488.82642609923,
          367927.7236935435,
          378319.6661636445,
          390137.29111523955,
          401147.36116554006,
          388314.84846786555,
          383710.5398410058,
          412676.6371223469,
          377952.8845501235,
          397626.819585474,
          402689.82618530164,
          401938.66382980224,
          407798.45836885925,
          381752.16878522065,
          383721.1507200686,
          372843.23124842125,
          352129.59026116744,
          364157.99459126947,
          333735.23461271,
          306743.1043341495,
          337004.48655323236,
          339523.4873191668,
          321278.8284751647,
          317165.535966515,
          289824.9554724022,
          283526.8982733905,
          297420.7329330092,
          308541.4180596502,
          310289.17489204207,
          287817.7553796108,
          308518.4450000654,
          298001.7076533355,
          288191.8657473472,
          271487.0610160142,
          257791.35039190025,
          229892.79963086123,
          234346.1781226258,
          203980.56417977132,
          237109.44105105242,
          234131.30417962334,
          238398.9052922581,
          215404.6425904446,
          211618.0115519156,
          224263.2197004539,
          236582.79330746565,
          250934.82062866213,
          255131.89604097506,
          245466.40717576866,
          258878.32302918285,
          262142.4492501118,
          266530.5457760277,
          268974.7526358889,
          283936.6986638469,
          285022.5895732364,
          292597.39935349696,
          291002.15816751786,
          283563.1028347266,
          283808.2403023858,
          282213.4203869463,
          273089.4466324231,
          283160.94060633064,
          285512.2921096934,
          294030.2556551352,
          298519.0210610497,
          299370.8235034909,
          303264.8591931896,
          304596.9184474254,
          298012.93250273255,
          297416.9202195135,
          301384.2115932763,
          305689.8840682986,
          308519.5922628579,
          311838.77434147196,
          301463.1166929429,
          308171.41760167934,
          316760.36985873466,
          323756.5229716058,
          318569.66315224924,
          321938.8813282666,
          326198.99985769077,
          333459.90499202907,
          315751.736341979,
          318088.29107982945,
          320664.31376911496,
          326761.52725233644,
          338929.0042035364,
          346427.22211169585,
          354644.5657753921,
          353842.93950466835,
          363078.78806613036,
          349003.84237838094,
          361958.65207786247,
          378600.5677197088,
          377369.61190504517,
          383373.8256325723,
          374676.6941680249,
          363518.2628514035,
          387477.4466519348,
          367778.17159826483,
          374945.7064631843,
          352222.557606219,
          329167.1327443729,
          320854.03241233894,
          339916.5656716428,
          344841.2279104981,
          336852.52980576205,
          308895.5478703446,
          317860.9866417847,
          306086.947876739,
          256610.4568318451,
          229996.77708394718,
          210693.71173807146,
          222701.75591844495,
          198576.4576904137,
          159445.42962210803,
          191486.83466620473,
          209842.05704478454,
          214482.28230830474,
          204829.689987066,
          227258.55355027172,
          230338.0701696027,
          235727.03409841727,
          237091.5111330477,
          250198.0577059506,
          256234.92280262444,
          248028.81227911974,
          257218.97449330756,
          267999.6549966815,
          263086.6599292182,
          239249.57106011437,
          230830.72957167667,
          251796.90943279586,
          244082.22642635083,
          258454.2582013488,
          272608.5080581076,
          273727.1814497855,
          283193.3421943151,
          293590.6474583425,
          293806.4616142329,
          295614.8947989776,
          299620.65465127677,
          284389.02651470236,
          298319.863706364,
          243830.22914723295,
          260489.80755943156,
          250937.02330652418,
          272894.44241875224,
          272870.6415907618,
          276482.0097796892,
          290512.9171602154,
          292301.0631062221,
          298622.2338704223,
          292594.5480791198,
          286280.0837665649,
          292009.8803456329,
          302560.6489272174,
          310167.3205722472,
          314017.38926640153,
          300497.9765623371,
          305528.1000483418,
          314826.3512291708,
          325461.9747501648,
          333762.33882526675,
          336310.89313980046,
          350966.3545240223,
          353256.8220572242,
          352628.57846009225,
          363309.7683696335,
          355548.33941459697,
          360020.3718481086,
          379740.3952942193,
          387089.92667111644,
          391711.37690236093,
          375260.71713207534,
          401407.4580245668,
          394291.4182130369,
          401316.9800537377,
          416255.1807183307,
          422235.58620413044,
          409796.90148239356,
          428051.1309059884,
          418807.7353302231,
          431146.9172772391,
          442044.69704000425,
          430217.82196263754
         ]
        }
       ],
       "layout": {
        "template": {
         "data": {
          "bar": [
           {
            "error_x": {
             "color": "#2a3f5f"
            },
            "error_y": {
             "color": "#2a3f5f"
            },
            "marker": {
             "line": {
              "color": "#E5ECF6",
              "width": 0.5
             },
             "pattern": {
              "fillmode": "overlay",
              "size": 10,
              "solidity": 0.2
             }
            },
            "type": "bar"
           }
          ],
          "barpolar": [
           {
            "marker": {
             "line": {
              "color": "#E5ECF6",
              "width": 0.5
             },
             "pattern": {
              "fillmode": "overlay",
              "size": 10,
              "solidity": 0.2
             }
            },
            "type": "barpolar"
           }
          ],
          "carpet": [
           {
            "aaxis": {
             "endlinecolor": "#2a3f5f",
             "gridcolor": "white",
             "linecolor": "white",
             "minorgridcolor": "white",
             "startlinecolor": "#2a3f5f"
            },
            "baxis": {
             "endlinecolor": "#2a3f5f",
             "gridcolor": "white",
             "linecolor": "white",
             "minorgridcolor": "white",
             "startlinecolor": "#2a3f5f"
            },
            "type": "carpet"
           }
          ],
          "choropleth": [
           {
            "colorbar": {
             "outlinewidth": 0,
             "ticks": ""
            },
            "type": "choropleth"
           }
          ],
          "contour": [
           {
            "colorbar": {
             "outlinewidth": 0,
             "ticks": ""
            },
            "colorscale": [
             [
              0,
              "#0d0887"
             ],
             [
              0.1111111111111111,
              "#46039f"
             ],
             [
              0.2222222222222222,
              "#7201a8"
             ],
             [
              0.3333333333333333,
              "#9c179e"
             ],
             [
              0.4444444444444444,
              "#bd3786"
             ],
             [
              0.5555555555555556,
              "#d8576b"
             ],
             [
              0.6666666666666666,
              "#ed7953"
             ],
             [
              0.7777777777777778,
              "#fb9f3a"
             ],
             [
              0.8888888888888888,
              "#fdca26"
             ],
             [
              1,
              "#f0f921"
             ]
            ],
            "type": "contour"
           }
          ],
          "contourcarpet": [
           {
            "colorbar": {
             "outlinewidth": 0,
             "ticks": ""
            },
            "type": "contourcarpet"
           }
          ],
          "heatmap": [
           {
            "colorbar": {
             "outlinewidth": 0,
             "ticks": ""
            },
            "colorscale": [
             [
              0,
              "#0d0887"
             ],
             [
              0.1111111111111111,
              "#46039f"
             ],
             [
              0.2222222222222222,
              "#7201a8"
             ],
             [
              0.3333333333333333,
              "#9c179e"
             ],
             [
              0.4444444444444444,
              "#bd3786"
             ],
             [
              0.5555555555555556,
              "#d8576b"
             ],
             [
              0.6666666666666666,
              "#ed7953"
             ],
             [
              0.7777777777777778,
              "#fb9f3a"
             ],
             [
              0.8888888888888888,
              "#fdca26"
             ],
             [
              1,
              "#f0f921"
             ]
            ],
            "type": "heatmap"
           }
          ],
          "heatmapgl": [
           {
            "colorbar": {
             "outlinewidth": 0,
             "ticks": ""
            },
            "colorscale": [
             [
              0,
              "#0d0887"
             ],
             [
              0.1111111111111111,
              "#46039f"
             ],
             [
              0.2222222222222222,
              "#7201a8"
             ],
             [
              0.3333333333333333,
              "#9c179e"
             ],
             [
              0.4444444444444444,
              "#bd3786"
             ],
             [
              0.5555555555555556,
              "#d8576b"
             ],
             [
              0.6666666666666666,
              "#ed7953"
             ],
             [
              0.7777777777777778,
              "#fb9f3a"
             ],
             [
              0.8888888888888888,
              "#fdca26"
             ],
             [
              1,
              "#f0f921"
             ]
            ],
            "type": "heatmapgl"
           }
          ],
          "histogram": [
           {
            "marker": {
             "pattern": {
              "fillmode": "overlay",
              "size": 10,
              "solidity": 0.2
             }
            },
            "type": "histogram"
           }
          ],
          "histogram2d": [
           {
            "colorbar": {
             "outlinewidth": 0,
             "ticks": ""
            },
            "colorscale": [
             [
              0,
              "#0d0887"
             ],
             [
              0.1111111111111111,
              "#46039f"
             ],
             [
              0.2222222222222222,
              "#7201a8"
             ],
             [
              0.3333333333333333,
              "#9c179e"
             ],
             [
              0.4444444444444444,
              "#bd3786"
             ],
             [
              0.5555555555555556,
              "#d8576b"
             ],
             [
              0.6666666666666666,
              "#ed7953"
             ],
             [
              0.7777777777777778,
              "#fb9f3a"
             ],
             [
              0.8888888888888888,
              "#fdca26"
             ],
             [
              1,
              "#f0f921"
             ]
            ],
            "type": "histogram2d"
           }
          ],
          "histogram2dcontour": [
           {
            "colorbar": {
             "outlinewidth": 0,
             "ticks": ""
            },
            "colorscale": [
             [
              0,
              "#0d0887"
             ],
             [
              0.1111111111111111,
              "#46039f"
             ],
             [
              0.2222222222222222,
              "#7201a8"
             ],
             [
              0.3333333333333333,
              "#9c179e"
             ],
             [
              0.4444444444444444,
              "#bd3786"
             ],
             [
              0.5555555555555556,
              "#d8576b"
             ],
             [
              0.6666666666666666,
              "#ed7953"
             ],
             [
              0.7777777777777778,
              "#fb9f3a"
             ],
             [
              0.8888888888888888,
              "#fdca26"
             ],
             [
              1,
              "#f0f921"
             ]
            ],
            "type": "histogram2dcontour"
           }
          ],
          "mesh3d": [
           {
            "colorbar": {
             "outlinewidth": 0,
             "ticks": ""
            },
            "type": "mesh3d"
           }
          ],
          "parcoords": [
           {
            "line": {
             "colorbar": {
              "outlinewidth": 0,
              "ticks": ""
             }
            },
            "type": "parcoords"
           }
          ],
          "pie": [
           {
            "automargin": true,
            "type": "pie"
           }
          ],
          "scatter": [
           {
            "fillpattern": {
             "fillmode": "overlay",
             "size": 10,
             "solidity": 0.2
            },
            "type": "scatter"
           }
          ],
          "scatter3d": [
           {
            "line": {
             "colorbar": {
              "outlinewidth": 0,
              "ticks": ""
             }
            },
            "marker": {
             "colorbar": {
              "outlinewidth": 0,
              "ticks": ""
             }
            },
            "type": "scatter3d"
           }
          ],
          "scattercarpet": [
           {
            "marker": {
             "colorbar": {
              "outlinewidth": 0,
              "ticks": ""
             }
            },
            "type": "scattercarpet"
           }
          ],
          "scattergeo": [
           {
            "marker": {
             "colorbar": {
              "outlinewidth": 0,
              "ticks": ""
             }
            },
            "type": "scattergeo"
           }
          ],
          "scattergl": [
           {
            "marker": {
             "colorbar": {
              "outlinewidth": 0,
              "ticks": ""
             }
            },
            "type": "scattergl"
           }
          ],
          "scattermapbox": [
           {
            "marker": {
             "colorbar": {
              "outlinewidth": 0,
              "ticks": ""
             }
            },
            "type": "scattermapbox"
           }
          ],
          "scatterpolar": [
           {
            "marker": {
             "colorbar": {
              "outlinewidth": 0,
              "ticks": ""
             }
            },
            "type": "scatterpolar"
           }
          ],
          "scatterpolargl": [
           {
            "marker": {
             "colorbar": {
              "outlinewidth": 0,
              "ticks": ""
             }
            },
            "type": "scatterpolargl"
           }
          ],
          "scatterternary": [
           {
            "marker": {
             "colorbar": {
              "outlinewidth": 0,
              "ticks": ""
             }
            },
            "type": "scatterternary"
           }
          ],
          "surface": [
           {
            "colorbar": {
             "outlinewidth": 0,
             "ticks": ""
            },
            "colorscale": [
             [
              0,
              "#0d0887"
             ],
             [
              0.1111111111111111,
              "#46039f"
             ],
             [
              0.2222222222222222,
              "#7201a8"
             ],
             [
              0.3333333333333333,
              "#9c179e"
             ],
             [
              0.4444444444444444,
              "#bd3786"
             ],
             [
              0.5555555555555556,
              "#d8576b"
             ],
             [
              0.6666666666666666,
              "#ed7953"
             ],
             [
              0.7777777777777778,
              "#fb9f3a"
             ],
             [
              0.8888888888888888,
              "#fdca26"
             ],
             [
              1,
              "#f0f921"
             ]
            ],
            "type": "surface"
           }
          ],
          "table": [
           {
            "cells": {
             "fill": {
              "color": "#EBF0F8"
             },
             "line": {
              "color": "white"
             }
            },
            "header": {
             "fill": {
              "color": "#C8D4E3"
             },
             "line": {
              "color": "white"
             }
            },
            "type": "table"
           }
          ]
         },
         "layout": {
          "annotationdefaults": {
           "arrowcolor": "#2a3f5f",
           "arrowhead": 0,
           "arrowwidth": 1
          },
          "autotypenumbers": "strict",
          "coloraxis": {
           "colorbar": {
            "outlinewidth": 0,
            "ticks": ""
           }
          },
          "colorscale": {
           "diverging": [
            [
             0,
             "#8e0152"
            ],
            [
             0.1,
             "#c51b7d"
            ],
            [
             0.2,
             "#de77ae"
            ],
            [
             0.3,
             "#f1b6da"
            ],
            [
             0.4,
             "#fde0ef"
            ],
            [
             0.5,
             "#f7f7f7"
            ],
            [
             0.6,
             "#e6f5d0"
            ],
            [
             0.7,
             "#b8e186"
            ],
            [
             0.8,
             "#7fbc41"
            ],
            [
             0.9,
             "#4d9221"
            ],
            [
             1,
             "#276419"
            ]
           ],
           "sequential": [
            [
             0,
             "#0d0887"
            ],
            [
             0.1111111111111111,
             "#46039f"
            ],
            [
             0.2222222222222222,
             "#7201a8"
            ],
            [
             0.3333333333333333,
             "#9c179e"
            ],
            [
             0.4444444444444444,
             "#bd3786"
            ],
            [
             0.5555555555555556,
             "#d8576b"
            ],
            [
             0.6666666666666666,
             "#ed7953"
            ],
            [
             0.7777777777777778,
             "#fb9f3a"
            ],
            [
             0.8888888888888888,
             "#fdca26"
            ],
            [
             1,
             "#f0f921"
            ]
           ],
           "sequentialminus": [
            [
             0,
             "#0d0887"
            ],
            [
             0.1111111111111111,
             "#46039f"
            ],
            [
             0.2222222222222222,
             "#7201a8"
            ],
            [
             0.3333333333333333,
             "#9c179e"
            ],
            [
             0.4444444444444444,
             "#bd3786"
            ],
            [
             0.5555555555555556,
             "#d8576b"
            ],
            [
             0.6666666666666666,
             "#ed7953"
            ],
            [
             0.7777777777777778,
             "#fb9f3a"
            ],
            [
             0.8888888888888888,
             "#fdca26"
            ],
            [
             1,
             "#f0f921"
            ]
           ]
          },
          "colorway": [
           "#636efa",
           "#EF553B",
           "#00cc96",
           "#ab63fa",
           "#FFA15A",
           "#19d3f3",
           "#FF6692",
           "#B6E880",
           "#FF97FF",
           "#FECB52"
          ],
          "font": {
           "color": "#2a3f5f"
          },
          "geo": {
           "bgcolor": "white",
           "lakecolor": "white",
           "landcolor": "#E5ECF6",
           "showlakes": true,
           "showland": true,
           "subunitcolor": "white"
          },
          "hoverlabel": {
           "align": "left"
          },
          "hovermode": "closest",
          "mapbox": {
           "style": "light"
          },
          "paper_bgcolor": "white",
          "plot_bgcolor": "#E5ECF6",
          "polar": {
           "angularaxis": {
            "gridcolor": "white",
            "linecolor": "white",
            "ticks": ""
           },
           "bgcolor": "#E5ECF6",
           "radialaxis": {
            "gridcolor": "white",
            "linecolor": "white",
            "ticks": ""
           }
          },
          "scene": {
           "xaxis": {
            "backgroundcolor": "#E5ECF6",
            "gridcolor": "white",
            "gridwidth": 2,
            "linecolor": "white",
            "showbackground": true,
            "ticks": "",
            "zerolinecolor": "white"
           },
           "yaxis": {
            "backgroundcolor": "#E5ECF6",
            "gridcolor": "white",
            "gridwidth": 2,
            "linecolor": "white",
            "showbackground": true,
            "ticks": "",
            "zerolinecolor": "white"
           },
           "zaxis": {
            "backgroundcolor": "#E5ECF6",
            "gridcolor": "white",
            "gridwidth": 2,
            "linecolor": "white",
            "showbackground": true,
            "ticks": "",
            "zerolinecolor": "white"
           }
          },
          "shapedefaults": {
           "line": {
            "color": "#2a3f5f"
           }
          },
          "ternary": {
           "aaxis": {
            "gridcolor": "white",
            "linecolor": "white",
            "ticks": ""
           },
           "baxis": {
            "gridcolor": "white",
            "linecolor": "white",
            "ticks": ""
           },
           "bgcolor": "#E5ECF6",
           "caxis": {
            "gridcolor": "white",
            "linecolor": "white",
            "ticks": ""
           }
          },
          "title": {
           "x": 0.05
          },
          "xaxis": {
           "automargin": true,
           "gridcolor": "white",
           "linecolor": "white",
           "ticks": "",
           "title": {
            "standoff": 15
           },
           "zerolinecolor": "white",
           "zerolinewidth": 2
          },
          "yaxis": {
           "automargin": true,
           "gridcolor": "white",
           "linecolor": "white",
           "ticks": "",
           "title": {
            "standoff": 15
           },
           "zerolinecolor": "white",
           "zerolinewidth": 2
          }
         }
        },
        "title": {
         "text": "Return of S&P 500"
        },
        "xaxis": {
         "title": {
          "text": "Day trade"
         }
        },
        "yaxis": {
         "title": {
          "text": "Wealth"
         }
        }
       }
      }
     },
     "metadata": {},
     "output_type": "display_data"
    }
   ],
   "source": [
    "log_return_sp_500 = Log_return(SP_500_dataframe)\n",
    "log_return_sp_500 = np.exp(log_return_sp_500)\n",
    "W_invest_SP = [W*np.prod(np.array(log_return_sp_500['^GSPC'].tolist())[0:i]) for i in range(1,len(np.array(log_return_sp_500['^GSPC'].tolist()))+1)]\n",
    "fig = go.Figure(data=go.Scatter(x=index, y=W_invest_SP,name='S&P 500'))\n",
    "fig.update_layout(\n",
    "    title_text='Return of S&P 500', # title of plot\n",
    "    xaxis_title_text='Day trade', # xaxis label\n",
    "    yaxis_title_text='Wealth', # yaxis label\n",
    ")\n",
    "fig.show()"
   ]
  },
  {
   "cell_type": "code",
   "execution_count": 75,
   "metadata": {},
   "outputs": [
    {
     "data": {
      "text/plain": [
       "datetime.date(1990, 1, 22)"
      ]
     },
     "execution_count": 75,
     "metadata": {},
     "output_type": "execute_result"
    }
   ],
   "source": [
    "index"
   ]
  },
  {
   "cell_type": "code",
   "execution_count": 81,
   "metadata": {},
   "outputs": [
    {
     "data": {
      "text/html": [
       "<div>\n",
       "<style scoped>\n",
       "    .dataframe tbody tr th:only-of-type {\n",
       "        vertical-align: middle;\n",
       "    }\n",
       "\n",
       "    .dataframe tbody tr th {\n",
       "        vertical-align: top;\n",
       "    }\n",
       "\n",
       "    .dataframe thead th {\n",
       "        text-align: right;\n",
       "    }\n",
       "</style>\n",
       "<table border=\"1\" class=\"dataframe\">\n",
       "  <thead>\n",
       "    <tr style=\"text-align: right;\">\n",
       "      <th></th>\n",
       "      <th>AAPL</th>\n",
       "      <th>AMD</th>\n",
       "      <th>MSFT</th>\n",
       "    </tr>\n",
       "  </thead>\n",
       "  <tbody>\n",
       "    <tr>\n",
       "      <th>1990-01-22</th>\n",
       "      <td>0.235128</td>\n",
       "      <td>3.7500</td>\n",
       "      <td>0.390706</td>\n",
       "    </tr>\n",
       "    <tr>\n",
       "      <th>1990-02-21</th>\n",
       "      <td>0.241206</td>\n",
       "      <td>3.7500</td>\n",
       "      <td>0.413847</td>\n",
       "    </tr>\n",
       "    <tr>\n",
       "      <th>1990-03-23</th>\n",
       "      <td>0.299734</td>\n",
       "      <td>4.9375</td>\n",
       "      <td>0.474660</td>\n",
       "    </tr>\n",
       "    <tr>\n",
       "      <th>1990-04-23</th>\n",
       "      <td>0.281998</td>\n",
       "      <td>4.1875</td>\n",
       "      <td>0.508026</td>\n",
       "    </tr>\n",
       "    <tr>\n",
       "      <th>1990-05-23</th>\n",
       "      <td>0.298787</td>\n",
       "      <td>5.5625</td>\n",
       "      <td>0.653330</td>\n",
       "    </tr>\n",
       "    <tr>\n",
       "      <th>...</th>\n",
       "      <td>...</td>\n",
       "      <td>...</td>\n",
       "      <td>...</td>\n",
       "    </tr>\n",
       "    <tr>\n",
       "      <th>2014-09-05</th>\n",
       "      <td>22.052408</td>\n",
       "      <td>4.1500</td>\n",
       "      <td>39.468445</td>\n",
       "    </tr>\n",
       "    <tr>\n",
       "      <th>2014-10-06</th>\n",
       "      <td>22.197241</td>\n",
       "      <td>3.3600</td>\n",
       "      <td>39.623196</td>\n",
       "    </tr>\n",
       "    <tr>\n",
       "      <th>2014-11-05</th>\n",
       "      <td>24.256094</td>\n",
       "      <td>2.8000</td>\n",
       "      <td>41.144859</td>\n",
       "    </tr>\n",
       "    <tr>\n",
       "      <th>2014-12-05</th>\n",
       "      <td>25.735317</td>\n",
       "      <td>2.6600</td>\n",
       "      <td>41.888836</td>\n",
       "    </tr>\n",
       "    <tr>\n",
       "      <th>2015-01-05</th>\n",
       "      <td>23.777185</td>\n",
       "      <td>2.6600</td>\n",
       "      <td>40.080742</td>\n",
       "    </tr>\n",
       "  </tbody>\n",
       "</table>\n",
       "<p>301 rows × 3 columns</p>\n",
       "</div>"
      ],
      "text/plain": [
       "                 AAPL     AMD       MSFT\n",
       "1990-01-22   0.235128  3.7500   0.390706\n",
       "1990-02-21   0.241206  3.7500   0.413847\n",
       "1990-03-23   0.299734  4.9375   0.474660\n",
       "1990-04-23   0.281998  4.1875   0.508026\n",
       "1990-05-23   0.298787  5.5625   0.653330\n",
       "...               ...     ...        ...\n",
       "2014-09-05  22.052408  4.1500  39.468445\n",
       "2014-10-06  22.197241  3.3600  39.623196\n",
       "2014-11-05  24.256094  2.8000  41.144859\n",
       "2014-12-05  25.735317  2.6600  41.888836\n",
       "2015-01-05  23.777185  2.6600  40.080742\n",
       "\n",
       "[301 rows x 3 columns]"
      ]
     },
     "execution_count": 81,
     "metadata": {},
     "output_type": "execute_result"
    }
   ],
   "source": [
    "Close_price_dataframe.loc[index]"
   ]
  },
  {
   "cell_type": "code",
   "execution_count": 82,
   "metadata": {},
   "outputs": [
    {
     "data": {
      "text/plain": [
       "103.34782608695652"
      ]
     },
     "execution_count": 82,
     "metadata": {},
     "output_type": "execute_result"
    }
   ],
   "source": [
    "23.77/0.23"
   ]
  },
  {
   "cell_type": "code",
   "execution_count": 83,
   "metadata": {},
   "outputs": [
    {
     "data": {
      "text/plain": [
       "102.76923076923076"
      ]
     },
     "execution_count": 83,
     "metadata": {},
     "output_type": "execute_result"
    }
   ],
   "source": [
    "40.08/0.39"
   ]
  }
 ],
 "metadata": {
  "kernelspec": {
   "display_name": "base",
   "language": "python",
   "name": "python3"
  },
  "language_info": {
   "codemirror_mode": {
    "name": "ipython",
    "version": 3
   },
   "file_extension": ".py",
   "mimetype": "text/x-python",
   "name": "python",
   "nbconvert_exporter": "python",
   "pygments_lexer": "ipython3",
   "version": "3.10.9"
  }
 },
 "nbformat": 4,
 "nbformat_minor": 2
}
